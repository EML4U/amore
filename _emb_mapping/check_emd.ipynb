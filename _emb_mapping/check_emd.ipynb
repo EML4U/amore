{
 "cells": [
  {
   "cell_type": "markdown",
   "metadata": {},
   "source": [
    "# Check embeddings available for all years from 2000"
   ]
  },
  {
   "cell_type": "code",
   "execution_count": 2,
   "metadata": {},
   "outputs": [],
   "source": [
    "# Reload modules every time before executing the Python code typed\n",
    "%load_ext autoreload\n",
    "%autoreload 2\n",
    "\n",
    "# Import from vm notebook dir\n",
    "import sys; sys.path.insert(0, '../../')\n",
    "\n",
    "import os\n",
    "from datetime import datetime\n",
    "\n",
    "from ExplainingDriftTextEmbeddings.access.file_storage import FileStorage\n",
    "from ExplainingDriftTextEmbeddings.access.amazon_pickle_reader import AmazonPickleReader\n",
    "from ExplainingDriftTextEmbeddings.access.interim_storage import InterimStorage\n",
    "\n",
    "from BenchTest.amore.amazon_reviews_reader import AmazonReviewsReader"
   ]
  },
  {
   "cell_type": "code",
   "execution_count": 3,
   "metadata": {},
   "outputs": [],
   "source": [
    "file_storage = FileStorage()"
   ]
  },
  {
   "cell_type": "code",
   "execution_count": 4,
   "metadata": {},
   "outputs": [
    {
     "name": "stdout",
     "output_type": "stream",
     "text": [
      "/home/eml4u/EML4U/notebooks/ExplainingDriftTextEmbeddings/data/clustering/amazon_raw.pickle\n",
      "/home/eml4u/EML4U/notebooks/ExplainingDriftTextEmbeddings/data/clustering\n"
     ]
    }
   ],
   "source": [
    "amazon_raw_id = 'amazon_raw.pickle'\n",
    "print(file_storage.get_filepath(amazon_raw_id))\n",
    "\n",
    "amazon_directoy = os.path.dirname(file_storage.get_filepath(amazon_raw_id))\n",
    "print(amazon_directoy)\n",
    "\n",
    "amazon_reader = AmazonPickleReader(amazon_directoy)"
   ]
  },
  {
   "cell_type": "markdown",
   "metadata": {},
   "source": [
    "## Get complete ID mapping"
   ]
  },
  {
   "cell_type": "code",
   "execution_count": 4,
   "metadata": {},
   "outputs": [
    {
     "name": "stdout",
     "output_type": "stream",
     "text": [
      "/tmp/InterimStorage/originalno_to_rawid.pickle.bz2\n",
      "7911684\n"
     ]
    }
   ],
   "source": [
    "interim_storage = InterimStorage('originalno_to_rawid')\n",
    "print(interim_storage.get_filepath())\n",
    "\n",
    "if(not interim_storage.isfile()):\n",
    "\n",
    "    # Config\n",
    "    amazon_raw_id = 'amazon_raw.pickle'\n",
    "    print(file_storage.get_filepath(amazon_raw_id))\n",
    "\n",
    "    amazon_directoy = os.path.dirname(file_storage.get_filepath(amazon_raw_id))\n",
    "    print(amazon_directoy)\n",
    "    \n",
    "    originalno_to_rawid = amazon_reader.originalno_to_rawid\n",
    "    interim_storage.write(originalno_to_rawid)\n",
    "else:\n",
    "    originalno_to_rawid = interim_storage.read()\n",
    "\n",
    "print(len(originalno_to_rawid))"
   ]
  },
  {
   "cell_type": "markdown",
   "metadata": {},
   "source": [
    "## Get original numbers for available embeddings"
   ]
  },
  {
   "cell_type": "code",
   "execution_count": 5,
   "metadata": {},
   "outputs": [
    {
     "name": "stdout",
     "output_type": "stream",
     "text": [
      "7827594\n",
      "7827594\n"
     ]
    }
   ],
   "source": [
    "number_of_all_reviews = 7911684\n",
    "first_available_rawid = 84090\n",
    "print(number_of_all_reviews - first_available_rawid)\n",
    "\n",
    "orig_numbers_with_emb = {} # faster lookup than list\n",
    "for item in originalno_to_rawid.items():\n",
    "    if(item[1] >= first_available_rawid):\n",
    "        orig_numbers_with_emb[item[0]] = item[0]\n",
    "print(len(orig_numbers_with_emb))"
   ]
  },
  {
   "cell_type": "markdown",
   "metadata": {},
   "source": [
    "## Check available embeddings"
   ]
  },
  {
   "cell_type": "code",
   "execution_count": 6,
   "metadata": {},
   "outputs": [
    {
     "name": "stdout",
     "output_type": "stream",
     "text": [
      "[ 0 ]\n",
      "[ 500000 ]\n",
      "[ 1000000 ]\n",
      "[ 1500000 ]\n",
      "[ 2000000 ]\n",
      "[ 2500000 ]\n",
      "[ 3000000 ]\n",
      "[ 3500000 ]\n",
      "[ 4000000 ]\n",
      "[ 4500000 ]\n",
      "[ 5000000 ]\n",
      "[ 5500000 ]\n",
      "[ 6000000 ]\n",
      "6184084\n"
     ]
    }
   ],
   "source": [
    "i = 0\n",
    "for item in AmazonReviewsReader(file_storage.get_filepath('amazon_gz_file'), 'fields', max_docs=-1, min_year=2000, max_year=2010):\n",
    "    #score = int(float(item['score']))\n",
    "    #year = datetime.fromtimestamp(int(item['time'])).year\n",
    "    number = item['number']\n",
    "    if not number in orig_numbers_with_emb.keys():\n",
    "        print(number)\n",
    "    elif i % 500000 == 0:\n",
    "        print('[',i,']')\n",
    "    i += 1\n",
    "\n",
    "print(i)\n",
    "\n",
    "#[ 0 ]\n",
    "#[ 500000 ]\n",
    "#[ 1000000 ]\n",
    "#[ 1500000 ]\n",
    "#[ 2000000 ]\n",
    "#[ 2500000 ]\n",
    "#[ 3000000 ]\n",
    "#[ 3500000 ]\n",
    "#[ 4000000 ]\n",
    "#[ 4500000 ]\n",
    "#[ 5000000 ]\n",
    "#[ 5500000 ]\n",
    "#[ 6000000 ]\n",
    "# 6184084"
   ]
  },
  {
   "cell_type": "code",
   "execution_count": 1,
   "metadata": {},
   "outputs": [
    {
     "ename": "NameError",
     "evalue": "name 'AmazonReviewsReader' is not defined",
     "output_type": "error",
     "traceback": [
      "\u001b[0;31m---------------------------------------------------------------------------\u001b[0m",
      "\u001b[0;31mNameError\u001b[0m                                 Traceback (most recent call last)",
      "\u001b[0;32m/tmp/ipykernel_36434/1204171171.py\u001b[0m in \u001b[0;36m<module>\u001b[0;34m\u001b[0m\n\u001b[1;32m      1\u001b[0m \u001b[0;31m# test\u001b[0m\u001b[0;34m\u001b[0m\u001b[0;34m\u001b[0m\u001b[0;34m\u001b[0m\u001b[0m\n\u001b[0;32m----> 2\u001b[0;31m \u001b[0;32mfor\u001b[0m \u001b[0mitem\u001b[0m \u001b[0;32min\u001b[0m \u001b[0mAmazonReviewsReader\u001b[0m\u001b[0;34m(\u001b[0m\u001b[0mfile_storage\u001b[0m\u001b[0;34m.\u001b[0m\u001b[0mget_filepath\u001b[0m\u001b[0;34m(\u001b[0m\u001b[0;34m'amazon_gz_file'\u001b[0m\u001b[0;34m)\u001b[0m\u001b[0;34m,\u001b[0m \u001b[0;34m'fields'\u001b[0m\u001b[0;34m,\u001b[0m \u001b[0mmax_docs\u001b[0m\u001b[0;34m=\u001b[0m\u001b[0;36m2\u001b[0m\u001b[0;34m,\u001b[0m \u001b[0mmin_year\u001b[0m\u001b[0;34m=\u001b[0m\u001b[0;36m1999\u001b[0m\u001b[0;34m,\u001b[0m \u001b[0mmax_year\u001b[0m\u001b[0;34m=\u001b[0m\u001b[0;36m1999\u001b[0m\u001b[0;34m)\u001b[0m\u001b[0;34m:\u001b[0m\u001b[0;34m\u001b[0m\u001b[0;34m\u001b[0m\u001b[0m\n\u001b[0m\u001b[1;32m      3\u001b[0m     \u001b[0mnumber\u001b[0m \u001b[0;34m=\u001b[0m \u001b[0mitem\u001b[0m\u001b[0;34m[\u001b[0m\u001b[0;34m'number'\u001b[0m\u001b[0;34m]\u001b[0m\u001b[0;34m\u001b[0m\u001b[0;34m\u001b[0m\u001b[0m\n\u001b[1;32m      4\u001b[0m     \u001b[0;32mif\u001b[0m \u001b[0;32mnot\u001b[0m \u001b[0mnumber\u001b[0m \u001b[0;32min\u001b[0m \u001b[0morig_numbers_with_emb\u001b[0m\u001b[0;34m:\u001b[0m\u001b[0;34m\u001b[0m\u001b[0;34m\u001b[0m\u001b[0m\n\u001b[1;32m      5\u001b[0m         \u001b[0mprint\u001b[0m\u001b[0;34m(\u001b[0m\u001b[0mnumber\u001b[0m\u001b[0;34m)\u001b[0m\u001b[0;34m\u001b[0m\u001b[0;34m\u001b[0m\u001b[0m\n",
      "\u001b[0;31mNameError\u001b[0m: name 'AmazonReviewsReader' is not defined"
     ]
    }
   ],
   "source": [
    "# test\n",
    "for item in AmazonReviewsReader(file_storage.get_filepath('amazon_gz_file'), 'fields', max_docs=2, min_year=1999, max_year=1999):\n",
    "    number = item['number']\n",
    "    if not number in orig_numbers_with_emb:\n",
    "        print(number)"
   ]
  },
  {
   "cell_type": "code",
   "execution_count": 9,
   "metadata": {},
   "outputs": [
    {
     "name": "stdout",
     "output_type": "stream",
     "text": [
      "6788845\n"
     ]
    }
   ],
   "source": [
    "print(originalno_to_rawid[6184084])\n",
    "# 6788845"
   ]
  },
  {
   "cell_type": "code",
   "execution_count": 7,
   "metadata": {},
   "outputs": [
    {
     "name": "stdout",
     "output_type": "stream",
     "text": [
      "['1/1', 4, datetime.datetime(2011, 9, 7, 2, 0), 6184084, 6788845]\n",
      "['1/1', 4, datetime.datetime(2011, 9, 7, 2, 0), 6184084, 6788845]\n",
      "[ 0.4414188   0.13644266  0.17432572  0.05185378 -0.05497933  0.59349114\n",
      " -0.34965947 -0.6253097   0.04176392  0.2635524  -0.5170942   0.07202169\n",
      "  0.2396945   0.52059996 -0.09735541  0.61579585 -0.2858135   0.23667523\n",
      " -0.1768746   0.12101202 -0.05129867  0.16942544  0.1835532  -0.4737814\n",
      " -0.40994313  0.05580128  0.2903279   0.06606621 -0.21997757 -0.1915003\n",
      "  0.04107895 -0.2892729  -0.23737499  0.17370878 -0.6612374  -0.5322156\n",
      "  0.18494414 -0.21456932 -0.33918732  0.68996286 -0.15533851 -0.10204262\n",
      " -1.4976032   0.6711743   0.25197563  0.0146621  -0.32608336 -0.5272231\n",
      "  0.07257106  0.42317134]\n"
     ]
    }
   ],
   "source": [
    "print(amazon_reader.get_text(6788845, metadata=True))\n",
    "print(amazon_reader.get_bow50(6788845, metadata=True))\n",
    "print(amazon_reader.get_bow50(6788845, metadata=False))"
   ]
  },
  {
   "cell_type": "markdown",
   "metadata": {},
   "source": [
    "# -> test not working now. Maybe create dataset first, check available embeddings later"
   ]
  },
  {
   "cell_type": "code",
   "execution_count": null,
   "metadata": {},
   "outputs": [],
   "source": []
  }
 ],
 "metadata": {
  "kernelspec": {
   "display_name": "Python (EML4U)",
   "language": "python",
   "name": "eml4u"
  },
  "language_info": {
   "codemirror_mode": {
    "name": "ipython",
    "version": 3
   },
   "file_extension": ".py",
   "mimetype": "text/x-python",
   "name": "python",
   "nbconvert_exporter": "python",
   "pygments_lexer": "ipython3",
   "version": "3.8.5"
  }
 },
 "nbformat": 4,
 "nbformat_minor": 4
}
