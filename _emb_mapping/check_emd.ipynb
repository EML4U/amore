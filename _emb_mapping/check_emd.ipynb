{
 "cells": [
  {
   "cell_type": "markdown",
   "metadata": {},
   "source": [
    "# Check embeddings available for all years from 2000"
   ]
  },
  {
   "cell_type": "code",
   "execution_count": null,
   "metadata": {},
   "outputs": [],
   "source": [
    "# Reload modules every time before executing the Python code typed\n",
    "%load_ext autoreload\n",
    "%autoreload 2\n",
    "\n",
    "# Import from vm notebook dir\n",
    "import sys; sys.path.insert(0, '../../')\n",
    "\n",
    "import os\n",
    "from datetime import datetime\n",
    "\n",
    "from ExplainingDriftTextEmbeddings.access.file_storage import FileStorage\n",
    "from ExplainingDriftTextEmbeddings.access.amazon_pickle_reader import AmazonPickleReader\n",
    "from ExplainingDriftTextEmbeddings.access.interim_storage import InterimStorage\n",
    "\n",
    "from BenchTest.amore.amazon_reviews_reader import AmazonReviewsReader"
   ]
  },
  {
   "cell_type": "code",
   "execution_count": null,
   "metadata": {},
   "outputs": [],
   "source": [
    "file_storage = FileStorage()"
   ]
  },
  {
   "cell_type": "code",
   "execution_count": null,
   "metadata": {},
   "outputs": [],
   "source": [
    "amazon_raw_id = 'amazon_raw.pickle'\n",
    "print(file_storage.get_filepath(amazon_raw_id))\n",
    "\n",
    "amazon_directoy = os.path.dirname(file_storage.get_filepath(amazon_raw_id))\n",
    "print(amazon_directoy)\n",
    "\n",
    "amazon_reader = AmazonPickleReader(amazon_directoy)"
   ]
  },
  {
   "cell_type": "markdown",
   "metadata": {},
   "source": [
    "## Get complete ID mapping"
   ]
  },
  {
   "cell_type": "code",
   "execution_count": null,
   "metadata": {},
   "outputs": [],
   "source": [
    "interim_storage = InterimStorage('originalno_to_rawid')\n",
    "print(interim_storage.get_filepath())\n",
    "\n",
    "if(not interim_storage.isfile()):\n",
    "\n",
    "    # Config\n",
    "    amazon_raw_id = 'amazon_raw.pickle'\n",
    "    print(file_storage.get_filepath(amazon_raw_id))\n",
    "\n",
    "    amazon_directoy = os.path.dirname(file_storage.get_filepath(amazon_raw_id))\n",
    "    print(amazon_directoy)\n",
    "    \n",
    "    originalno_to_rawid = amazon_reader.originalno_to_rawid\n",
    "    interim_storage.write(originalno_to_rawid)\n",
    "else:\n",
    "    originalno_to_rawid = interim_storage.read()\n",
    "\n",
    "print(len(originalno_to_rawid))"
   ]
  },
  {
   "cell_type": "markdown",
   "metadata": {},
   "source": [
    "## Get original numbers for available embeddings"
   ]
  },
  {
   "cell_type": "code",
   "execution_count": null,
   "metadata": {},
   "outputs": [],
   "source": [
    "number_of_all_reviews = 7911684\n",
    "first_available_rawid = 84090\n",
    "print(number_of_all_reviews - first_available_rawid)\n",
    "\n",
    "orig_numbers_with_emb = {} # faster lookup than list\n",
    "for item in originalno_to_rawid.items():\n",
    "    if(item[1] >= first_available_rawid):\n",
    "        orig_numbers_with_emb[item[0]] = item[0]\n",
    "print(len(orig_numbers_with_emb))"
   ]
  },
  {
   "cell_type": "markdown",
   "metadata": {},
   "source": [
    "## Check available embeddings"
   ]
  },
  {
   "cell_type": "code",
   "execution_count": null,
   "metadata": {},
   "outputs": [],
   "source": [
    "i = 0\n",
    "for item in AmazonReviewsReader(file_storage.get_filepath('amazon_gz_file'), 'fields', max_docs=-1, min_year=2000, max_year=2010):\n",
    "    #score = int(float(item['score']))\n",
    "    #year = datetime.fromtimestamp(int(item['time'])).year\n",
    "    number = item['number']\n",
    "    if not number in orig_numbers_with_emb.keys():\n",
    "        print(number)\n",
    "    elif i % 500000 == 0:\n",
    "        print('[',i,']')\n",
    "    i += 1\n",
    "\n",
    "print(i)\n",
    "\n",
    "#[ 0 ]\n",
    "#[ 500000 ]\n",
    "#[ 1000000 ]\n",
    "#[ 1500000 ]\n",
    "#[ 2000000 ]\n",
    "#[ 2500000 ]\n",
    "#[ 3000000 ]\n",
    "#[ 3500000 ]\n",
    "#[ 4000000 ]\n",
    "#[ 4500000 ]\n",
    "#[ 5000000 ]\n",
    "#[ 5500000 ]\n",
    "#[ 6000000 ]\n",
    "# 6184084"
   ]
  },
  {
   "cell_type": "code",
   "execution_count": null,
   "metadata": {},
   "outputs": [],
   "source": [
    "# test\n",
    "for item in AmazonReviewsReader(file_storage.get_filepath('amazon_gz_file'), 'fields', max_docs=2, min_year=1999, max_year=1999):\n",
    "    number = item['number']\n",
    "    if not number in orig_numbers_with_emb:\n",
    "        print(number)"
   ]
  },
  {
   "cell_type": "code",
   "execution_count": null,
   "metadata": {},
   "outputs": [],
   "source": [
    "print(originalno_to_rawid[6184084])\n",
    "# 6788845"
   ]
  },
  {
   "cell_type": "code",
   "execution_count": null,
   "metadata": {},
   "outputs": [],
   "source": [
    "print(amazon_reader.get_text(6788845, metadata=True))\n",
    "print(amazon_reader.get_bow50(6788845, metadata=True))\n",
    "print(amazon_reader.get_bow50(6788845, metadata=False))"
   ]
  },
  {
   "cell_type": "markdown",
   "metadata": {},
   "source": [
    "# -> test not working now. Maybe create dataset first, check available embeddings later"
   ]
  },
  {
   "cell_type": "code",
   "execution_count": null,
   "metadata": {},
   "outputs": [],
   "source": []
  }
 ],
 "metadata": {
  "kernelspec": {
   "display_name": "Python (EML4U)",
   "language": "python",
   "name": "eml4u"
  },
  "language_info": {
   "codemirror_mode": {
    "name": "ipython",
    "version": 3
   },
   "file_extension": ".py",
   "mimetype": "text/x-python",
   "name": "python",
   "nbconvert_exporter": "python",
   "pygments_lexer": "ipython3",
   "version": "3.8.5"
  }
 },
 "nbformat": 4,
 "nbformat_minor": 4
}
