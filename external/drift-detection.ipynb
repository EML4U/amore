{
 "cells": [
  {
   "cell_type": "markdown",
   "metadata": {},
   "source": [
    "# Drift detection (LSDD and KS)"
   ]
  },
  {
   "cell_type": "code",
   "execution_count": 1,
   "metadata": {},
   "outputs": [
    {
     "name": "stderr",
     "output_type": "stream",
     "text": [
      "2022-02-10 10:25:27.402770: W tensorflow/stream_executor/platform/default/dso_loader.cc:60] Could not load dynamic library 'libcudart.so.11.0'; dlerror: libcudart.so.11.0: cannot open shared object file: No such file or directory\n",
      "2022-02-10 10:25:27.402815: I tensorflow/stream_executor/cuda/cudart_stub.cc:29] Ignore above cudart dlerror if you do not have a GPU set up on your machine.\n"
     ]
    }
   ],
   "source": [
    "# Reload modules every time before executing the Python code typed\n",
    "%load_ext autoreload\n",
    "%autoreload 2\n",
    "\n",
    "# Import from vm notebook dir\n",
    "import sys; sys.path.insert(0, '../../')\n",
    "\n",
    "from ExplainingDriftTextEmbeddings.access.interim_storage import InterimStorage\n",
    "from alibi_detect.cd import LSDDDrift\n",
    "from alibi_detect.cd import KSDrift\n",
    "import numpy as np"
   ]
  },
  {
   "cell_type": "code",
   "execution_count": 2,
   "metadata": {},
   "outputs": [],
   "source": [
    "# Get installed Alibi version\n",
    "#import alibi_detect\n",
    "#alibi_detect.__version__\n",
    "# -> '0.7.0'"
   ]
  },
  {
   "cell_type": "markdown",
   "metadata": {},
   "source": [
    "## Read data"
   ]
  },
  {
   "cell_type": "code",
   "execution_count": 14,
   "metadata": {},
   "outputs": [
    {
     "name": "stdout",
     "output_type": "stream",
     "text": [
      "3 10000\n",
      "4 10000\n"
     ]
    }
   ],
   "source": [
    "splits_embeddings = InterimStorage('tmp_embeddings_list').read()\n",
    "for s in splits_embeddings.items():\n",
    "    print(s[0], len(s[1]))"
   ]
  },
  {
   "cell_type": "markdown",
   "metadata": {},
   "source": [
    "## Drift detection\n",
    "\n",
    "### LSDD - Least-Squares Density Difference"
   ]
  },
  {
   "cell_type": "code",
   "execution_count": 4,
   "metadata": {},
   "outputs": [],
   "source": [
    "# https://docs.seldon.io/projects/alibi-detect/en/v0.7.0/methods/lsdddrift.html\n",
    "# https://docs.seldon.io/projects/alibi-detect/en/stable/cd/methods/lsdddrift.html?highlight=lsdddrift#Initialize\n",
    "# https://github.com/EML4U/Drift-detector-comparison/blob/1.0.0/detectors/AlibiLSDD.py\n",
    "def lsdd_predict(lsdd, list_):\n",
    "    lsdd_pred = lsdd.predict(np.array(list_))\n",
    "    print('is_drift', lsdd_pred.get('data').get('is_drift'))\n",
    "    print('p_val   ', lsdd_pred.get('data').get('p_val'))"
   ]
  },
  {
   "cell_type": "code",
   "execution_count": 5,
   "metadata": {},
   "outputs": [
    {
     "name": "stdout",
     "output_type": "stream",
     "text": [
      "No GPU detected, fall back on CPU.\n",
      "is_drift 0\n",
      "p_val    1.0\n",
      "is_drift 1\n",
      "p_val    0.0\n"
     ]
    }
   ],
   "source": [
    "lsdd = LSDDDrift(np.array(splits_embeddings[3]), backend='pytorch', p_val=.05)\n",
    "lsdd_predict(lsdd, splits_embeddings[3])\n",
    "lsdd_predict(lsdd, splits_embeddings[4])"
   ]
  },
  {
   "cell_type": "markdown",
   "metadata": {},
   "source": [
    "### KS - Kolmogorov-Smirnov"
   ]
  },
  {
   "cell_type": "code",
   "execution_count": 6,
   "metadata": {},
   "outputs": [],
   "source": [
    "# https://docs.seldon.io/projects/alibi-detect/en/v0.7.0/methods/ksdrift.html\n",
    "# https://docs.seldon.io/projects/alibi-detect/en/stable/cd/methods/ksdrift.html\n",
    "# https://github.com/EML4U/Drift-detector-comparison/blob/1.0.0/detectors/AlibiKSDetector.py\n",
    "def ks_predict(ks, list_):\n",
    "    ks_pred = ks.predict(np.array(list_))\n",
    "    print('is_drift', ks_pred.get('data').get('is_drift') )\n",
    "    print('p_val   ', np.mean(ks_pred.get('data').get('p_val')) )"
   ]
  },
  {
   "cell_type": "code",
   "execution_count": 7,
   "metadata": {},
   "outputs": [
    {
     "name": "stdout",
     "output_type": "stream",
     "text": [
      "is_drift 0\n",
      "p_val    1.0\n",
      "is_drift 1\n",
      "p_val    0.0009217585\n"
     ]
    }
   ],
   "source": [
    "ks = KSDrift(np.array(splits_embeddings[3]))\n",
    "ks_predict(ks, splits_embeddings[3])\n",
    "ks_predict(ks, splits_embeddings[4])"
   ]
  },
  {
   "cell_type": "code",
   "execution_count": null,
   "metadata": {},
   "outputs": [],
   "source": []
  }
 ],
 "metadata": {
  "kernelspec": {
   "display_name": "Python (EML4U)",
   "language": "python",
   "name": "eml4u"
  },
  "language_info": {
   "codemirror_mode": {
    "name": "ipython",
    "version": 3
   },
   "file_extension": ".py",
   "mimetype": "text/x-python",
   "name": "python",
   "nbconvert_exporter": "python",
   "pygments_lexer": "ipython3",
   "version": "3.8.5"
  }
 },
 "nbformat": 4,
 "nbformat_minor": 4
}
