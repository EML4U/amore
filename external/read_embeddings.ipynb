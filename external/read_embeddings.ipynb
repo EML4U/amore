{
 "cells": [
  {
   "cell_type": "markdown",
   "metadata": {},
   "source": [
    "# Embeddings reader\n",
    "\n",
    "- Get mapping original number to raw ID\n",
    "- Get splits\n",
    "- Get embeddings of splits"
   ]
  },
  {
   "cell_type": "code",
   "execution_count": 23,
   "metadata": {},
   "outputs": [
    {
     "name": "stdout",
     "output_type": "stream",
     "text": [
      "The autoreload extension is already loaded. To reload it, use:\n",
      "  %reload_ext autoreload\n"
     ]
    }
   ],
   "source": [
    "# Reload modules every time before executing the Python code typed\n",
    "%load_ext autoreload\n",
    "%autoreload 2\n",
    "\n",
    "# Import from vm notebook dir\n",
    "import sys; sys.path.insert(0, '../../')\n",
    "\n",
    "import os\n",
    "from datetime import datetime\n",
    "\n",
    "from ExplainingDriftTextEmbeddings.access.file_storage import FileStorage\n",
    "from ExplainingDriftTextEmbeddings.access.amazon_pickle_reader import AmazonPickleReader\n",
    "from ExplainingDriftTextEmbeddings.access.interim_storage import InterimStorage\n",
    "\n",
    "from BenchTest.amore.amazon_reviews_reader import AmazonReviewsReader\n",
    "from BenchTest.transformation.reduction import Reduction"
   ]
  },
  {
   "cell_type": "code",
   "execution_count": 2,
   "metadata": {},
   "outputs": [],
   "source": [
    "file_storage = FileStorage()"
   ]
  },
  {
   "cell_type": "markdown",
   "metadata": {},
   "source": [
    "## Create reader"
   ]
  },
  {
   "cell_type": "code",
   "execution_count": 5,
   "metadata": {},
   "outputs": [
    {
     "name": "stdout",
     "output_type": "stream",
     "text": [
      "/home/eml4u/EML4U/notebooks/ExplainingDriftTextEmbeddings/data/clustering/amazon_raw.pickle\n",
      "/home/eml4u/EML4U/notebooks/ExplainingDriftTextEmbeddings/data/clustering\n"
     ]
    }
   ],
   "source": [
    "# Create AmazonPickleReader\n",
    "amazon_raw_id = 'amazon_raw.pickle'\n",
    "print(file_storage.get_filepath(amazon_raw_id))\n",
    "\n",
    "amazon_directoy = os.path.dirname(file_storage.get_filepath(amazon_raw_id))\n",
    "print(amazon_directoy)\n",
    "\n",
    "amazon_pickle_reader = AmazonPickleReader(amazon_directoy)"
   ]
  },
  {
   "cell_type": "markdown",
   "metadata": {},
   "source": [
    "## Get mapping original number to raw ID"
   ]
  },
  {
   "cell_type": "code",
   "execution_count": 8,
   "metadata": {},
   "outputs": [
    {
     "name": "stdout",
     "output_type": "stream",
     "text": [
      "Example: (2381344, 0)\n",
      "Size: 7911684\n"
     ]
    }
   ],
   "source": [
    "interim_storage = InterimStorage('amazon_originalno_to_rawid')\n",
    "\n",
    "# Caching\n",
    "if False:\n",
    "    originalno_to_rawid = {}\n",
    "    for originalno in amazon_pickle_reader.originalno_to_rawid.keys():\n",
    "        originalno_to_rawid[originalno] = amazon_pickle_reader.get_raw_id(originalno)\n",
    "    print(interim_storage.write(originalno_to_rawid).get_filepath())\n",
    "    # '/tmp/InterimStorage/amazon_originalno_to_rawid.pickle.bz2'\n",
    "\n",
    "# Use cache\n",
    "else:\n",
    "    originalno_to_rawid = interim_storage.read()\n",
    "\n",
    "print('Example:', next(iter(originalno_to_rawid.items())))\n",
    "print('Size:', len(originalno_to_rawid))\n",
    "# 7,911,684 -> all"
   ]
  },
  {
   "cell_type": "markdown",
   "metadata": {},
   "source": [
    "## Get embeddings"
   ]
  },
  {
   "cell_type": "code",
   "execution_count": 17,
   "metadata": {},
   "outputs": [],
   "source": [
    "# e.g. print(get_embeddings(amazon_pickle_reader, [100], originalno_to_rawid))\n",
    "def get_embeddings(amazon_pickle_reader, revnum_include, revnum_to_rawid):\n",
    "    embeddings = {}\n",
    "    for revnum in revnum_include:\n",
    "        raw_id = revnum_to_rawid[revnum]\n",
    "        embeddings[revnum] = amazon_pickle_reader.get_bow50(raw_id)\n",
    "    return embeddings"
   ]
  },
  {
   "cell_type": "markdown",
   "metadata": {},
   "source": [
    "## Get embeddings for 2006-2012 pos/neg"
   ]
  },
  {
   "cell_type": "code",
   "execution_count": 18,
   "metadata": {},
   "outputs": [
    {
     "name": "stdout",
     "output_type": "stream",
     "text": [
      "1203682\n"
     ]
    }
   ],
   "source": [
    "reviewnumbers_2006_2012_posneg = InterimStorage('reviewnumbers_2006-2012_posneg').read()\n",
    "print(len(reviewnumbers_2006_2012_posneg))\n",
    "# 1,203,682"
   ]
  },
  {
   "cell_type": "code",
   "execution_count": 21,
   "metadata": {},
   "outputs": [
    {
     "name": "stdout",
     "output_type": "stream",
     "text": [
      "1203682\n",
      "(2097152, array([-0.06299116, -0.12531292, -0.4487808 ,  1.1607794 , -0.36575422,\n",
      "       -0.08572024, -0.16950664, -0.14035107,  0.60498494, -0.23605575,\n",
      "        0.2969638 ,  0.25585127,  0.03586745,  0.15513225,  0.07766075,\n",
      "        0.41837838,  0.58457077,  0.3820759 ,  0.19753297,  0.6963815 ,\n",
      "        0.50449896,  0.4742624 , -0.09804211,  0.14021917, -0.51908594,\n",
      "        0.7161566 , -0.54179746, -0.37193182, -0.64238405,  0.79483426,\n",
      "       -0.58267075,  0.16197357, -0.45821607,  0.53412277, -0.60332555,\n",
      "       -0.3527259 , -0.72167045, -0.7264509 ,  0.01920276,  0.66644484,\n",
      "        0.11820004, -0.20682223, -0.6488411 , -0.28977698,  0.87654084,\n",
      "        0.19570935, -0.8078851 , -0.44058782,  0.42540267, -0.29402822],\n",
      "      dtype=float32))\n"
     ]
    }
   ],
   "source": [
    "reviewnumbers_2006_2012_posneg_emb = get_embeddings(amazon_pickle_reader, reviewnumbers_2006_2012_posneg, originalno_to_rawid)\n",
    "print(len(reviewnumbers_2006_2012_posneg_emb))\n",
    "print(next(iter(reviewnumbers_2006_2012_posneg_emb.items())))"
   ]
  },
  {
   "cell_type": "code",
   "execution_count": 22,
   "metadata": {},
   "outputs": [
    {
     "name": "stdout",
     "output_type": "stream",
     "text": [
      "/tmp/InterimStorage/reviewnumbers_2006-2012_posneg_emb.pickle.bz2\n"
     ]
    }
   ],
   "source": [
    "print(InterimStorage('reviewnumbers_2006-2012_posneg_emb').write(reviewnumbers_2006_2012_posneg_emb).get_filepath())"
   ]
  },
  {
   "cell_type": "markdown",
   "metadata": {},
   "source": [
    "#### Reduce dimensions"
   ]
  },
  {
   "cell_type": "code",
   "execution_count": null,
   "metadata": {},
   "outputs": [],
   "source": [
    "reviewnumbers_2006_2012_posneg_emb_pca = {}\n",
    "reduction = Reduction()\n",
    "reduction.pca_fit(list(reviewnumbers_2006_2012_posneg_emb.values()))\n",
    "for item in reviewnumbers_2006_2012_posneg_emb.items():\n",
    "    reviewnumbers_2006_2012_posneg_emb_pca[item[0]] = reduction.pca_transform(item[1])"
   ]
  },
  {
   "cell_type": "code",
   "execution_count": 30,
   "metadata": {},
   "outputs": [],
   "source": [
    "x = reduction.pca_transform(list(reviewnumbers_2006_2012_posneg_emb.values()))"
   ]
  },
  {
   "cell_type": "code",
   "execution_count": 32,
   "metadata": {},
   "outputs": [
    {
     "data": {
      "text/plain": [
       "1203682"
      ]
     },
     "execution_count": 32,
     "metadata": {},
     "output_type": "execute_result"
    }
   ],
   "source": [
    "len(x)"
   ]
  },
  {
   "cell_type": "code",
   "execution_count": 33,
   "metadata": {},
   "outputs": [
    {
     "data": {
      "text/plain": [
       "array([ 0.84218181, -1.01260462])"
      ]
     },
     "execution_count": 33,
     "metadata": {},
     "output_type": "execute_result"
    }
   ],
   "source": [
    "x[0]"
   ]
  },
  {
   "cell_type": "code",
   "execution_count": 34,
   "metadata": {},
   "outputs": [],
   "source": [
    "reviewnumbers_2006_2012_posneg_emb_pca = {}\n",
    "reduction = Reduction()\n",
    "reduction.umap_fit(list(reviewnumbers_2006_2012_posneg_emb.values()))\n",
    "umap = reduction.umap_transform(list(reviewnumbers_2006_2012_posneg_emb.values()))"
   ]
  },
  {
   "cell_type": "code",
   "execution_count": null,
   "metadata": {},
   "outputs": [],
   "source": []
  }
 ],
 "metadata": {
  "kernelspec": {
   "display_name": "Python (EML4U)",
   "language": "python",
   "name": "eml4u"
  },
  "language_info": {
   "codemirror_mode": {
    "name": "ipython",
    "version": 3
   },
   "file_extension": ".py",
   "mimetype": "text/x-python",
   "name": "python",
   "nbconvert_exporter": "python",
   "pygments_lexer": "ipython3",
   "version": "3.8.5"
  }
 },
 "nbformat": 4,
 "nbformat_minor": 4
}
