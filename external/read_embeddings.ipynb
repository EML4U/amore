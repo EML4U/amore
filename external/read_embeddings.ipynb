{
 "cells": [
  {
   "cell_type": "markdown",
   "metadata": {},
   "source": [
    "# Embeddings reader\n",
    "\n",
    "- Get mapping original number to raw ID\n",
    "- Get splits\n",
    "- Get embeddings of splits"
   ]
  },
  {
   "cell_type": "code",
   "execution_count": 36,
   "metadata": {},
   "outputs": [
    {
     "name": "stdout",
     "output_type": "stream",
     "text": [
      "The autoreload extension is already loaded. To reload it, use:\n",
      "  %reload_ext autoreload\n"
     ]
    }
   ],
   "source": [
    "# Reload modules every time before executing the Python code typed\n",
    "%load_ext autoreload\n",
    "%autoreload 2\n",
    "\n",
    "# Import from vm notebook dir\n",
    "import sys; sys.path.insert(0, '../../')\n",
    "\n",
    "import os\n",
    "from datetime import datetime\n",
    "\n",
    "from ExplainingDriftTextEmbeddings.access.file_storage import FileStorage\n",
    "from ExplainingDriftTextEmbeddings.access.amazon_pickle_reader import AmazonPickleReader\n",
    "from ExplainingDriftTextEmbeddings.access.interim_storage import InterimStorage\n",
    "\n",
    "from BenchTest.amore.amazon_reviews_reader import AmazonReviewsReader"
   ]
  },
  {
   "cell_type": "code",
   "execution_count": 2,
   "metadata": {},
   "outputs": [],
   "source": [
    "file_storage = FileStorage()"
   ]
  },
  {
   "cell_type": "markdown",
   "metadata": {},
   "source": [
    "## Create reader"
   ]
  },
  {
   "cell_type": "code",
   "execution_count": 3,
   "metadata": {},
   "outputs": [
    {
     "name": "stdout",
     "output_type": "stream",
     "text": [
      "/home/eml4u/EML4U/notebooks/ExplainingDriftTextEmbeddings/data/clustering/amazon_raw.pickle\n",
      "/home/eml4u/EML4U/notebooks/ExplainingDriftTextEmbeddings/data/clustering\n"
     ]
    }
   ],
   "source": [
    "# Create AmazonPickleReader\n",
    "amazon_raw_id = 'amazon_raw.pickle'\n",
    "print(file_storage.get_filepath(amazon_raw_id))\n",
    "\n",
    "amazon_directoy = os.path.dirname(file_storage.get_filepath(amazon_raw_id))\n",
    "print(amazon_directoy)\n",
    "\n",
    "amazon_reader = AmazonPickleReader(amazon_directoy)\n",
    "\n",
    "# First call: Initialize mapping\n",
    "#amazon_reader.get_raw_id(1)"
   ]
  },
  {
   "cell_type": "markdown",
   "metadata": {},
   "source": [
    "## Get mapping original number to raw ID"
   ]
  },
  {
   "cell_type": "code",
   "execution_count": 4,
   "metadata": {},
   "outputs": [
    {
     "name": "stdout",
     "output_type": "stream",
     "text": [
      "7911684\n"
     ]
    }
   ],
   "source": [
    "interim_storage = InterimStorage('amazon_originalno_to_rawid')\n",
    "\n",
    "# Caching\n",
    "if False:\n",
    "    originalno_to_rawid = {}\n",
    "    for originalno in amazon_reader.originalno_to_rawid.keys():\n",
    "        originalno_to_rawid[originalno] = amazon_reader.get_raw_id(originalno)\n",
    "\n",
    "    interim_storage.write(originalno_to_rawid)\n",
    "\n",
    "    interim_storage.get_filepath()\n",
    "    # '/tmp/InterimStorage/amazon_originalno_to_rawid.pickle.bz2'\n",
    "\n",
    "# Use cache\n",
    "else:\n",
    "    originalno_to_rawid = interim_storage.read()\n",
    "\n",
    "print(len(originalno_to_rawid))\n",
    "# 7911684 -> all"
   ]
  },
  {
   "cell_type": "markdown",
   "metadata": {},
   "source": [
    "## Get splits"
   ]
  },
  {
   "cell_type": "code",
   "execution_count": 27,
   "metadata": {},
   "outputs": [],
   "source": [
    "split_file_id = 'AMORE-IDs'"
   ]
  },
  {
   "cell_type": "code",
   "execution_count": 28,
   "metadata": {},
   "outputs": [],
   "source": [
    "# Swap to current root\n",
    "import sys; sys.path.insert(0, '../../BenchTest')\n",
    "from amore.reviews import Reviews\n",
    "import pprint"
   ]
  },
  {
   "cell_type": "code",
   "execution_count": 48,
   "metadata": {},
   "outputs": [],
   "source": [
    "def print_splits(file_id):\n",
    "    splits = InterimStorage(file_id).read()\n",
    "    #pprint.pprint(splits)\n",
    "    for i, split in enumerate(splits):\n",
    "        print(i, split)\n",
    "    for split in splits:\n",
    "        print(split.get_review_ids()[:5], '...')\n",
    "    return splits"
   ]
  },
  {
   "cell_type": "code",
   "execution_count": 49,
   "metadata": {},
   "outputs": [
    {
     "name": "stdout",
     "output_type": "stream",
     "text": [
      "0 Split(AMORE1,A,10000)\n",
      "1 Split(AMORE1,B,9901)\n",
      "2 Split(AMORE1,B,99)\n",
      "3 Split(TEST-1star,A,10000)\n",
      "4 Split(TEST-1star,B,10000)\n",
      "[334241, 705914, 1070406, 1206648, 1229742] ...\n",
      "[3569722, 3570714, 3571533, 3571568, 3577009] ...\n",
      "[3116450, 3239880, 4268728, 4606075, 709244] ...\n",
      "[623398, 712539, 934046, 940102, 1095175] ...\n",
      "[4984171, 4986916, 4986928, 4986976, 4987253] ...\n"
     ]
    }
   ],
   "source": [
    "splits = print_splits(split_file_id)"
   ]
  },
  {
   "cell_type": "markdown",
   "metadata": {},
   "source": [
    "## Get embeddings"
   ]
  },
  {
   "cell_type": "code",
   "execution_count": 41,
   "metadata": {},
   "outputs": [],
   "source": [
    "# Get splits by names instead of indexes\n",
    "# Missing here: name-dist combination can contain multiple splits\n",
    "# e.g.:\n",
    "# Split(AMORE1,A,10000),\n",
    "# Split(AMORE1,B,9901),\n",
    "# Split(AMORE1,B,99),\n",
    "if False:\n",
    "    split_dict = {}\n",
    "    for i, split in enumerate(splits):\n",
    "        name = split.get_split_name()\n",
    "        dist = split.get_distribution_name()\n",
    "        if(name not in split_dict.keys()):\n",
    "            split_dict[name] = {}\n",
    "        if(dist not in split_dict[name].keys()):\n",
    "            split_dict[name][dist] = i\n",
    "    print(split_dict)\n",
    "\n",
    "    def get_ids(split_name, distribution):\n",
    "        return splits[split_dict[name][dist]]\n",
    "    \n",
    "    get_ids('TEST-1star', 'A')\n",
    "    # {'AMORE1': {'A': 0, 'B': 1}, 'TEST-1star': {'A': 3, 'B': 4}}"
   ]
  },
  {
   "cell_type": "code",
   "execution_count": 50,
   "metadata": {},
   "outputs": [
    {
     "name": "stdout",
     "output_type": "stream",
     "text": [
      "Split(TEST-1star,A,10000)\n",
      "Split(TEST-1star,B,10000)\n"
     ]
    }
   ],
   "source": [
    "results = {}\n",
    "\n",
    "# Split by index\n",
    "first_split_index = 3\n",
    "last_split_index = 4\n",
    "for i in range(first_split_index,last_split_index+1):\n",
    "    split = splits[i]\n",
    "    print(split)\n",
    "    embeddings = []\n",
    "    for review_no in split.get_review_ids():\n",
    "        raw_id = originalno_to_rawid[review_no]\n",
    "        embeddings.append(amazon_reader.get_bow50(raw_id))\n",
    "    results[i] = embeddings"
   ]
  },
  {
   "cell_type": "code",
   "execution_count": 51,
   "metadata": {},
   "outputs": [
    {
     "name": "stdout",
     "output_type": "stream",
     "text": [
      "3 10000 50\n",
      "4 10000 50\n"
     ]
    }
   ],
   "source": [
    "for i in results:\n",
    "    print(i, len(results[i]), len(results[i][0]))"
   ]
  },
  {
   "cell_type": "code",
   "execution_count": 52,
   "metadata": {},
   "outputs": [],
   "source": [
    "results_storage = InterimStorage('tmp_embeddings_list').write(results)"
   ]
  },
  {
   "cell_type": "code",
   "execution_count": null,
   "metadata": {},
   "outputs": [],
   "source": []
  }
 ],
 "metadata": {
  "kernelspec": {
   "display_name": "Python (EML4U)",
   "language": "python",
   "name": "eml4u"
  },
  "language_info": {
   "codemirror_mode": {
    "name": "ipython",
    "version": 3
   },
   "file_extension": ".py",
   "mimetype": "text/x-python",
   "name": "python",
   "nbconvert_exporter": "python",
   "pygments_lexer": "ipython3",
   "version": "3.8.5"
  }
 },
 "nbformat": 4,
 "nbformat_minor": 4
}
