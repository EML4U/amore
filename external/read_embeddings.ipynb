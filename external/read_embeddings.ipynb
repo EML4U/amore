{
 "cells": [
  {
   "cell_type": "markdown",
   "metadata": {},
   "source": [
    "# Embeddings reader\n",
    "\n",
    "- Get mapping original number to raw ID\n",
    "- Get splits\n",
    "- Get embeddings of splits"
   ]
  },
  {
   "cell_type": "code",
   "execution_count": 1,
   "metadata": {},
   "outputs": [],
   "source": [
    "# Reload modules every time before executing the Python code typed\n",
    "%load_ext autoreload\n",
    "%autoreload 2\n",
    "\n",
    "# Import from vm notebook dir\n",
    "import sys; sys.path.insert(0, '../../')\n",
    "\n",
    "import os\n",
    "from datetime import datetime\n",
    "\n",
    "from ExplainingDriftTextEmbeddings.access.file_storage import FileStorage\n",
    "from ExplainingDriftTextEmbeddings.access.amazon_pickle_reader import AmazonPickleReader\n",
    "from ExplainingDriftTextEmbeddings.access.interim_storage import InterimStorage\n",
    "\n",
    "from BenchTest.amore.amazon_reviews_reader import AmazonReviewsReader"
   ]
  },
  {
   "cell_type": "code",
   "execution_count": 2,
   "metadata": {},
   "outputs": [],
   "source": [
    "file_storage = FileStorage()"
   ]
  },
  {
   "cell_type": "markdown",
   "metadata": {},
   "source": [
    "## Create reader"
   ]
  },
  {
   "cell_type": "code",
   "execution_count": 8,
   "metadata": {},
   "outputs": [
    {
     "name": "stdout",
     "output_type": "stream",
     "text": [
      "/home/eml4u/EML4U/notebooks/ExplainingDriftTextEmbeddings/data/clustering/amazon_raw.pickle\n",
      "/home/eml4u/EML4U/notebooks/ExplainingDriftTextEmbeddings/data/clustering\n"
     ]
    }
   ],
   "source": [
    "# Create AmazonPickleReader\n",
    "amazon_raw_id = 'amazon_raw.pickle'\n",
    "print(file_storage.get_filepath(amazon_raw_id))\n",
    "\n",
    "amazon_directoy = os.path.dirname(file_storage.get_filepath(amazon_raw_id))\n",
    "print(amazon_directoy)\n",
    "\n",
    "amazon_reader = AmazonPickleReader(amazon_directoy)\n",
    "\n",
    "# First call: Initialize mapping\n",
    "#amazon_reader.get_raw_id(1)"
   ]
  },
  {
   "cell_type": "markdown",
   "metadata": {},
   "source": [
    "## Get mapping original number to raw ID"
   ]
  },
  {
   "cell_type": "code",
   "execution_count": 3,
   "metadata": {},
   "outputs": [
    {
     "name": "stdout",
     "output_type": "stream",
     "text": [
      "7911684\n"
     ]
    }
   ],
   "source": [
    "interim_storage = InterimStorage('amazon_originalno_to_rawid')\n",
    "\n",
    "# Caching\n",
    "if False:\n",
    "    originalno_to_rawid = {}\n",
    "    for originalno in amazon_reader.originalno_to_rawid.keys():\n",
    "        originalno_to_rawid[originalno] = amazon_reader.get_raw_id(originalno)\n",
    "\n",
    "    interim_storage.write(originalno_to_rawid)\n",
    "\n",
    "    interim_storage.get_filepath()\n",
    "    # '/tmp/InterimStorage/amazon_originalno_to_rawid.pickle.bz2'\n",
    "\n",
    "# Use cache\n",
    "else:\n",
    "    originalno_to_rawid = interim_storage.read()\n",
    "\n",
    "print(len(originalno_to_rawid))\n",
    "# 7911684 -> all"
   ]
  },
  {
   "cell_type": "markdown",
   "metadata": {},
   "source": [
    "## Get splits"
   ]
  },
  {
   "cell_type": "code",
   "execution_count": 4,
   "metadata": {},
   "outputs": [],
   "source": [
    "# Swap to current root\n",
    "import sys; sys.path.insert(0, '../../BenchTest')\n",
    "from amore.reviews import Reviews\n",
    "import pprint"
   ]
  },
  {
   "cell_type": "code",
   "execution_count": 5,
   "metadata": {},
   "outputs": [],
   "source": [
    "def print_splits(file_id):\n",
    "    splits = InterimStorage(file_id).read()\n",
    "    pprint.pprint(splits)\n",
    "    for split in splits:\n",
    "        print(split.get_review_ids()[:5], '...')\n",
    "    return splits"
   ]
  },
  {
   "cell_type": "code",
   "execution_count": 6,
   "metadata": {},
   "outputs": [
    {
     "name": "stdout",
     "output_type": "stream",
     "text": [
      "[Split(AMORE1,A,10000),\n",
      " Split(AMORE1,B,9900),\n",
      " Split(AMORE1,B,100),\n",
      " Split(AMORE2,A,10000),\n",
      " Split(AMORE2,B,9800),\n",
      " Split(AMORE2,B,200)]\n",
      "[334241, 705914, 1070406, 1206648, 1229742] ...\n",
      "[3569722, 3570714, 3571533, 3571568, 3577009] ...\n",
      "[3116450, 3239880, 4268728, 4606075, 709244] ...\n",
      "[1707082, 7418424, 270959, 3956447, 897306] ...\n",
      "[2473162, 2473326, 2473342, 2473508, 2474416] ...\n",
      "[623398, 712539, 934046, 940102, 1095175] ...\n"
     ]
    }
   ],
   "source": [
    "splits = print_splits('AMORE-IDs')"
   ]
  },
  {
   "cell_type": "markdown",
   "metadata": {},
   "source": [
    "## Get embeddings"
   ]
  },
  {
   "cell_type": "code",
   "execution_count": 25,
   "metadata": {},
   "outputs": [
    {
     "name": "stdout",
     "output_type": "stream",
     "text": [
      "Split(AMORE1,A,10000)\n",
      "Split(AMORE1,B,9900)\n",
      "Split(AMORE1,B,100)\n"
     ]
    }
   ],
   "source": [
    "first_split_index = 0\n",
    "last_split_index = 2\n",
    "results = {}\n",
    "for i in range(first_split_index,last_split_index+1):\n",
    "    split = splits[i]\n",
    "    print(split)\n",
    "    embeddings = []\n",
    "    for review_no in split.get_review_ids():\n",
    "        raw_id = originalno_to_rawid[review_no]\n",
    "        embeddings.append(amazon_reader.get_bow50(raw_id))\n",
    "    results[i] = embeddings"
   ]
  },
  {
   "cell_type": "code",
   "execution_count": 29,
   "metadata": {},
   "outputs": [
    {
     "name": "stdout",
     "output_type": "stream",
     "text": [
      "0 10000 50\n",
      "1 9900 50\n",
      "2 100 50\n"
     ]
    }
   ],
   "source": [
    "for i in results:\n",
    "    print(i, len(results[i]), len(results[i][0]))"
   ]
  },
  {
   "cell_type": "code",
   "execution_count": 30,
   "metadata": {},
   "outputs": [],
   "source": [
    "results_storage = InterimStorage('tmp_embeddings_list').write(results)"
   ]
  },
  {
   "cell_type": "code",
   "execution_count": null,
   "metadata": {},
   "outputs": [],
   "source": []
  }
 ],
 "metadata": {
  "kernelspec": {
   "display_name": "Python (EML4U)",
   "language": "python",
   "name": "eml4u"
  },
  "language_info": {
   "codemirror_mode": {
    "name": "ipython",
    "version": 3
   },
   "file_extension": ".py",
   "mimetype": "text/x-python",
   "name": "python",
   "nbconvert_exporter": "python",
   "pygments_lexer": "ipython3",
   "version": "3.8.5"
  }
 },
 "nbformat": 4,
 "nbformat_minor": 4
}
