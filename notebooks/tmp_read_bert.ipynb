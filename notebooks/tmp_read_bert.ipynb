{
 "cells": [
  {
   "cell_type": "markdown",
   "metadata": {},
   "source": [
    "### Read BERT embeddings file"
   ]
  },
  {
   "cell_type": "code",
   "execution_count": 1,
   "metadata": {},
   "outputs": [],
   "source": [
    "import pickle\n",
    "bert_file = '/home/eml4u/EML4U/data/symlink-target/clustering/amazon_all.pickle'\n",
    "\n",
    "with open(bert_file, 'rb') as handle:\n",
    "    data = pickle.load(handle)\n",
    "\n",
    "if False:\n",
    "    print(type(data), len(data), data.keys())\n",
    "    # <class 'dict'> 1 dict_keys(['data'])\n",
    "\n",
    "    meta = data['data'][0]\n",
    "    embeddings = data['data'][1]\n",
    "    del data\n",
    "\n",
    "    print(len(meta), len(embeddings))\n",
    "    # 7911684 7911684\n",
    "\n",
    "    id = 0\n",
    "    print(meta[id][:3], len(meta[id]), type(meta[id]))\n",
    "    print(embeddings[id])\n",
    "    # [-0.25243306  0.0284652   0.1851353 ] 768 <class 'numpy.ndarray'>\n",
    "    # ['2/2', 4, datetime.datetime(1997, 8, 20, 2, 0), 2381344]"
   ]
  },
  {
   "cell_type": "code",
   "execution_count": 10,
   "metadata": {},
   "outputs": [],
   "source": [
    "# Create index review-no to bert-embeddings-index\n",
    "i = 0\n",
    "revid_to_bertno = {}\n",
    "for item in data['data'][1]:\n",
    "    revid_to_bertno[item[3]] = i\n",
    "    i += 1"
   ]
  },
  {
   "cell_type": "code",
   "execution_count": 30,
   "metadata": {},
   "outputs": [
    {
     "name": "stdout",
     "output_type": "stream",
     "text": [
      "3657346\n",
      "['7/7', 2, datetime.datetime(2007, 6, 25, 2, 0), 1]\n",
      "3644636\n",
      "['4/4', 2, datetime.datetime(2007, 6, 16, 2, 0), 2]\n",
      "1310\n",
      "['99/107', 4, datetime.datetime(1998, 11, 18, 1, 0), 2988]\n"
     ]
    }
   ],
   "source": [
    "# Print some review metadata\n",
    "print(revid_to_bertno[1])\n",
    "print(data['data'][1][3657346])\n",
    "print(revid_to_bertno[2])\n",
    "print(data['data'][1][3644636])\n",
    "print(revid_to_bertno[2988])\n",
    "print(data['data'][1][1310])"
   ]
  },
  {
   "cell_type": "markdown",
   "metadata": {},
   "source": [
    "### Original reviews reader"
   ]
  },
  {
   "cell_type": "code",
   "execution_count": 17,
   "metadata": {},
   "outputs": [],
   "source": [
    "import sys; sys.path.insert(0, '../')\n",
    "from amore.amazon_reviews_reader import AmazonReviewsReader"
   ]
  },
  {
   "cell_type": "code",
   "execution_count": 18,
   "metadata": {},
   "outputs": [],
   "source": [
    "reader = AmazonReviewsReader('/home/eml4u/EML4U/data/symlink-target/movies/movies.txt.gz', AmazonReviewsReader.MODE_TYPED, max_docs=-1)"
   ]
  },
  {
   "cell_type": "code",
   "execution_count": 36,
   "metadata": {},
   "outputs": [
    {
     "name": "stdout",
     "output_type": "stream",
     "text": [
      "{'productId': 'B000056PNV', 'userId': 'AL338KNXJC418', 'profileName': 'Tracy E. Blackstone', 'helpfulness': (99, 107), 'score': 5, 'time': datetime.datetime(1998, 11, 18, 1, 0), 'summary': 'One Of The Two Best Samurai Films Ever Made!', 'text': \"This film is one of the two best Samurai films of  all time, the other being Kurosawa's SEVEN  SAMURAI.  CHUSHINGURA (&quot;loyalty&quot;) is based on a  real incident in 18th century Japan, wherein 47  loyal  retainers of a disgraced lord take a vow of  vengeance on the corrupt  nobleman who caused his  downfall and death.  The story is timeless, the  acting is uniformly magnificent, the camera work  is so gorgeous that any  frame of this film could  be hung in an art gallery, and the music is  exciting and heart-lifting.  It's a complex plot,  following many separate  individuals as their  vengeance unfolds, so first-time viewers may get  confused.  No matter -- it all comes together at  the end.  Watch for the  late great Toshiro Mifune  in a cameo role as a Master Spearman who becomes  drinking buddies with one of the 47, and who  takes it upon himself to  hold off the cops in the  final showdown so that his pal and the other 46  won't be interrupted before they can find and  behead the bad guy and  fulfill their vow.  I have  watched this movie many, many times, and I  always  find something new and wonderful in it.  Now that  it's FINALLY  available on video, don't miss it!!\", 'number': 2988}\n"
     ]
    }
   ],
   "source": [
    "i = 0\n",
    "for item in reader:\n",
    "    i += 1\n",
    "    if i == 2988:\n",
    "        #print(item[AmazonReviewsReader.KEY_SCORE], end=' ')\n",
    "        #print(item[AmazonReviewsReader.KEY_TIME].year, end=' #')\n",
    "        #print(item[AmazonReviewsReader.KEY_NUMBER])\n",
    "        #print(item[AmazonReviewsReader.KEY_SUMMARY], item[AmazonReviewsReader.KEY_TEXT], sep='  |  ')\n",
    "        print(item)\n",
    "        break"
   ]
  },
  {
   "cell_type": "markdown",
   "metadata": {},
   "source": [
    "https://github.com/EML4U/ExplainingDriftTextEmbeddings/blob/main/transformation/amazon_movie_sorter.py"
   ]
  },
  {
   "cell_type": "code",
   "execution_count": null,
   "metadata": {},
   "outputs": [],
   "source": [
    "i = 0\n",
    "revid_to_bertno = {}\n",
    "for item in reader:\n",
    "    revid_to_bertno[item[AmazonReviewsReader.KEY_NUMBER]]=i\n",
    "    i += 1\n"
   ]
  },
  {
   "cell_type": "code",
   "execution_count": null,
   "metadata": {},
   "outputs": [],
   "source": [
    "revid_to_bertno[1000000]+1"
   ]
  },
  {
   "cell_type": "code",
   "execution_count": null,
   "metadata": {},
   "outputs": [],
   "source": []
  }
 ],
 "metadata": {
  "kernelspec": {
   "display_name": "Python (EML4U)",
   "language": "python",
   "name": "eml4u"
  },
  "language_info": {
   "codemirror_mode": {
    "name": "ipython",
    "version": 3
   },
   "file_extension": ".py",
   "mimetype": "text/x-python",
   "name": "python",
   "nbconvert_exporter": "python",
   "pygments_lexer": "ipython3",
   "version": "3.8.5"
  }
 },
 "nbformat": 4,
 "nbformat_minor": 4
}
