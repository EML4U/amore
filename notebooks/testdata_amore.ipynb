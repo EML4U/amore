{
 "cells": [
  {
   "cell_type": "markdown",
   "metadata": {},
   "source": [
    "# Testdata AMORE\n",
    "\n",
    "Extracts test data and writes interim file.\n",
    "\n",
    "filepath: `/tmp/InterimStorage/amore-test-2002-2003-1-5.pickle.bz2`"
   ]
  },
  {
   "cell_type": "code",
   "execution_count": 1,
   "metadata": {},
   "outputs": [],
   "source": [
    "# Reload modules every time before executing the Python code typed\n",
    "%load_ext autoreload\n",
    "%autoreload 2\n",
    "\n",
    "# Import from project root\n",
    "import sys; sys.path.insert(0, '../')\n",
    "\n",
    "from access.file_storage import FileStorage\n",
    "from amore.amazon_reviews_reader import AmazonReviewsReader\n",
    "from access.interim_storage import InterimStorage\n",
    "\n",
    "import pprint\n",
    "import timeit"
   ]
  },
  {
   "cell_type": "code",
   "execution_count": 2,
   "metadata": {},
   "outputs": [],
   "source": [
    "file_storage = FileStorage()"
   ]
  },
  {
   "cell_type": "code",
   "execution_count": 3,
   "metadata": {},
   "outputs": [],
   "source": [
    "# Read reviews\n",
    "if False:\n",
    "    min_year = 2002\n",
    "    max_year = 2003\n",
    "    stars = [1, 5]\n",
    "    items = 10\n",
    "\n",
    "    results = {}\n",
    "    years = range(min_year, max_year+1)\n",
    "    for year in years:\n",
    "        results[year] = {}\n",
    "        for star in stars:\n",
    "            results[year][star] = []\n",
    "\n",
    "    reviews = AmazonReviewsReader(file_storage.get_filepath('amazon_gz_file'), AmazonReviewsReader.MODE_TYPED,\n",
    "                                 max_docs=-1, min_year=min_year, max_year=max_year)\n",
    "    time_begin = timeit.default_timer()\n",
    "    i = 0\n",
    "    for review in reviews:\n",
    "        i += 1\n",
    "\n",
    "        year = review[AmazonReviewsReader.KEY_TIME].year\n",
    "        if year not in years:\n",
    "            continue\n",
    "\n",
    "        star = review[AmazonReviewsReader.KEY_SCORE]\n",
    "        if star not in stars:\n",
    "            continue\n",
    "\n",
    "        if(len(results[year][star]) < items):\n",
    "            results[year][star].append(review)\n",
    "\n",
    "        if(i % 10000 == 0):\n",
    "            for year in years:\n",
    "                for star in stars:\n",
    "                    if(len(results[year][star]) < items):\n",
    "                        continue            \n",
    "            print(i, 'break')\n",
    "            break\n",
    "\n",
    "    print('Duration:', timeit.default_timer() - time_begin)\n",
    "\n",
    "#min_year = 2002\n",
    "#max_year = 2003\n",
    "#stars = [1, 5]\n",
    "#items = 10\n",
    "#\n",
    "# -> 10000 break\n",
    "# -> Duration: 3.2046889059711248"
   ]
  },
  {
   "cell_type": "code",
   "execution_count": 4,
   "metadata": {},
   "outputs": [
    {
     "name": "stdout",
     "output_type": "stream",
     "text": [
      "filepath: /tmp/InterimStorage/amore-test-2002-2003-1-5.pickle.bz2\n"
     ]
    }
   ],
   "source": [
    "# Config\n",
    "write_file_id = 'amore-test-2002-2003-1-5'\n",
    "interim_storage = InterimStorage(write_file_id)\n",
    "print('filepath:', interim_storage.get_filepath())\n",
    "\n",
    "# filepath: /tmp/InterimStorage/amore-test-2002-2003-1-5.pickle.bz2"
   ]
  },
  {
   "cell_type": "code",
   "execution_count": 5,
   "metadata": {},
   "outputs": [],
   "source": [
    "# Write\n",
    "if False:\n",
    "    interim_storage.write(results)"
   ]
  },
  {
   "cell_type": "code",
   "execution_count": 6,
   "metadata": {},
   "outputs": [],
   "source": [
    "# Load\n",
    "if True:\n",
    "    results = interim_storage.read()"
   ]
  },
  {
   "cell_type": "code",
   "execution_count": 10,
   "metadata": {},
   "outputs": [
    {
     "name": "stdout",
     "output_type": "stream",
     "text": [
      "2\n"
     ]
    }
   ],
   "source": [
    "# Print\n",
    "if False:\n",
    "    pprint.pprint(results)\n",
    "print(len(results))"
   ]
  },
  {
   "cell_type": "code",
   "execution_count": null,
   "metadata": {},
   "outputs": [],
   "source": []
  }
 ],
 "metadata": {
  "kernelspec": {
   "display_name": "Python (EML4U)",
   "language": "python",
   "name": "eml4u"
  },
  "language_info": {
   "codemirror_mode": {
    "name": "ipython",
    "version": 3
   },
   "file_extension": ".py",
   "mimetype": "text/x-python",
   "name": "python",
   "nbconvert_exporter": "python",
   "pygments_lexer": "ipython3",
   "version": "3.8.5"
  }
 },
 "nbformat": 4,
 "nbformat_minor": 4
}
