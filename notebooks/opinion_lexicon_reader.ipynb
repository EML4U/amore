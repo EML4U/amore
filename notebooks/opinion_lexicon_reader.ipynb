{
 "cells": [
  {
   "cell_type": "markdown",
   "metadata": {},
   "source": [
    "# Opinion lexicon\n",
    "\n",
    "Test: Read opinion lexicon and print overview"
   ]
  },
  {
   "cell_type": "code",
   "execution_count": 1,
   "metadata": {},
   "outputs": [],
   "source": [
    "# Reload modules every time before executing the Python code typed\n",
    "%load_ext autoreload\n",
    "%autoreload 2\n",
    "\n",
    "# Import from project root\n",
    "import sys; sys.path.insert(0, '../')\n",
    "\n",
    "from access.file_storage import FileStorage\n",
    "from amore.opinion_lexicon import OpinionLexicon\n",
    "\n",
    "from gensim.utils import simple_preprocess\n",
    "from collections import Counter\n",
    "import timeit\n",
    "import os"
   ]
  },
  {
   "cell_type": "code",
   "execution_count": 2,
   "metadata": {},
   "outputs": [
    {
     "name": "stdout",
     "output_type": "stream",
     "text": [
      "/home/eml4u/EML4U/notebooks/BenchTest/data/opinion-words/opinion-lexicon-English.rar\n",
      "True\n"
     ]
    }
   ],
   "source": [
    "file_storage = FileStorage()\n",
    "print(file_storage.get_filepath('opinion-words'))\n",
    "print(os.path.exists(file_storage.get_filepath('opinion-words')))"
   ]
  },
  {
   "cell_type": "code",
   "execution_count": 3,
   "metadata": {},
   "outputs": [],
   "source": [
    "opinion_lexicon = OpinionLexicon(file_storage.get_filepath('opinion-words'))"
   ]
  },
  {
   "cell_type": "code",
   "execution_count": 4,
   "metadata": {},
   "outputs": [
    {
     "data": {
      "text/plain": [
       "2006"
      ]
     },
     "execution_count": 4,
     "metadata": {},
     "output_type": "execute_result"
    }
   ],
   "source": [
    "p = 0\n",
    "for word in opinion_lexicon.get_positive_word():\n",
    "    p += 1\n",
    "p"
   ]
  },
  {
   "cell_type": "code",
   "execution_count": 5,
   "metadata": {},
   "outputs": [
    {
     "data": {
      "text/plain": [
       "4783"
      ]
     },
     "execution_count": 5,
     "metadata": {},
     "output_type": "execute_result"
    }
   ],
   "source": [
    "n = 0\n",
    "for word in opinion_lexicon.get_negative_word():\n",
    "    n += 1\n",
    "n"
   ]
  },
  {
   "cell_type": "code",
   "execution_count": 6,
   "metadata": {},
   "outputs": [
    {
     "name": "stdout",
     "output_type": "stream",
     "text": [
      "2006\n"
     ]
    }
   ],
   "source": [
    "pos_words = opinion_lexicon.get_positive_set()\n",
    "print(len(pos_words))"
   ]
  },
  {
   "cell_type": "code",
   "execution_count": 7,
   "metadata": {},
   "outputs": [
    {
     "name": "stdout",
     "output_type": "stream",
     "text": [
      "4783\n"
     ]
    }
   ],
   "source": [
    "neg_words = opinion_lexicon.get_negative_set()\n",
    "print(len(neg_words))"
   ]
  },
  {
   "cell_type": "code",
   "execution_count": 8,
   "metadata": {},
   "outputs": [
    {
     "name": "stdout",
     "output_type": "stream",
     "text": [
      "2\n",
      "20\n",
      "2\n",
      "24\n"
     ]
    }
   ],
   "source": [
    "print(opinion_lexicon.get_extremum_length(maximum=False, positive=True))\n",
    "print(opinion_lexicon.get_extremum_length(maximum=True,  positive=True))\n",
    "print(opinion_lexicon.get_extremum_length(maximum=False, positive=False))\n",
    "print(opinion_lexicon.get_extremum_length(maximum=True,  positive=False))"
   ]
  },
  {
   "cell_type": "markdown",
   "metadata": {},
   "source": [
    "## Extraction"
   ]
  },
  {
   "cell_type": "code",
   "execution_count": 9,
   "metadata": {},
   "outputs": [
    {
     "data": {
      "text/plain": [
       "['good', 'great']"
      ]
     },
     "execution_count": 9,
     "metadata": {},
     "output_type": "execute_result"
    }
   ],
   "source": [
    "opinion_lexicon.extract_positive_words({'good', 'bad', 'great', 'boring'})"
   ]
  },
  {
   "cell_type": "code",
   "execution_count": 10,
   "metadata": {},
   "outputs": [
    {
     "data": {
      "text/plain": [
       "['bad', 'boring']"
      ]
     },
     "execution_count": 10,
     "metadata": {},
     "output_type": "execute_result"
    }
   ],
   "source": [
    "opinion_lexicon.extract_negative_words({'good', 'bad', 'great', 'boring'})"
   ]
  },
  {
   "cell_type": "markdown",
   "metadata": {},
   "source": [
    "## Compare extraction runtimes"
   ]
  },
  {
   "cell_type": "code",
   "execution_count": 11,
   "metadata": {},
   "outputs": [
    {
     "name": "stdout",
     "output_type": "stream",
     "text": [
      "This is a very good text with good and great words. It it also boring. That is bad, very bad.\n",
      "93 5952 6\n"
     ]
    }
   ],
   "source": [
    "text = 'This is a very good text with good and great words. It it also boring. That is bad, very bad.'\n",
    "print (text)\n",
    "\n",
    "long_text = text\n",
    "long_texts = []\n",
    "for i in range(0,6):\n",
    "    long_text += long_text\n",
    "    long_texts.append(long_text)\n",
    "print(len(text), len(long_text), len(long_texts))"
   ]
  },
  {
   "cell_type": "code",
   "execution_count": 15,
   "metadata": {},
   "outputs": [
    {
     "name": "stdout",
     "output_type": "stream",
     "text": [
      "[('boring', 2), ('bad', 4)]\n",
      "[('good', 4), ('great', 2)]\n",
      "[('boring', 4), ('bad', 8)]\n",
      "[('good', 8), ('great', 4)]\n",
      "[('boring', 8), ('bad', 16)]\n",
      "[('good', 16), ('great', 8)]\n",
      "[('boring', 16), ('bad', 32)]\n",
      "[('good', 32), ('great', 16)]\n",
      "[('boring', 32), ('bad', 64)]\n",
      "[('good', 64), ('great', 32)]\n",
      "[('boring', 64), ('bad', 128)]\n",
      "[('good', 128), ('great', 64)]\n",
      "Runtime: 0.004742762073874474\n"
     ]
    }
   ],
   "source": [
    "# 1x preprocess, same min/max -> faster\n",
    "min_len = min(opinion_lexicon.get_extremum_length(maximum=False, positive=True), opinion_lexicon.get_extremum_length(maximum=False, positive=False))\n",
    "max_len = max(opinion_lexicon.get_extremum_length(maximum=True,  positive=True), opinion_lexicon.get_extremum_length(maximum=True,  positive=False))\n",
    "\n",
    "time_begin = timeit.default_timer()\n",
    "for t in long_texts:\n",
    "    counter = Counter(simple_preprocess(t, min_len=min_len, max_len=max_len))\n",
    "    print(opinion_lexicon.extract_negative_counts(counter))\n",
    "    print(opinion_lexicon.extract_positive_counts(counter))\n",
    "print('Runtime:', timeit.default_timer() - time_begin)"
   ]
  },
  {
   "cell_type": "code",
   "execution_count": 16,
   "metadata": {},
   "outputs": [
    {
     "name": "stdout",
     "output_type": "stream",
     "text": [
      "[('boring', 2), ('bad', 4)]\n",
      "[('good', 4), ('great', 2)]\n",
      "[('boring', 4), ('bad', 8)]\n",
      "[('good', 8), ('great', 4)]\n",
      "[('boring', 8), ('bad', 16)]\n",
      "[('good', 16), ('great', 8)]\n",
      "[('boring', 16), ('bad', 32)]\n",
      "[('good', 32), ('great', 16)]\n",
      "[('boring', 32), ('bad', 64)]\n",
      "[('good', 64), ('great', 32)]\n",
      "[('boring', 64), ('bad', 128)]\n",
      "[('good', 128), ('great', 64)]\n",
      "Runtime: 0.006688169902190566\n"
     ]
    }
   ],
   "source": [
    "# 2x preprocess, exact min/max -> slower\n",
    "minpos = opinion_lexicon.get_extremum_length(maximum=False, positive=True)\n",
    "maxpos = opinion_lexicon.get_extremum_length(maximum=True,  positive=True)\n",
    "minneg = opinion_lexicon.get_extremum_length(maximum=False, positive=False)\n",
    "maxneg = opinion_lexicon.get_extremum_length(maximum=True,  positive=False)\n",
    "\n",
    "time_begin = timeit.default_timer()\n",
    "for t in long_texts:\n",
    "    counter_neg = Counter(simple_preprocess(t, min_len=minneg, max_len=maxneg))\n",
    "    counter_pos = Counter(simple_preprocess(t, min_len=minpos, max_len=maxpos))\n",
    "    print(opinion_lexicon.extract_negative_counts(counter_neg))\n",
    "    print(opinion_lexicon.extract_positive_counts(counter_pos))\n",
    "print('Runtime:', timeit.default_timer() - time_begin)"
   ]
  },
  {
   "cell_type": "code",
   "execution_count": null,
   "metadata": {},
   "outputs": [],
   "source": []
  }
 ],
 "metadata": {
  "kernelspec": {
   "display_name": "Python (EML4U)",
   "language": "python",
   "name": "eml4u"
  },
  "language_info": {
   "codemirror_mode": {
    "name": "ipython",
    "version": 3
   },
   "file_extension": ".py",
   "mimetype": "text/x-python",
   "name": "python",
   "nbconvert_exporter": "python",
   "pygments_lexer": "ipython3",
   "version": "3.8.5"
  }
 },
 "nbformat": 4,
 "nbformat_minor": 4
}
