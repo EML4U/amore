{
 "cells": [
  {
   "cell_type": "markdown",
   "metadata": {},
   "source": [
    "# Print results\n",
    "\n",
    "Reads and prints created result files."
   ]
  },
  {
   "cell_type": "code",
   "execution_count": 3,
   "metadata": {},
   "outputs": [],
   "source": [
    "# Reload modules every time before executing the Python code typed\n",
    "%load_ext autoreload\n",
    "%autoreload 2\n",
    "\n",
    "# Import from project root\n",
    "import sys; sys.path.insert(0, '../')\n",
    "\n",
    "from amore.opinion_collection import OpinionCollection\n",
    "\n",
    "import pprint\n",
    "import pandas as pd\n",
    "from IPython.display import display\n",
    "from access.interim_storage import InterimStorage\n",
    "from amore.reviews import Reviews"
   ]
  },
  {
   "cell_type": "code",
   "execution_count": 4,
   "metadata": {},
   "outputs": [
    {
     "name": "stdout",
     "output_type": "stream",
     "text": [
      "7911684\n",
      "7911684\n"
     ]
    }
   ],
   "source": [
    "# OpinionCollection\n",
    "# Long runtime\n",
    "def printOpinionCollection():\n",
    "    print(len( OpinionCollection().read().get_results() ))\n",
    "    print(len( OpinionCollection().read_counts().get_positive_minus_negative() ))\n",
    "\n",
    "if True:\n",
    "    printOpinionCollection()"
   ]
  },
  {
   "cell_type": "markdown",
   "metadata": {},
   "source": [
    "## Outdated version"
   ]
  },
  {
   "cell_type": "code",
   "execution_count": 2,
   "metadata": {},
   "outputs": [],
   "source": [
    "def print_opinion_counts(file_id):\n",
    "    reviews = Reviews()\n",
    "    reviews.read_review_objects(file_id=file_id)\n",
    "    reviews.print_overview()\n",
    "    print('Size:', reviews.get_size())\n",
    "    for year in reviews.get_years():\n",
    "        for star in reviews.get_stars(year):\n",
    "            print(year, star, reviews.get_review_objects(year, star)[:5], '...')\n",
    "    return reviews\n",
    "\n",
    "def print_counter(file_id):\n",
    "    counter = InterimStorage(file_id).read()\n",
    "    for year in counter.keys():\n",
    "        for star in counter[year].keys():\n",
    "            print(year, star, len(counter[year][star]))\n",
    "    for year in counter.keys():\n",
    "        for star in counter[year].keys():\n",
    "            print(year, star, counter[year][star][:5], '...')\n",
    "    return counter\n",
    "\n",
    "def print_counter_table(file_id, df=None, format_=None, filter_=False):\n",
    "# https://pypi.org/project/tabulate/ 'github'\n",
    "    if df is None:\n",
    "        print('creating dataframe')\n",
    "        df = pd.DataFrame(0, index=sorted(counter[next(iter(counter))].keys()), columns=sorted(counter.keys()))\n",
    "        for year in counter.keys():\n",
    "            for star in counter[year].keys():\n",
    "                for tup in counter[year][star]:\n",
    "                    if not filter:\n",
    "                        df.at[star,year]+=1\n",
    "                    elif star < 3 and tup[2]-tup[1] > 0:\n",
    "                        df.at[star,year]+=1\n",
    "                    elif star > 3 and tup[1]-tup[2] > 0:\n",
    "                        df.at[star,year]+=1\n",
    "    if(format_ is not None):\n",
    "        print(df.to_markdown(tablefmt=format_)) # https://pypi.org/project/tabulate/\n",
    "    else:\n",
    "        display(df)\n",
    "    return df\n",
    "    \n",
    "def print_splits(file_id):\n",
    "    splits = InterimStorage(file_id).read()\n",
    "    pprint.pprint(splits)\n",
    "    for split in splits:\n",
    "        print(split.get_review_ids()[:5], '...')\n",
    "    return splits"
   ]
  },
  {
   "cell_type": "code",
   "execution_count": null,
   "metadata": {},
   "outputs": [],
   "source": [
    "#reviews = print_opinion_counts('AMORE-OpinionCounts')\n",
    "reviews = print_opinion_counts('1997-2012_1_5_OpinionCounts')"
   ]
  },
  {
   "cell_type": "code",
   "execution_count": null,
   "metadata": {},
   "outputs": [],
   "source": [
    "#counter = print_counter('AMORE-Sorted')\n",
    "#counter = print_counter('1997-2012_1_5_Sorted')\n",
    "\n",
    "# Using dataframe takes long\n",
    "if False:\n",
    "    try: df\n",
    "    except NameError: df = None\n",
    "    df = print_counter_table('1997-2012_1_5_Sorted', df=df, format_='github')\n",
    "if False:\n",
    "    try: df_filter\n",
    "    except NameError: df_filter = None\n",
    "    df_filter = print_counter_table('1997-2012_1_5_Sorted', df=df_filter, format_='github', filter_=True)"
   ]
  },
  {
   "cell_type": "markdown",
   "metadata": {},
   "source": [
    "**Direct**\n",
    "\n",
    "|    |   1997 |   1998 |   1999 |   2000 |   2001 |   2002 |   2003 |   2004 |   2005 |   2006 |   2007 |   2008 |   2009 |   2010 |   2011 |   2012 |\n",
    "|----|--------|--------|--------|--------|--------|--------|--------|--------|--------|--------|--------|--------|--------|--------|--------|--------|\n",
    "|  1 |      6 |    191 |   4844 |  19944 |  24221 |  25311 |  25734 |  41016 |  54744 |  49049 |  49521 |  56076 |  59099 |  65343 |  72957 |  81276 |\n",
    "|  5 |     64 |   3313 |  49866 | 192002 | 189638 | 198712 | 205916 | 257603 | 308080 | 311252 | 452009 | 412870 | 422403 | 426248 | 465918 | 484650 |\n",
    "\n",
    "**Filtered**\n",
    "\n",
    "|    |   1997 |   1998 |   1999 |   2000 |   2001 |   2002 |   2003 |   2004 |   2005 |   2006 |   2007 |   2008 |   2009 |   2010 |   2011 |   2012 |\n",
    "|----|--------|--------|--------|--------|--------|--------|--------|--------|--------|--------|--------|--------|--------|--------|--------|--------|\n",
    "|  1 |      6 |    104 |   3257 |  13415 |  15718 |  17091 |  17625 |  28579 |  37267 |  31691 |  32163 |  35884 |  37303 |  41238 |  45654 |  50768 |\n",
    "|  5 |     52 |   2713 |  40237 | 153056 | 151172 | 157108 | 160913 | 199131 | 239490 | 246828 | 375616 | 346400 | 357043 | 358142 | 398479 | 415719 |"
   ]
  },
  {
   "cell_type": "code",
   "execution_count": 3,
   "metadata": {},
   "outputs": [
    {
     "name": "stdout",
     "output_type": "stream",
     "text": [
      "[Review(AMORE1,A,10000),\n",
      " Review(AMORE1,B,9900),\n",
      " Review(AMORE1,B,100),\n",
      " Review(AMORE2,A,10000),\n",
      " Review(AMORE2,B,9800),\n",
      " Review(AMORE2,B,200)]\n",
      "[334241, 705914, 1070406, 1206648, 1229742] ...\n",
      "[3569722, 3570714, 3571533, 3571568, 3577009] ...\n",
      "[3116450, 3239880, 4268728, 4606075, 709244] ...\n",
      "[1707082, 7418424, 270959, 3956447, 897306] ...\n",
      "[2473162, 2473326, 2473342, 2473508, 2474416] ...\n",
      "[623398, 712539, 934046, 940102, 1095175] ...\n"
     ]
    }
   ],
   "source": [
    "splits = print_splits('AMORE-IDs')"
   ]
  },
  {
   "cell_type": "code",
   "execution_count": null,
   "metadata": {},
   "outputs": [],
   "source": []
  }
 ],
 "metadata": {
  "kernelspec": {
   "display_name": "Python (EML4U)",
   "language": "python",
   "name": "eml4u"
  },
  "language_info": {
   "codemirror_mode": {
    "name": "ipython",
    "version": 3
   },
   "file_extension": ".py",
   "mimetype": "text/x-python",
   "name": "python",
   "nbconvert_exporter": "python",
   "pygments_lexer": "ipython3",
   "version": "3.8.5"
  }
 },
 "nbformat": 4,
 "nbformat_minor": 4
}
