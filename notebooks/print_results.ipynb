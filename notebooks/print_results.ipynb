{
 "cells": [
  {
   "cell_type": "markdown",
   "metadata": {},
   "source": [
    "# Print results\n",
    "\n",
    "Reads and prints created result files."
   ]
  },
  {
   "cell_type": "code",
   "execution_count": null,
   "metadata": {},
   "outputs": [],
   "source": [
    "# Reload modules every time before executing the Python code typed\n",
    "%load_ext autoreload\n",
    "%autoreload 2\n",
    "\n",
    "# Import from project root\n",
    "import sys; sys.path.insert(0, '../')\n",
    "\n",
    "import pprint\n",
    "from access.interim_storage import InterimStorage\n",
    "from amore.reviews import Reviews"
   ]
  },
  {
   "cell_type": "code",
   "execution_count": null,
   "metadata": {},
   "outputs": [],
   "source": [
    "def print_opinion_counts(file_id):\n",
    "    reviews = Reviews()\n",
    "    reviews.read_review_objects(file_id=file_id)\n",
    "    reviews.print_overview()\n",
    "    print('Size:', reviews.get_size())\n",
    "    for year in reviews.get_years():\n",
    "        for star in reviews.get_stars(year):\n",
    "            print(reviews.get_review_objects(year, star)[:5], '...')\n",
    "    return reviews\n",
    "\n",
    "def print_counter(file_id):\n",
    "    counter = InterimStorage(file_id).read()\n",
    "    for year in counter.keys():\n",
    "        for star in counter[year].keys():\n",
    "            print(year, star, len(counter[year][star]))\n",
    "    for year in counter.keys():\n",
    "        for star in counter[year].keys():\n",
    "            print(year, star, counter[year][star][:5], '...')\n",
    "    return counter\n",
    "    \n",
    "def print_splits(file_id):\n",
    "    splits = InterimStorage(file_id).read()\n",
    "    pprint.pprint(splits)\n",
    "    for split in splits:\n",
    "        print(split.get_review_ids()[:5], '...')\n",
    "    return splits"
   ]
  },
  {
   "cell_type": "code",
   "execution_count": null,
   "metadata": {},
   "outputs": [],
   "source": [
    "reviews = print_opinion_counts('AMORE-OpinionCounts')"
   ]
  },
  {
   "cell_type": "code",
   "execution_count": null,
   "metadata": {},
   "outputs": [],
   "source": [
    "counter = print_counter('AMORE-Sorted')"
   ]
  },
  {
   "cell_type": "code",
   "execution_count": null,
   "metadata": {},
   "outputs": [],
   "source": [
    "splits = print_splits('AMORE-IDs')"
   ]
  },
  {
   "cell_type": "code",
   "execution_count": null,
   "metadata": {},
   "outputs": [],
   "source": []
  }
 ],
 "metadata": {
  "kernelspec": {
   "display_name": "Python (EML4U)",
   "language": "python",
   "name": "eml4u"
  },
  "language_info": {
   "codemirror_mode": {
    "name": "ipython",
    "version": 3
   },
   "file_extension": ".py",
   "mimetype": "text/x-python",
   "name": "python",
   "nbconvert_exporter": "python",
   "pygments_lexer": "ipython3",
   "version": "3.8.5"
  }
 },
 "nbformat": 4,
 "nbformat_minor": 4
}
