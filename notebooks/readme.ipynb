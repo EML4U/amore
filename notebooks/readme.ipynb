{
 "cells": [
  {
   "cell_type": "markdown",
   "metadata": {},
   "source": [
    "# Infos for README file"
   ]
  },
  {
   "cell_type": "code",
   "execution_count": 1,
   "metadata": {},
   "outputs": [],
   "source": [
    "# Reload modules every time before executing the Python code typed\n",
    "%load_ext autoreload\n",
    "%autoreload 2\n",
    "\n",
    "# Import from project root\n",
    "import sys; sys.path.insert(0, '../')\n",
    "\n",
    "from access.file_storage import FileStorage"
   ]
  },
  {
   "cell_type": "code",
   "execution_count": 2,
   "metadata": {},
   "outputs": [
    {
     "name": "stdout",
     "output_type": "stream",
     "text": [
      "- Source:   https://snap.stanford.edu/data/movies.txt.gz  \n",
      "  Location: data/movies/movies.txt.gz\n",
      "- Source:   http://www.cs.uic.edu/~liub/FBS/opinion-lexicon-English.rar  \n",
      "  Location: data/opinion-words/opinion-lexicon-English.rar\n"
     ]
    }
   ],
   "source": [
    "file_storage = FileStorage()\n",
    "\n",
    "for item in file_storage.get_files().items():\n",
    "    if False:\n",
    "        print(item)\n",
    "        print()\n",
    "    print('- Source:  ', item[1]['web'], ' ')\n",
    "    print('  Location:', file_storage.get_filepath(item[0])[len(file_storage.get_project_rootpath())+1:])"
   ]
  },
  {
   "cell_type": "code",
   "execution_count": null,
   "metadata": {},
   "outputs": [],
   "source": []
  }
 ],
 "metadata": {
  "kernelspec": {
   "display_name": "Python (EML4U)",
   "language": "python",
   "name": "eml4u"
  },
  "language_info": {
   "codemirror_mode": {
    "name": "ipython",
    "version": 3
   },
   "file_extension": ".py",
   "mimetype": "text/x-python",
   "name": "python",
   "nbconvert_exporter": "python",
   "pygments_lexer": "ipython3",
   "version": "3.8.5"
  }
 },
 "nbformat": 4,
 "nbformat_minor": 4
}
