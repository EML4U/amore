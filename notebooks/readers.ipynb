{
 "cells": [
  {
   "cell_type": "markdown",
   "metadata": {},
   "source": [
    "# Readers"
   ]
  },
  {
   "cell_type": "code",
   "execution_count": 25,
   "metadata": {},
   "outputs": [
    {
     "name": "stdout",
     "output_type": "stream",
     "text": [
      "The autoreload extension is already loaded. To reload it, use:\n",
      "  %reload_ext autoreload\n"
     ]
    }
   ],
   "source": [
    "# Reload modules every time before executing the Python code typed\n",
    "%load_ext autoreload\n",
    "%autoreload 2\n",
    "\n",
    "# Import from project root\n",
    "import sys; sys.path.insert(0, '../')\n",
    "\n",
    "from access.interim_storage import InterimStorage\n",
    "from readers.numbers_years_stars import NumbersYearsStars\n",
    "from readers.text_duplicates import TextDuplicates\n",
    "from readers.opinion_collection import OpinionCollection\n",
    "from readers.opinion_counts import OpinionCounts"
   ]
  },
  {
   "cell_type": "markdown",
   "metadata": {},
   "source": [
    "## NumbersYearsStars"
   ]
  },
  {
   "cell_type": "code",
   "execution_count": null,
   "metadata": {},
   "outputs": [],
   "source": [
    "filepath = InterimStorage('AMORE-NumbersYearsStars', type_=InterimStorage.JSON_GZ).get_filepath()\n",
    "print(filepath)\n",
    "nys = NumbersYearsStars(filepath)"
   ]
  },
  {
   "cell_type": "code",
   "execution_count": null,
   "metadata": {},
   "outputs": [],
   "source": [
    "print(nys.get_by_number(1))"
   ]
  },
  {
   "cell_type": "code",
   "execution_count": null,
   "metadata": {},
   "outputs": [],
   "source": [
    "year1997 = nys.get_by_year_star(years=[1997])"
   ]
  },
  {
   "cell_type": "code",
   "execution_count": null,
   "metadata": {},
   "outputs": [],
   "source": [
    "print(list(year1997.keys()), list(year1997[1997].keys()), list(year1997[1997][1][0]))"
   ]
  },
  {
   "cell_type": "code",
   "execution_count": null,
   "metadata": {},
   "outputs": [],
   "source": [
    "good = nys.get_by_year_star(stars=[4,5])"
   ]
  },
  {
   "cell_type": "code",
   "execution_count": null,
   "metadata": {},
   "outputs": [],
   "source": [
    "print(list(good.keys()), list(good[1997].keys()), list(good[1997][5][0]))"
   ]
  },
  {
   "cell_type": "markdown",
   "metadata": {},
   "source": [
    "## TextDuplicates"
   ]
  },
  {
   "cell_type": "code",
   "execution_count": null,
   "metadata": {},
   "outputs": [],
   "source": [
    "filepath = InterimStorage('AMORE-TextDuplicates', type_=InterimStorage.JSON_GZ).get_filepath()\n",
    "print(filepath)\n",
    "td = TextDuplicates(filepath)"
   ]
  },
  {
   "cell_type": "code",
   "execution_count": null,
   "metadata": {},
   "outputs": [],
   "source": [
    "print(len(td.get_data()))"
   ]
  },
  {
   "cell_type": "code",
   "execution_count": null,
   "metadata": {},
   "outputs": [],
   "source": [
    "print(td.get_data()[0])"
   ]
  },
  {
   "cell_type": "markdown",
   "metadata": {},
   "source": [
    "## OpinionCollection"
   ]
  },
  {
   "cell_type": "code",
   "execution_count": 2,
   "metadata": {},
   "outputs": [
    {
     "name": "stdout",
     "output_type": "stream",
     "text": [
      "/tmp/InterimStorage/AMORE-OpinionCollection.json.gz\n"
     ]
    }
   ],
   "source": [
    "filepath = InterimStorage('AMORE-OpinionCollection', type_=InterimStorage.JSON_GZ).get_filepath()\n",
    "print(filepath)\n",
    "oc = OpinionCollection(filepath)"
   ]
  },
  {
   "cell_type": "code",
   "execution_count": 3,
   "metadata": {},
   "outputs": [
    {
     "name": "stdout",
     "output_type": "stream",
     "text": [
      "7911684\n"
     ]
    }
   ],
   "source": [
    "print(len(oc.get_data()))"
   ]
  },
  {
   "cell_type": "code",
   "execution_count": 8,
   "metadata": {},
   "outputs": [
    {
     "name": "stdout",
     "output_type": "stream",
     "text": [
      "[1, [['darkness', 1]], [['miracle', 1]], [['raped', 1], ['desert', 2], ['undocumented', 1], ['relentless', 1], ['vicious', 1], ['attack', 1], ['wounds', 1], ['fanatical', 1], ['evil', 1], ['mysterious', 1], ['concerns', 1], ['unexpected', 1], ['plot', 1], ['fragile', 1]], [['enhanced', 1], ['fascination', 1], ['miracles', 1], ['heavenly', 1], ['interesting', 1], ['enough', 1], ['merit', 1], ['solid', 1], ['perfect', 1], ['visionary', 1]]]\n"
     ]
    }
   ],
   "source": [
    "print(oc.get_by_number(1))"
   ]
  },
  {
   "cell_type": "code",
   "execution_count": 10,
   "metadata": {},
   "outputs": [
    {
     "name": "stdout",
     "output_type": "stream",
     "text": [
      "[['darkness', 1]]\n",
      "[['miracle', 1]]\n",
      "[['raped', 1], ['desert', 2], ['undocumented', 1], ['relentless', 1], ['vicious', 1], ['attack', 1], ['wounds', 1], ['fanatical', 1], ['evil', 1], ['mysterious', 1], ['concerns', 1], ['unexpected', 1], ['plot', 1], ['fragile', 1]]\n",
      "[['enhanced', 1], ['fascination', 1], ['miracles', 1], ['heavenly', 1], ['interesting', 1], ['enough', 1], ['merit', 1], ['solid', 1], ['perfect', 1], ['visionary', 1]]\n"
     ]
    }
   ],
   "source": [
    "print(oc.get_negative_summary(1))\n",
    "print(oc.get_positive_summary(1))\n",
    "print(oc.get_negative_text(1))\n",
    "print(oc.get_positive_text(1))"
   ]
  },
  {
   "cell_type": "markdown",
   "metadata": {},
   "source": [
    "## OpinionCounts"
   ]
  },
  {
   "cell_type": "code",
   "execution_count": 11,
   "metadata": {},
   "outputs": [
    {
     "name": "stdout",
     "output_type": "stream",
     "text": [
      "/tmp/InterimStorage/AMORE-OpinionCounts.json.gz\n"
     ]
    }
   ],
   "source": [
    "filepath = InterimStorage('AMORE-OpinionCounts', type_=InterimStorage.JSON_GZ).get_filepath()\n",
    "print(filepath)\n",
    "ocounts = OpinionCounts(filepath)"
   ]
  },
  {
   "cell_type": "code",
   "execution_count": 12,
   "metadata": {},
   "outputs": [
    {
     "name": "stdout",
     "output_type": "stream",
     "text": [
      "7911684\n"
     ]
    }
   ],
   "source": [
    "print(len(ocounts.get_data()))"
   ]
  },
  {
   "cell_type": "code",
   "execution_count": 31,
   "metadata": {},
   "outputs": [
    {
     "name": "stdout",
     "output_type": "stream",
     "text": [
      "[-5, -4]\n",
      "-5\n",
      "-4\n"
     ]
    }
   ],
   "source": [
    "print(ocounts.get(1))\n",
    "print(ocounts.get_existent(1))\n",
    "print(ocounts.get_occurences(1))"
   ]
  },
  {
   "cell_type": "code",
   "execution_count": null,
   "metadata": {},
   "outputs": [],
   "source": []
  }
 ],
 "metadata": {
  "kernelspec": {
   "display_name": "Python (EML4U)",
   "language": "python",
   "name": "eml4u"
  },
  "language_info": {
   "codemirror_mode": {
    "name": "ipython",
    "version": 3
   },
   "file_extension": ".py",
   "mimetype": "text/x-python",
   "name": "python",
   "nbconvert_exporter": "python",
   "pygments_lexer": "ipython3",
   "version": "3.8.5"
  }
 },
 "nbformat": 4,
 "nbformat_minor": 4
}
