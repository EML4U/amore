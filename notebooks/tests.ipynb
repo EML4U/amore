{
 "cells": [
  {
   "cell_type": "code",
   "execution_count": null,
   "metadata": {},
   "outputs": [],
   "source": [
    "# Reload modules every time before executing the Python code typed\n",
    "%load_ext autoreload\n",
    "%autoreload 2\n",
    "\n",
    "# Import from project root\n",
    "import sys; sys.path.insert(0, '../')\n",
    "\n",
    "# Load test data\n",
    "from access.interim_storage import InterimStorage\n",
    "import pprint\n",
    "\n",
    "# Test class Datasets\n",
    "from amore.reviews import Reviews\n",
    "from amore.review import Review\n",
    "from amore.opinion_lexicon import OpinionLexicon\n",
    "from access.file_storage import FileStorage\n",
    "from amore.amazon_reviews_reader import AmazonReviewsReader\n",
    "from gensim.utils import simple_preprocess"
   ]
  },
  {
   "cell_type": "markdown",
   "metadata": {},
   "source": [
    "## Load test data"
   ]
  },
  {
   "cell_type": "code",
   "execution_count": null,
   "metadata": {},
   "outputs": [],
   "source": [
    "# Config\n",
    "write_file_id = 'amore-test-2002-2003-1-5'\n",
    "interim_storage = InterimStorage(write_file_id)\n",
    "print('filepath:', interim_storage.get_filepath())\n",
    "# filepath: /tmp/InterimStorage/amore-test-2002-2003-1-5.pickle.bz2"
   ]
  },
  {
   "cell_type": "code",
   "execution_count": null,
   "metadata": {},
   "outputs": [],
   "source": [
    "# Load\n",
    "if True:\n",
    "    results = interim_storage.read()"
   ]
  },
  {
   "cell_type": "code",
   "execution_count": null,
   "metadata": {},
   "outputs": [],
   "source": [
    "# Print\n",
    "if False:\n",
    "    pprint.pprint(results)\n",
    "\n",
    "for year in results.keys():\n",
    "    for star in results[year].keys():\n",
    "        print(year, star, len(results[year][star]))"
   ]
  },
  {
   "cell_type": "markdown",
   "metadata": {},
   "source": [
    "## Test class Datasets"
   ]
  },
  {
   "cell_type": "code",
   "execution_count": null,
   "metadata": {},
   "outputs": [],
   "source": [
    "# From amore.py\n",
    "file_storage = FileStorage()\n",
    "opinion_lexicon = OpinionLexicon(file_storage.get_filepath('opinion-words'))\n",
    "opinion_max_pos = opinion_lexicon.get_extremum_length(maximum=True, positive=True)\n",
    "opinion_max_neg = opinion_lexicon.get_extremum_length(maximum=True, positive=False)"
   ]
  },
  {
   "cell_type": "code",
   "execution_count": null,
   "metadata": {},
   "outputs": [],
   "source": [
    "# From amore.py\n",
    "def extract_opinion_words(text, positive=True, min_len=3, max_len=24):\n",
    "    token_set = set(simple_preprocess(text, min_len=min_len, max_len=max_len))\n",
    "    if(positive):\n",
    "        return opinion_lexicon.extract_positive_words(token_set)\n",
    "    else:\n",
    "        return opinion_lexicon.extract_negative_words(token_set)\n",
    "\n",
    "# Create datasets form previously loaded results\n",
    "reviews = Reviews()\n",
    "for year in results.keys():\n",
    "    for star in results[year].keys():\n",
    "        for review in results[year][star]:\n",
    "            text = review[AmazonReviewsReader.KEY_SUMMARY] + ' ' + review[AmazonReviewsReader.KEY_TEXT]\n",
    "            reviews.add_review(year, star,\n",
    "                                Review(review[AmazonReviewsReader.KEY_NUMBER],\n",
    "                                       len(extract_opinion_words(text, positive=True, min_len=3, max_len=opinion_max_pos)),\n",
    "                                       len(extract_opinion_words(text, positive=False, min_len=3, max_len=opinion_max_neg))\n",
    "            ))"
   ]
  },
  {
   "cell_type": "code",
   "execution_count": null,
   "metadata": {},
   "outputs": [],
   "source": [
    "# Print\n",
    "if True:\n",
    "    pprint.pprint(reviews.get_positive_sorted_tuple(2002, 5))\n",
    "    #pprint.pprint(reviews.get_positive_sorted(2002, 5))\n",
    "    #pprint.pprint(reviews.get_positive_sorted(2003, 5))\n",
    "    print()\n",
    "    pprint.pprint(reviews.get_negative_sorted_tuple(2002, 1))\n",
    "    #pprint.pprint(reviews.get_negative_sorted(2002, 1))\n",
    "    #pprint.pprint(reviews.get_negative_sorted(2003, 1))"
   ]
  },
  {
   "cell_type": "code",
   "execution_count": null,
   "metadata": {},
   "outputs": [],
   "source": [
    "reviews.write_review_objects()"
   ]
  },
  {
   "cell_type": "code",
   "execution_count": null,
   "metadata": {},
   "outputs": [],
   "source": [
    "reviews = Reviews().read_review_objects()"
   ]
  },
  {
   "cell_type": "markdown",
   "metadata": {},
   "source": [
    "## Load test data"
   ]
  },
  {
   "cell_type": "code",
   "execution_count": null,
   "metadata": {},
   "outputs": [],
   "source": [
    "write_file_id = 'test1' # from amore.ipynb\n",
    "reviews = Reviews()\n",
    "reviews.read_review_objects(file_id=write_file_id) # from amore.py"
   ]
  },
  {
   "cell_type": "code",
   "execution_count": null,
   "metadata": {},
   "outputs": [],
   "source": []
  }
 ],
 "metadata": {
  "kernelspec": {
   "display_name": "Python (EML4U)",
   "language": "python",
   "name": "eml4u"
  },
  "language_info": {
   "codemirror_mode": {
    "name": "ipython",
    "version": 3
   },
   "file_extension": ".py",
   "mimetype": "text/x-python",
   "name": "python",
   "nbconvert_exporter": "python",
   "pygments_lexer": "ipython3",
   "version": "3.8.5"
  }
 },
 "nbformat": 4,
 "nbformat_minor": 4
}
