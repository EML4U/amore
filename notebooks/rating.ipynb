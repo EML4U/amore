{
 "cells": [
  {
   "cell_type": "markdown",
   "metadata": {},
   "source": [
    "# Rating"
   ]
  },
  {
   "cell_type": "code",
   "execution_count": 1,
   "metadata": {},
   "outputs": [],
   "source": [
    "# Reload modules every time before executing the Python code typed\n",
    "%load_ext autoreload\n",
    "%autoreload 2\n",
    "\n",
    "# Import from project root\n",
    "import sys; sys.path.insert(0, '../')\n",
    "\n",
    "from access.file_storage import FileStorage\n",
    "from amore.opinion_lexicon import OpinionLexicon\n",
    "from amore.amazon_reviews_reader import AmazonReviewsReader\n",
    "\n",
    "import os\n",
    "import datetime\n",
    "import pprint\n",
    "from gensim.utils import simple_preprocess"
   ]
  },
  {
   "cell_type": "code",
   "execution_count": 2,
   "metadata": {},
   "outputs": [],
   "source": [
    "# Print helper\n",
    "def pp(value):\n",
    "    # https://docs.python.org/3/library/pprint.html#pprint.pprint\n",
    "    pprint.pprint(value, compact=True, width=120)"
   ]
  },
  {
   "cell_type": "code",
   "execution_count": 3,
   "metadata": {},
   "outputs": [],
   "source": [
    "# File access\n",
    "file_storage = FileStorage()"
   ]
  },
  {
   "cell_type": "code",
   "execution_count": 4,
   "metadata": {},
   "outputs": [
    {
     "name": "stdout",
     "output_type": "stream",
     "text": [
      "2006 4783\n"
     ]
    }
   ],
   "source": [
    "# Load opinion words\n",
    "opinion_lexicon = OpinionLexicon(file_storage.get_filepath('opinion-words'))\n",
    "print(len(opinion_lexicon.get_positive_set()), len(opinion_lexicon.get_negative_set()))"
   ]
  },
  {
   "cell_type": "code",
   "execution_count": 5,
   "metadata": {},
   "outputs": [],
   "source": [
    "# Check length of opinion words. Result: Min 2 (useless, use 3), Max 24. \n",
    "if False:\n",
    "    opinion_min = 100\n",
    "    opinion_max = -1\n",
    "    for word in pos_words:\n",
    "        if len(word) < opinion_min:\n",
    "            opinion_min = len(word)\n",
    "        if len(word) > opinion_max:\n",
    "            opinion_max = len(word)\n",
    "    for word in neg_words:\n",
    "        if len(word) < opinion_min:\n",
    "            opinion_min = len(word)\n",
    "        if len(word) > opinion_max:\n",
    "            opinion_max = len(word)\n",
    "    print(opinion_min, opinion_max)\n",
    "\n",
    "    if False:\n",
    "        # a+ bs ax\n",
    "        for word in pos_words:\n",
    "            if len(word) <= 2:\n",
    "                print(word)\n",
    "        print()\n",
    "        for word in neg_words:\n",
    "            if len(word) <= 2:\n",
    "                print(word)"
   ]
  },
  {
   "cell_type": "code",
   "execution_count": 6,
   "metadata": {},
   "outputs": [],
   "source": [
    "# Function extracts opinion words\n",
    "def extract_opinion_words(text, positive=True, min_len=3, max_len=24):\n",
    "    token_set = set(simple_preprocess(text, min_len=min_len, max_len=max_len))\n",
    "    if(positive):\n",
    "        return opinion_lexicon.extract_positive_words(token_set)\n",
    "    else:\n",
    "        return opinion_lexicon.extract_negative_words(token_set)"
   ]
  },
  {
   "cell_type": "code",
   "execution_count": 7,
   "metadata": {},
   "outputs": [
    {
     "name": "stdout",
     "output_type": "stream",
     "text": [
      "{'helpfulness': (7, 7),\n",
      " 'number': 1,\n",
      " 'productId': 'B003AI2VGA',\n",
      " 'profileName': 'Brian E. Erland \"Rainbow Sphinx\"',\n",
      " 'score': 3,\n",
      " 'summary': '\"There Is So Much Darkness Now ~ Come For The Miracle\"',\n",
      " 'text': 'Synopsis: On the daily trek from Juarez, Mexico to El Paso, Texas an ever increasing number of female '\n",
      "         'workers are found raped and murdered in the surrounding desert. Investigative reporter Karina Danes (Minnie '\n",
      "         'Driver) arrives from Los Angeles to pursue the story and angers both the local police and the factory owners '\n",
      "         'who employee the undocumented aliens with her pointed questions and relentless quest for the truth.<br /><br '\n",
      "         '/>Her story goes nationwide when a young girl named Mariela (Ana Claudia Talancon) survives a vicious attack '\n",
      "         'and walks out of the desert crediting the Blessed Virgin for her rescue. Her story is further enhanced when '\n",
      "         'the \"Wounds of Christ\" (stigmata) appear in her palms. She also claims to have received a message of hope '\n",
      "         'for the Virgin Mary and soon a fanatical movement forms around her to fight against the evil that holds such '\n",
      "         'a stranglehold on the area.<br /><br />Critique: Possessing a lifelong fascination with such esoteric '\n",
      "         'matters as Catholic mysticism, miracles and the mysterious appearance of the stigmata, I was immediately '\n",
      "         \"attracted to the '05 DVD release `Virgin of Juarez'. The film offers a rather unique storyline blending \"\n",
      "         'current socio-political concerns, the constant flow of Mexican migrant workers back and forth across the '\n",
      "         'U.S./Mexican border and the traditional Catholic beliefs of the Hispanic population. I must say I was quite '\n",
      "         'surprised by the unexpected route taken by the plot and the means and methods by which the heavenly message '\n",
      "         \"unfolds.<br /><br />`Virgin of Juarez' is not a film that you would care to watch over and over again, but \"\n",
      "         'it was interesting enough to merit at least one viewing. Minnie Driver delivers a solid performance and Ana '\n",
      "         'Claudia Talancon is perfect as the fragile and innocent visionary Mariela. Also starring Esai Morales and '\n",
      "         'Angus Macfadyen (Braveheart).',\n",
      " 'time': datetime.datetime(2007, 6, 25, 2, 0),\n",
      " 'userId': 'A141HP4LYPWMSR'}\n"
     ]
    }
   ],
   "source": [
    "# Example review\n",
    "review1 = {'productId': 'B003AI2VGA', 'userId': 'A141HP4LYPWMSR', 'profileName': 'Brian E. Erland \"Rainbow Sphinx\"', 'helpfulness': (7, 7), 'score': 3, 'time': datetime.datetime(2007, 6, 25, 2, 0), 'summary': '\"There Is So Much Darkness Now ~ Come For The Miracle\"', 'text': 'Synopsis: On the daily trek from Juarez, Mexico to El Paso, Texas an ever increasing number of female workers are found raped and murdered in the surrounding desert. Investigative reporter Karina Danes (Minnie Driver) arrives from Los Angeles to pursue the story and angers both the local police and the factory owners who employee the undocumented aliens with her pointed questions and relentless quest for the truth.<br /><br />Her story goes nationwide when a young girl named Mariela (Ana Claudia Talancon) survives a vicious attack and walks out of the desert crediting the Blessed Virgin for her rescue. Her story is further enhanced when the \"Wounds of Christ\" (stigmata) appear in her palms. She also claims to have received a message of hope for the Virgin Mary and soon a fanatical movement forms around her to fight against the evil that holds such a stranglehold on the area.<br /><br />Critique: Possessing a lifelong fascination with such esoteric matters as Catholic mysticism, miracles and the mysterious appearance of the stigmata, I was immediately attracted to the \\'05 DVD release `Virgin of Juarez\\'. The film offers a rather unique storyline blending current socio-political concerns, the constant flow of Mexican migrant workers back and forth across the U.S./Mexican border and the traditional Catholic beliefs of the Hispanic population. I must say I was quite surprised by the unexpected route taken by the plot and the means and methods by which the heavenly message unfolds.<br /><br />`Virgin of Juarez\\' is not a film that you would care to watch over and over again, but it was interesting enough to merit at least one viewing. Minnie Driver delivers a solid performance and Ana Claudia Talancon is perfect as the fragile and innocent visionary Mariela. Also starring Esai Morales and Angus Macfadyen (Braveheart).', 'number': 1}\n",
    "if True:\n",
    "    pp(review1)"
   ]
  },
  {
   "cell_type": "code",
   "execution_count": 8,
   "metadata": {},
   "outputs": [
    {
     "name": "stdout",
     "output_type": "stream",
     "text": [
      "['interesting', 'enough', 'enhanced', 'fascination', 'miracles', 'heavenly', 'perfect', 'visionary', 'solid', 'merit']\n"
     ]
    }
   ],
   "source": [
    "pp(extract_opinion_words(review1['text'], positive=True))"
   ]
  },
  {
   "cell_type": "code",
   "execution_count": 9,
   "metadata": {},
   "outputs": [
    {
     "name": "stdout",
     "output_type": "stream",
     "text": [
      "['undocumented', 'concerns', 'desert', 'attack', 'raped', 'unexpected', 'evil', 'fanatical', 'fragile', 'wounds',\n",
      " 'vicious', 'mysterious', 'relentless', 'plot']\n"
     ]
    }
   ],
   "source": [
    "pp(extract_opinion_words(review1['text'], positive=False))"
   ]
  },
  {
   "cell_type": "code",
   "execution_count": 10,
   "metadata": {},
   "outputs": [],
   "source": [
    "def review_extract(review):\n",
    "    text = review[AmazonReviewsReader.KEY_SUMMARY]+' '+review[AmazonReviewsReader.KEY_TEXT]\n",
    "    return (review[AmazonReviewsReader.KEY_NUMBER], len(extract_opinion_words(text, positive=True)), len(extract_opinion_words(text, positive=False)))"
   ]
  },
  {
   "cell_type": "code",
   "execution_count": 11,
   "metadata": {},
   "outputs": [],
   "source": [
    "max_docs = 10000\n",
    "reviews = AmazonReviewsReader(file_storage.get_filepath('amazon_gz_file'), AmazonReviewsReader.MODE_TYPED, max_docs=max_docs, min_year=2001, max_year=2010+1)"
   ]
  },
  {
   "cell_type": "code",
   "execution_count": 12,
   "metadata": {},
   "outputs": [],
   "source": [
    "if True:\n",
    "    results = {}\n",
    "    for review in reviews:\n",
    "        result = review_extract(review)\n",
    "        results[result[0]] = result"
   ]
  },
  {
   "cell_type": "code",
   "execution_count": 13,
   "metadata": {},
   "outputs": [
    {
     "name": "stdout",
     "output_type": "stream",
     "text": [
      "10000\n"
     ]
    }
   ],
   "source": [
    "print(len(results))"
   ]
  },
  {
   "cell_type": "code",
   "execution_count": null,
   "metadata": {},
   "outputs": [],
   "source": []
  }
 ],
 "metadata": {
  "kernelspec": {
   "display_name": "Python (EML4U)",
   "language": "python",
   "name": "eml4u"
  },
  "language_info": {
   "codemirror_mode": {
    "name": "ipython",
    "version": 3
   },
   "file_extension": ".py",
   "mimetype": "text/x-python",
   "name": "python",
   "nbconvert_exporter": "python",
   "pygments_lexer": "ipython3",
   "version": "3.8.5"
  }
 },
 "nbformat": 4,
 "nbformat_minor": 4
}
