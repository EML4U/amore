{
 "cells": [
  {
   "cell_type": "markdown",
   "metadata": {},
   "source": [
    "# Filtering: Opinion lexicon\n",
    "\n",
    "Reads `original.pickle.bz2` and writes `opinion-filtered.pickle.bz2`.\n",
    "\n",
    "Uses opinion lexicon and review-summary + review-text.\n",
    "\n",
    "Data format: `{year {star [(number, year, star)] } }`"
   ]
  },
  {
   "cell_type": "code",
   "execution_count": 1,
   "metadata": {},
   "outputs": [],
   "source": [
    "# Reload modules every time before executing the Python code typed\n",
    "%load_ext autoreload\n",
    "%autoreload 2\n",
    "\n",
    "# Import from project root\n",
    "import sys; sys.path.insert(0, '../')\n",
    "\n",
    "import timeit\n",
    "\n",
    "from access.file_storage import FileStorage\n",
    "from access.interim_storage import InterimStorage\n",
    "from amore.printer import Printer\n",
    "from readers.opinion_counts import OpinionCounts\n",
    "\n",
    "KEY_NUMBER = 0\n",
    "KEY_YEAR   = 1\n",
    "KEY_STAR   = 2"
   ]
  },
  {
   "cell_type": "code",
   "execution_count": 2,
   "metadata": {},
   "outputs": [],
   "source": [
    "file_storage = FileStorage()\n",
    "printer = Printer()"
   ]
  },
  {
   "cell_type": "code",
   "execution_count": 3,
   "metadata": {},
   "outputs": [],
   "source": [
    "def count_ysl(ysl):\n",
    "    c = 0\n",
    "    for year in ysl.keys():\n",
    "        for star in ysl[year].keys():\n",
    "            c += len(ysl[year][star])\n",
    "    return c"
   ]
  },
  {
   "cell_type": "code",
   "execution_count": 4,
   "metadata": {},
   "outputs": [],
   "source": [
    "def add_tuple(dict_, tup):\n",
    "    if tup[KEY_YEAR] not in dict_.keys():\n",
    "        dict_[tup[KEY_YEAR]] = {}\n",
    "    if tup[KEY_STAR] not in dict_[tup[KEY_YEAR]].keys():\n",
    "        dict_[ tup[KEY_YEAR] ][ tup[KEY_STAR] ] = []\n",
    "    dict_[tup[KEY_YEAR]][tup[KEY_STAR]].append(tup)"
   ]
  },
  {
   "cell_type": "markdown",
   "metadata": {},
   "source": [
    "## Read data"
   ]
  },
  {
   "cell_type": "code",
   "execution_count": 5,
   "metadata": {},
   "outputs": [
    {
     "name": "stdout",
     "output_type": "stream",
     "text": [
      "Reviews in ys_lists: 7911684\n"
     ]
    }
   ],
   "source": [
    "# Read cache\n",
    "ys_lists = InterimStorage('original').read()\n",
    "print('Reviews in ys_lists:', count_ysl(ys_lists))\n",
    "# Reviews in ys_lists: 5,483,175"
   ]
  },
  {
   "cell_type": "code",
   "execution_count": 6,
   "metadata": {},
   "outputs": [
    {
     "name": "stdout",
     "output_type": "stream",
     "text": [
      "Reviews in ys_lists: 7911684\n"
     ]
    }
   ],
   "source": [
    "# Print table\n",
    "if False:\n",
    "    printer.ipython_display(printer.get_dataframe_with_sums(ys_lists))\n",
    "if False:\n",
    "    print(printer.get_dataframe_markdown(printer.get_dataframe_with_sums(ys_lists), float_as_integer=True))\n",
    "print('Reviews in ys_lists:', count_ysl(ys_lists))\n",
    "# Reviews in ys_lists: 7,911,684"
   ]
  },
  {
   "cell_type": "markdown",
   "metadata": {},
   "source": [
    "Original\n",
    "\n",
    "|     |   1997 |   1998 |   1999 |   2000 |   2001 |   2002 |   2003 |   2004 |   2005 |   2006 |   2007 |   2008 |   2009 |   2010 |   2011 |   2012 |     Sum |\n",
    "|:----|-------:|-------:|-------:|-------:|-------:|-------:|-------:|-------:|-------:|-------:|-------:|-------:|-------:|-------:|-------:|-------:|--------:|\n",
    "| 1   |      6 |    191 |   4844 |  19944 |  24221 |  25311 |  25734 |  41016 |  54744 |  49049 |  49521 |  56076 |  59099 |  65343 |  72957 |  81276 |  629332 |\n",
    "| 2   |      1 |    262 |   3631 |  17808 |  20320 |  22641 |  24183 |  33117 |  40868 |  37992 |  40205 |  40138 |  39680 |  41430 |  45767 |  47356 |  455399 |\n",
    "| 3   |      8 |    442 |   6458 |  30907 |  35395 |  37798 |  43323 |  60489 |  71012 |  66128 |  75239 |  74057 |  73178 |  70279 |  72055 |  74826 |  791594 |\n",
    "| 4   |     29 |    797 |  14178 |  73314 |  79152 |  84276 |  90527 | 119160 | 138000 | 135581 | 167632 | 161693 | 149771 | 142000 | 148457 | 150248 | 1654815 |\n",
    "| 5   |     64 |   3313 |  49866 | 192002 | 189638 | 198712 | 205916 | 257603 | 308080 | 311252 | 452009 | 412870 | 422403 | 426248 | 465918 | 484650 | 4380544 |\n",
    "| Sum |    108 |   5005 |  78977 | 333975 | 348726 | 368738 | 389683 | 511385 | 612704 | 600002 | 784606 | 744834 | 744131 | 745300 | 805154 | 838356 | 7911684 |"
   ]
  },
  {
   "cell_type": "markdown",
   "metadata": {},
   "source": [
    "## Filter by opinion words"
   ]
  },
  {
   "cell_type": "code",
   "execution_count": 7,
   "metadata": {},
   "outputs": [],
   "source": [
    "def print_examples(ysl, posstar_max=10, negstar_max=10):\n",
    "    print('Star   existent occurences   review-number')\n",
    "    posstar_count=0\n",
    "    negstar_count=0\n",
    "    for year in ysl.keys():\n",
    "        for star in ysl[year].keys():\n",
    "            for tup in ysl[year][star]:\n",
    "                if(negstar_count<negstar_max and star in [1,2]):\n",
    "                    print(star, ' ',\n",
    "                          opinion_counts.get_existent(tup[KEY_NUMBER]),\n",
    "                          opinion_counts.get_occurences(tup[KEY_NUMBER]),\n",
    "                          ' ', tup[KEY_NUMBER])\n",
    "                    negstar_count += 1\n",
    "                elif(posstar_count<posstar_max and star in [4,5]):\n",
    "                    print(star, ' ',\n",
    "                          opinion_counts.get_existent(tup[KEY_NUMBER]),\n",
    "                          opinion_counts.get_occurences(tup[KEY_NUMBER]),\n",
    "                          ' ', tup[KEY_NUMBER])\n",
    "                    posstar_count += 1\n",
    "                if(posstar_count>=posstar_max and negstar_count>=negstar_max):\n",
    "                    break\n",
    "            if(posstar_count>=posstar_max and negstar_count>=negstar_max):\n",
    "                break\n",
    "        if(posstar_count>=posstar_max and negstar_count>=negstar_max):\n",
    "            break"
   ]
  },
  {
   "cell_type": "code",
   "execution_count": 8,
   "metadata": {},
   "outputs": [],
   "source": [
    "opinion_counts = OpinionCounts(file_storage.get_filepath('AMORE-OpinionCounts'))"
   ]
  },
  {
   "cell_type": "code",
   "execution_count": 9,
   "metadata": {},
   "outputs": [
    {
     "name": "stdout",
     "output_type": "stream",
     "text": [
      "Star   existent occurences   review-number\n",
      "5   4 4   18\n",
      "5   2 2   27\n",
      "5   4 4   93\n",
      "5   4 4   94\n",
      "5   8 8   95\n",
      "5   4 4   96\n",
      "5   5 5   98\n",
      "5   14 10   100\n",
      "5   1 1   101\n",
      "5   3 3   103\n",
      "5   5 5   104\n",
      "5   2 1   212\n",
      "5   0 0   213\n",
      "5   9 9   214\n",
      "5   2 1   215\n",
      "5   3 3   339\n",
      "5   1 1   362\n",
      "5   2 2   363\n",
      "5   1 1   364\n",
      "5   6 5   366\n",
      "5   8 10   382\n",
      "5   4 2   384\n",
      "5   -11 -8   385\n",
      "1   1 3   281\n",
      "1   -2 -2   1130\n",
      "1   9 7   1960\n",
      "1   1 0   2275\n"
     ]
    }
   ],
   "source": [
    "# Examples with 0/neg for 5-star and with 0/pos for 1-star\n",
    "print_examples(ys_lists, posstar_max=23, negstar_max=4)"
   ]
  },
  {
   "cell_type": "code",
   "execution_count": 10,
   "metadata": {},
   "outputs": [
    {
     "name": "stdout",
     "output_type": "stream",
     "text": [
      "Runtime: 19.94827593397349\n"
     ]
    }
   ],
   "source": [
    "time_begin = timeit.default_timer()\n",
    "ys_opinion_lists = {}\n",
    "for year in ys_lists.keys():\n",
    "    for star in ys_lists[year].keys():\n",
    "        for tup in ys_lists[year][star]:\n",
    "            if(tup[KEY_STAR] in [1,2]):\n",
    "                if(opinion_counts.get_existent(tup[KEY_NUMBER]) < 0 and\n",
    "                   opinion_counts.get_occurences(tup[KEY_NUMBER]) < 0):\n",
    "                    add_tuple(ys_opinion_lists, tup)\n",
    "            elif(tup[KEY_STAR] == 3):\n",
    "                if(opinion_counts.get_existent(tup[KEY_NUMBER]) >= -1 and\n",
    "                   opinion_counts.get_existent(tup[KEY_NUMBER]) <= 1 and\n",
    "                   opinion_counts.get_occurences(tup[KEY_NUMBER]) >= -1 and\n",
    "                   opinion_counts.get_occurences(tup[KEY_NUMBER]) <= 1):\n",
    "                    add_tuple(ys_opinion_lists, tup)\n",
    "            elif(tup[KEY_STAR] in [4,5]):\n",
    "                if(opinion_counts.get_existent(tup[KEY_NUMBER]) > 0 and\n",
    "                   opinion_counts.get_occurences(tup[KEY_NUMBER]) > 0):\n",
    "                    add_tuple(ys_opinion_lists, tup)\n",
    "print('Runtime:', timeit.default_timer() - time_begin)"
   ]
  },
  {
   "cell_type": "code",
   "execution_count": 11,
   "metadata": {},
   "outputs": [
    {
     "name": "stdout",
     "output_type": "stream",
     "text": [
      "Star   existent occurences   review-number\n",
      "5   4 4   18\n",
      "5   2 2   27\n",
      "5   4 4   93\n",
      "5   4 4   94\n",
      "5   8 8   95\n",
      "5   4 4   96\n",
      "5   5 5   98\n",
      "5   14 10   100\n",
      "5   1 1   101\n",
      "5   3 3   103\n",
      "5   5 5   104\n",
      "5   2 1   212\n",
      "5   9 9   214\n",
      "5   2 1   215\n",
      "5   3 3   339\n",
      "5   1 1   362\n",
      "5   2 2   363\n",
      "5   1 1   364\n",
      "5   6 5   366\n",
      "5   8 10   382\n",
      "5   4 2   384\n",
      "5   1 4   395\n",
      "5   4 2   421\n",
      "1   -2 -2   1130\n",
      "1   -4 -2   3590\n",
      "1   -1 -1   4368\n",
      "1   -2 -2   5422\n"
     ]
    }
   ],
   "source": [
    "print_examples(ys_opinion_lists, posstar_max=23, negstar_max=4)"
   ]
  },
  {
   "cell_type": "code",
   "execution_count": 12,
   "metadata": {},
   "outputs": [
    {
     "name": "stdout",
     "output_type": "stream",
     "text": [
      "Reviews in ys_opinion_lists: 5483175\n"
     ]
    }
   ],
   "source": [
    "# Print table\n",
    "if False:\n",
    "    printer.ipython_display(printer.get_dataframe_with_sums(ys_opinion_lists))\n",
    "if False:\n",
    "    print(printer.get_dataframe_markdown(printer.get_dataframe_with_sums(ys_opinion_lists), float_as_integer=True))\n",
    "print('Reviews in ys_opinion_lists:', count_ysl(ys_opinion_lists))\n",
    "# Reviews in ys_opinion_lists: 5,483,175"
   ]
  },
  {
   "cell_type": "markdown",
   "metadata": {},
   "source": [
    "Filtered by opinion words\n",
    "\n",
    "|     |   1997 |   1998 |   1999 |   2000 |   2001 |   2002 |   2003 |   2004 |   2005 |   2006 |   2007 |   2008 |   2009 |   2010 |   2011 |   2012 |     Sum |\n",
    "|:----|-------:|-------:|-------:|-------:|-------:|-------:|-------:|-------:|-------:|-------:|-------:|-------:|-------:|-------:|-------:|-------:|--------:|\n",
    "| 1   |      6 |    104 |   3110 |  12698 |  14751 |  15934 |  16611 |  26835 |  35093 |  29878 |  30496 |  33972 |  35420 |  39177 |  43552 |  48432 |  386069 |\n",
    "| 2   |    nan |    122 |   1589 |   7820 |   8866 |  10127 |  10742 |  15439 |  19141 |  17152 |  17724 |  17271 |  16641 |  18523 |  20105 |  21036 |  202298 |\n",
    "| 3   |    nan |    107 |   1535 |   6152 |   6376 |   6280 |   6917 |  10403 |  12668 |  11947 |  16364 |  16218 |  17691 |  17052 |  18243 |  19266 |  167219 |\n",
    "| 4   |     13 |    599 |  10429 |  52130 |  56607 |  58688 |  62256 |  80602 |  93419 |  93912 | 121336 | 117024 | 110548 | 102739 | 109983 | 112609 | 1182894 |\n",
    "| 5   |     52 |   2694 |  39621 | 150126 | 148077 | 153886 | 157562 | 194587 | 234448 | 242242 | 370047 | 341264 | 352366 | 353522 | 393641 | 410560 | 3544695 |\n",
    "| Sum |     71 |   3626 |  56284 | 228926 | 234677 | 244915 | 254088 | 327866 | 394769 | 395131 | 555967 | 525749 | 532666 | 531013 | 585524 | 611903 | 5483175 |"
   ]
  },
  {
   "cell_type": "code",
   "execution_count": 13,
   "metadata": {},
   "outputs": [
    {
     "name": "stdout",
     "output_type": "stream",
     "text": [
      "/tmp/InterimStorage/opinion-filtered.pickle.bz2\n",
      "Reviews in ys_opinion_lists: 5483175\n"
     ]
    }
   ],
   "source": [
    "# Write cache\n",
    "print(InterimStorage('opinion-filtered').write(ys_opinion_lists).get_filepath())\n",
    "print('Reviews in ys_opinion_lists:', count_ysl(ys_opinion_lists))\n",
    "# Reviews in ys_opinion_lists: 5,483,175"
   ]
  },
  {
   "cell_type": "code",
   "execution_count": null,
   "metadata": {},
   "outputs": [],
   "source": []
  }
 ],
 "metadata": {
  "kernelspec": {
   "display_name": "Python (EML4U)",
   "language": "python",
   "name": "eml4u"
  },
  "language_info": {
   "codemirror_mode": {
    "name": "ipython",
    "version": 3
   },
   "file_extension": ".py",
   "mimetype": "text/x-python",
   "name": "python",
   "nbconvert_exporter": "python",
   "pygments_lexer": "ipython3",
   "version": "3.8.5"
  }
 },
 "nbformat": 4,
 "nbformat_minor": 4
}
