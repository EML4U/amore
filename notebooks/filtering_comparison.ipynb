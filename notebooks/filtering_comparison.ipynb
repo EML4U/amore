{
 "cells": [
  {
   "cell_type": "markdown",
   "metadata": {},
   "source": [
    "## Filtering: Model comparison"
   ]
  },
  {
   "cell_type": "code",
   "execution_count": 1,
   "metadata": {},
   "outputs": [],
   "source": [
    "# Reload modules every time before executing the Python code typed\n",
    "%load_ext autoreload\n",
    "%autoreload 2\n",
    "\n",
    "# Import from project root\n",
    "import sys; sys.path.insert(0, '../')\n",
    "\n",
    "import timeit\n",
    "import numpy as np\n",
    "import scipy.spatial.distance\n",
    "from collections import OrderedDict\n",
    "from alibi_detect.cd import LSDDDrift\n",
    "from alibi_detect.cd import KSDrift\n",
    "\n",
    "from access.file_storage import FileStorage\n",
    "from access.interim_storage import InterimStorage\n",
    "\n",
    "KEY_NUMBER = 0\n",
    "#KEY_YEAR   = 1\n",
    "#KEY_STAR   = 2"
   ]
  },
  {
   "cell_type": "code",
   "execution_count": 2,
   "metadata": {},
   "outputs": [],
   "source": [
    "key_tfidf_tsvd___ = 'tfidf_tsvd'\n",
    "key_tfidf_umap___ = 'tfidf_umap'\n",
    "key_countvec_tsvd = 'countvec_tsvd'\n",
    "key_countvec_umap = 'countvec_umap'\n",
    "\n",
    "key_vectors         = 'vectors'\n",
    "key_np_array        = 'np_array'\n",
    "key_centroid        = 'centroid'\n",
    "key_distances       = 'distances'"
   ]
  },
  {
   "cell_type": "code",
   "execution_count": 3,
   "metadata": {},
   "outputs": [],
   "source": [
    "types = [key_tfidf_tsvd___,\n",
    "         key_tfidf_umap___,\n",
    "         key_countvec_tsvd,\n",
    "         key_countvec_umap]"
   ]
  },
  {
   "cell_type": "code",
   "execution_count": 4,
   "metadata": {},
   "outputs": [],
   "source": [
    "stars_neg = [1,2]\n",
    "stars_pos = [4,5]\n",
    "stars_posneg = stars_neg + stars_pos\n",
    "years_2006_2012 = list(range(2006,2012+1))"
   ]
  },
  {
   "cell_type": "markdown",
   "metadata": {},
   "source": [
    "## Read data"
   ]
  },
  {
   "cell_type": "code",
   "execution_count": 5,
   "metadata": {},
   "outputs": [],
   "source": [
    "data = {}"
   ]
  },
  {
   "cell_type": "markdown",
   "metadata": {},
   "source": [
    "### Vectors"
   ]
  },
  {
   "cell_type": "code",
   "execution_count": 6,
   "metadata": {},
   "outputs": [
    {
     "name": "stdout",
     "output_type": "stream",
     "text": [
      "Runtime: 20.973824976943433\n"
     ]
    }
   ],
   "source": [
    "data[key_vectors] = {}\n",
    "time_begin = timeit.default_timer()\n",
    "data[key_vectors][key_tfidf_tsvd___] = InterimStorage('tsvd').read()\n",
    "data[key_vectors][key_tfidf_umap___] = InterimStorage('umap').read()\n",
    "data[key_vectors][key_countvec_tsvd] = InterimStorage('countvec-tsvd').read()\n",
    "data[key_vectors][key_countvec_umap] = InterimStorage('countvec-umap').read()\n",
    "print('Runtime:', timeit.default_timer() - time_begin)\n",
    "# Runtime: 20.973824976943433"
   ]
  },
  {
   "cell_type": "code",
   "execution_count": 7,
   "metadata": {},
   "outputs": [
    {
     "name": "stdout",
     "output_type": "stream",
     "text": [
      "1203682 <class 'dict'> tfidf_tsvd [0.2935860120266387, 0.06035900338941396]\n",
      " e.g. (3, [0.2935860120266387, 0.06035900338941396])\n",
      "1203682 <class 'dict'> tfidf_umap [4.668518543243408, 8.601895332336426]\n",
      " e.g. (3, [4.668518543243408, 8.601895332336426])\n",
      "1203682 <class 'dict'> countvec_tsvd [5.905195593819305, -1.8458777033241844]\n",
      " e.g. (3, [5.905195593819305, -1.8458777033241844])\n",
      "1203682 <class 'dict'> countvec_umap [7.554241180419922, -0.3533836901187897]\n",
      " e.g. (3, [7.554241180419922, -0.3533836901187897])\n"
     ]
    }
   ],
   "source": [
    "def print_overview(data, title):\n",
    "    if isinstance(data, dict):\n",
    "        print(len(data), type(data), title, next(iter(data.values())))\n",
    "        print(' e.g.', next(iter(data.items())))\n",
    "    else:\n",
    "        print(len(data), type(data), title, data[0])\n",
    "\n",
    "for typ in types:\n",
    "    print_overview(data[key_vectors][typ], typ)\n",
    "\n",
    "#1203682 <class 'dict'> tfidf_tsvd [0.2935860120266387, 0.06035900338941396]\n",
    "#1203682 <class 'dict'> tfidf_umap [4.668518543243408, 8.601895332336426]\n",
    "#1203682 <class 'dict'> countvec_tsvd [5.905195593819305, -1.8458777033241844]\n",
    "#1203682 <class 'dict'> countvec_umap [7.554241180419922, -0.3533836901187897]"
   ]
  },
  {
   "cell_type": "markdown",
   "metadata": {},
   "source": [
    "### Review-number to indexes"
   ]
  },
  {
   "cell_type": "code",
   "execution_count": 8,
   "metadata": {},
   "outputs": [],
   "source": [
    "revnum_to_index = {}\n",
    "first_type = next(iter(types))\n",
    "for i, tup in enumerate(data[key_vectors][first_type].items()):\n",
    "    revnum_to_index[tup[0]] = i\n",
    "\n",
    "# Check if keys of all types are equal:\n",
    "first_type_keylist = list(data[key_vectors][first_type].keys())\n",
    "for typ in types:\n",
    "    key_list = list(data[key_vectors][typ].keys())\n",
    "    if not np.array_equal(first_type_keylist, key_list):\n",
    "        print('Different keys:', typ)"
   ]
  },
  {
   "cell_type": "markdown",
   "metadata": {},
   "source": [
    "### Year Star"
   ]
  },
  {
   "cell_type": "code",
   "execution_count": 9,
   "metadata": {},
   "outputs": [],
   "source": [
    "def count_ysl(ysl):\n",
    "    c = 0\n",
    "    for year in ysl.keys():\n",
    "        for star in ysl[year].keys():\n",
    "            c += len(ysl[year][star])\n",
    "    return c"
   ]
  },
  {
   "cell_type": "code",
   "execution_count": 10,
   "metadata": {},
   "outputs": [
    {
     "name": "stdout",
     "output_type": "stream",
     "text": [
      "Reviews in ys_lists: 1727821\n",
      "Runtime: 3.353083639405668\n"
     ]
    }
   ],
   "source": [
    "ys_lists = InterimStorage('deduplicated').read()\n",
    "print('Reviews in ys_lists:', count_ysl(ys_lists))\n",
    "# Reviews in ys_lists: 1,727,821"
   ]
  },
  {
   "cell_type": "markdown",
   "metadata": {},
   "source": [
    "## Convert to Numpy ndarrays, clean NAN\n",
    "\n",
    "https://numpy.org/doc/stable/reference/generated/numpy.nan_to_num.html"
   ]
  },
  {
   "cell_type": "code",
   "execution_count": 11,
   "metadata": {},
   "outputs": [
    {
     "name": "stdout",
     "output_type": "stream",
     "text": [
      "1203682 <class 'numpy.ndarray'> tfidf_tsvd [0.29358601 0.060359  ]\n",
      "1203682 <class 'numpy.ndarray'> tfidf_umap [4.66851854 8.60189533]\n",
      "1203682 <class 'numpy.ndarray'> countvec_tsvd [ 5.90519559 -1.8458777 ]\n",
      "1203682 <class 'numpy.ndarray'> countvec_umap [ 7.55424118 -0.35338369]\n"
     ]
    }
   ],
   "source": [
    "data[key_np_array] = {}\n",
    "for typ in types:\n",
    "    data[key_np_array][typ] = np.nan_to_num(np.array(list(data[key_vectors][typ].values())))\n",
    "    print_overview(data[key_np_array][typ], typ)\n",
    "    \n",
    "# 1203682 <class 'numpy.ndarray'> tfidf_tsvd    [ 0.29358601  0.060359  ]\n",
    "# 1203682 <class 'numpy.ndarray'> tfidf_umap    [ 4.66851854  8.60189533]\n",
    "# 1203682 <class 'numpy.ndarray'> countvec_tsvd [ 5.90519559 -1.8458777 ]\n",
    "# 1203682 <class 'numpy.ndarray'> countvec_umap [ 7.55424118 -0.35338369]"
   ]
  },
  {
   "cell_type": "markdown",
   "metadata": {},
   "source": [
    "## Centroids"
   ]
  },
  {
   "cell_type": "code",
   "execution_count": 178,
   "metadata": {},
   "outputs": [],
   "source": [
    "def get_centroid(data, verbose=True):\n",
    "    if(verbose):\n",
    "        print(data.min(axis=0), data.max(axis=0), data.mean(axis=0))\n",
    "    return data.mean(axis=0)"
   ]
  },
  {
   "cell_type": "code",
   "execution_count": 13,
   "metadata": {},
   "outputs": [
    {
     "name": "stdout",
     "output_type": "stream",
     "text": [
      "[ 0.         -0.40866756] [0.65589508 0.77644091] [ 0.24590463 -0.01219842]\n",
      "[-5.77501488 -1.45871496] [13.72292328 15.23633862] [6.34190018 6.32022436]\n",
      "[  0.         -34.30849225] [105.43668317  78.95606391] [ 3.50654809 -0.39607092]\n",
      "[-2.58597469 -8.12982941] [14.06348991 10.52065468] [5.02704603 0.35577971]\n",
      "Runtime: 0.4649447062984109\n"
     ]
    }
   ],
   "source": [
    "data[key_centroid] = {}\n",
    "for typ in types:\n",
    "    data[key_centroid][typ] = get_centroid(data[key_np_array][typ])\n",
    "\n",
    "#[ 0.          -0.40866756]   [0.65589508  0.77644091]   [0.24590463 -0.01219842]\n",
    "#[-5.77501488  -1.45871496]  [13.72292328 15.23633862]   [6.34190018  6.32022436]\n",
    "#[ 0.         -34.30849225] [105.43668317 78.95606391]   [3.50654809 -0.39607092]\n",
    "#[-2.58597469  -8.12982941]  [14.06348991 10.52065468]   [5.02704603  0.35577971]"
   ]
  },
  {
   "cell_type": "code",
   "execution_count": 180,
   "metadata": {},
   "outputs": [
    {
     "name": "stdout",
     "output_type": "stream",
     "text": [
      "<class 'numpy.ndarray'> 2 (2,)\n",
      "<class 'numpy.ndarray'> 2 (2,)\n",
      "<class 'numpy.ndarray'> 2 (2,)\n",
      "<class 'numpy.ndarray'> 2 (2,)\n"
     ]
    }
   ],
   "source": [
    "for typ in types:\n",
    "    print(type(data[key_centroid][typ]), len(data[key_centroid][typ]), data[key_centroid][typ].shape)"
   ]
  },
  {
   "cell_type": "markdown",
   "metadata": {},
   "source": [
    "# CountVec test\n",
    "\n",
    "Tmp result: Distances use spatial 2d data. Approach not transferable 1:1"
   ]
  },
  {
   "cell_type": "code",
   "execution_count": 142,
   "metadata": {},
   "outputs": [],
   "source": [
    "if False:\n",
    "    countvec = InterimStorage('countvec-object').read()\n",
    "    print(type(countvec), countvec.shape)\n",
    "    # <class 'scipy.sparse.csr.csr_matrix'> (1203682, 1000)"
   ]
  },
  {
   "cell_type": "code",
   "execution_count": 200,
   "metadata": {},
   "outputs": [],
   "source": [
    "if False:\n",
    "    countvec_centroid = get_centroid(countvec, verbose=False)\n",
    "    print(type(countvec_centroid), len(countvec_centroid), countvec_centroid.shape)\n",
    "    # <class 'numpy.matrix'> 1 (1, 1000)"
   ]
  },
  {
   "cell_type": "markdown",
   "metadata": {},
   "source": [
    "## Distances to centroid\n",
    "\n",
    "https://docs.scipy.org/doc/scipy/reference/generated/scipy.spatial.distance.cdist.html"
   ]
  },
  {
   "cell_type": "code",
   "execution_count": 14,
   "metadata": {},
   "outputs": [
    {
     "name": "stdout",
     "output_type": "stream",
     "text": [
      "1203682\n",
      "1203682\n",
      "1203682\n",
      "1203682\n",
      "Runtime: 0.09357141004875302\n"
     ]
    }
   ],
   "source": [
    "data[key_distances] = {}\n",
    "for typ in types:\n",
    "    data[key_distances][typ] = scipy.spatial.distance.cdist(\n",
    "        data[key_np_array][typ],\n",
    "        data[key_centroid][typ].reshape(1,-1),\n",
    "        metric='cosine')\n",
    "    print(len(data[key_distances][typ]))"
   ]
  },
  {
   "cell_type": "markdown",
   "metadata": {},
   "source": [
    "## Sort by distances to centroid"
   ]
  },
  {
   "cell_type": "code",
   "execution_count": 15,
   "metadata": {},
   "outputs": [],
   "source": [
    "def filter_revnums(years, stars, number=-1):\n",
    "    revums = set()\n",
    "    for year in ys_lists.keys():\n",
    "        if(year not in years):\n",
    "            continue\n",
    "        for star in ys_lists[year].keys():\n",
    "            if(star not in stars):\n",
    "                continue\n",
    "            for tup in ys_lists[year][star]:\n",
    "                revums.add(tup[KEY_NUMBER])\n",
    "                if(len(revums) == number):\n",
    "                    return revums\n",
    "    return revums"
   ]
  },
  {
   "cell_type": "code",
   "execution_count": 28,
   "metadata": {},
   "outputs": [],
   "source": [
    "def get_distances(years, stars, typ):\n",
    "    results = []\n",
    "    for revnum in filter_revnums(years, stars):\n",
    "        if(revnum not in revnum_to_index.keys()):\n",
    "            continue\n",
    "        index = revnum_to_index[revnum]\n",
    "        results.append((revnum,\n",
    "                       index,\n",
    "                       data[key_distances][typ][index]))\n",
    "    return results"
   ]
  },
  {
   "cell_type": "code",
   "execution_count": 35,
   "metadata": {},
   "outputs": [],
   "source": [
    "def get_sorted(years, stars, typ, number):\n",
    "    return sorted(get_distances(years, stars, typ), key=lambda tup: tup[2])[:number]"
   ]
  },
  {
   "cell_type": "markdown",
   "metadata": {},
   "source": [
    "## Test models\n",
    "\n",
    "- train with 10,000 original data\n",
    "- first run: check same pos/neg and next year\n",
    "\n",
    "### Setup test data"
   ]
  },
  {
   "cell_type": "code",
   "execution_count": 109,
   "metadata": {},
   "outputs": [
    {
     "name": "stdout",
     "output_type": "stream",
     "text": [
      "10000 (3674589, 880405, array([1.84628435e-09]))\n",
      "10000 (866185, 360158, array([4.49262183e-10]))\n",
      "10000 (2737794, 763435, array([2.02624584e-11]))\n",
      "10000 (771781, 328708, array([1.06212739e-09]))\n",
      "1000 (1195693, 456448, array([3.72756004e-09]))\n",
      "1000 (1317174, 489855, array([3.87999632e-11]))\n",
      "1000 (11808, 6842, array([2.50033194e-09]))\n",
      "1000 (706823, 307462, array([5.85524296e-10]))\n"
     ]
    }
   ],
   "source": [
    "# Sorted test data\n",
    "# (revnum, index, distance)\n",
    "\n",
    "years = [2006]\n",
    "stars = stars_neg\n",
    "number = 10 * 1000\n",
    "\n",
    "test_a = {}\n",
    "for typ in types:\n",
    "    test_a[typ] = get_sorted(years, stars, typ, number)\n",
    "    print(len(test_a[typ]), test_a[typ][0])\n",
    "\n",
    "years = [2007]\n",
    "stars = stars_neg\n",
    "number = 1000\n",
    "\n",
    "test_b = {}\n",
    "for typ in types:\n",
    "    test_b[typ] = get_sorted(years, stars, typ, number)\n",
    "    print(len(test_b[typ]), test_b[typ][0])"
   ]
  },
  {
   "cell_type": "markdown",
   "metadata": {},
   "source": [
    "### Get test data"
   ]
  },
  {
   "cell_type": "code",
   "execution_count": 134,
   "metadata": {},
   "outputs": [],
   "source": [
    "def get_vectors(typ, tup_list):\n",
    "    results = []\n",
    "    for tup in tup_list:\n",
    "        revnum = tup[0]\n",
    "        results.append(data[key_vectors][typ][revnum])\n",
    "    return results"
   ]
  },
  {
   "cell_type": "code",
   "execution_count": 135,
   "metadata": {},
   "outputs": [
    {
     "name": "stdout",
     "output_type": "stream",
     "text": [
      "10000 [ 0.44190483 -0.02189435]\n",
      "10000 [5.14050293 5.12324047]\n",
      "10000 [ 3.59826866 -0.40640773]\n",
      "10000 [5.77657413 0.40855858]\n",
      "1000 [ 0.26087684 -0.01291856]\n",
      "1000 [6.66289902 6.64024305]\n",
      "1000 [ 4.45731446 -0.50378092]\n",
      "1000 [7.61741257 0.53937   ]\n"
     ]
    }
   ],
   "source": [
    "test_a_data = {}\n",
    "for typ in types:\n",
    "    test_a_data[typ] = np.array(get_vectors(typ, test_a[typ]))\n",
    "    print(len(test_a_data[typ]), test_a_data[typ][0])\n",
    "\n",
    "test_b_data = {}\n",
    "for typ in types:\n",
    "    test_b_data[typ] = np.array(get_vectors(typ, test_b[typ]))\n",
    "    print(len(test_b_data[typ]), test_b_data[typ][0])"
   ]
  },
  {
   "cell_type": "markdown",
   "metadata": {},
   "source": [
    "### Detect drift"
   ]
  },
  {
   "cell_type": "code",
   "execution_count": 136,
   "metadata": {},
   "outputs": [
    {
     "name": "stdout",
     "output_type": "stream",
     "text": [
      "No GPU detected, fall back on CPU.\n",
      "No GPU detected, fall back on CPU.\n",
      "No GPU detected, fall back on CPU.\n",
      "No GPU detected, fall back on CPU.\n"
     ]
    }
   ],
   "source": [
    "lsdd_models = {}\n",
    "for typ in types:\n",
    "    lsdd_models[typ] = LSDDDrift(test_a_data[typ], backend='pytorch', p_val=.05)"
   ]
  },
  {
   "cell_type": "code",
   "execution_count": 207,
   "metadata": {},
   "outputs": [
    {
     "name": "stdout",
     "output_type": "stream",
     "text": [
      "{'data': {'is_drift': 1, 'distance': 0.2080069807353167, 'p_val': 0.0, 'threshold': 0.05, 'distance_threshold': 0.027574384038127245}, 'meta': {'name': 'LSDDDriftTorch', 'detector_type': 'offline', 'data_type': None, 'backend': 'pytorch'}} tfidf_tsvd\n",
      "{'data': {'is_drift': 1, 'distance': 0.2236533694163399, 'p_val': 0.0, 'threshold': 0.05, 'distance_threshold': 0.025436377010314665}, 'meta': {'name': 'LSDDDriftTorch', 'detector_type': 'offline', 'data_type': None, 'backend': 'pytorch'}} tfidf_umap\n",
      "{'data': {'is_drift': 1, 'distance': 0.09907036999165518, 'p_val': 0.0, 'threshold': 0.05, 'distance_threshold': 0.025063496910358148}, 'meta': {'name': 'LSDDDriftTorch', 'detector_type': 'offline', 'data_type': None, 'backend': 'pytorch'}} countvec_tsvd\n",
      "{'data': {'is_drift': 1, 'distance': 0.5861391329899622, 'p_val': 0.0, 'threshold': 0.05, 'distance_threshold': 0.022992458360456238}, 'meta': {'name': 'LSDDDriftTorch', 'detector_type': 'offline', 'data_type': None, 'backend': 'pytorch'}} countvec_umap\n"
     ]
    }
   ],
   "source": [
    "items = 100\n",
    "for typ in types:\n",
    "    print(lsdd_models[typ].predict(test_b_data[typ][:items]), typ)"
   ]
  },
  {
   "cell_type": "code",
   "execution_count": 208,
   "metadata": {},
   "outputs": [
    {
     "name": "stdout",
     "output_type": "stream",
     "text": [
      "{'data': {'is_drift': 1, 'distance': 0.22643205341573092, 'p_val': 0.029999999329447746, 'threshold': 0.05, 'distance_threshold': 0.18962159716988036}, 'meta': {'name': 'LSDDDriftTorch', 'detector_type': 'offline', 'data_type': None, 'backend': 'pytorch'}} tfidf_tsvd\n",
      "{'data': {'is_drift': 1, 'distance': 0.21846356382244125, 'p_val': 0.0, 'threshold': 0.05, 'distance_threshold': 0.1245077548487161}, 'meta': {'name': 'LSDDDriftTorch', 'detector_type': 'offline', 'data_type': None, 'backend': 'pytorch'}} tfidf_umap\n",
      "{'data': {'is_drift': 0, 'distance': 0.11468764712753406, 'p_val': 0.11999999731779099, 'threshold': 0.05, 'distance_threshold': 0.1421287848658859}, 'meta': {'name': 'LSDDDriftTorch', 'detector_type': 'offline', 'data_type': None, 'backend': 'pytorch'}} countvec_tsvd\n",
      "{'data': {'is_drift': 1, 'distance': 0.5346411084523447, 'p_val': 0.0, 'threshold': 0.05, 'distance_threshold': 0.15384079487337832}, 'meta': {'name': 'LSDDDriftTorch', 'detector_type': 'offline', 'data_type': None, 'backend': 'pytorch'}} countvec_umap\n"
     ]
    }
   ],
   "source": [
    "items = 17\n",
    "for typ in types:\n",
    "    print(lsdd_models[typ].predict(test_b_data[typ][:items]), typ)"
   ]
  },
  {
   "cell_type": "code",
   "execution_count": 139,
   "metadata": {},
   "outputs": [],
   "source": [
    "ks_models = {}\n",
    "for typ in types:\n",
    "    ks_models[typ] = KSDrift(test_a_data[typ], p_val=.05)"
   ]
  },
  {
   "cell_type": "code",
   "execution_count": 209,
   "metadata": {},
   "outputs": [
    {
     "name": "stdout",
     "output_type": "stream",
     "text": [
      "{'data': {'is_drift': 1, 'distance': array([0.0746, 0.4438], dtype=float32), 'p_val': array([6.1321586e-01, 2.7482557e-18], dtype=float32), 'threshold': 0.025}, 'meta': {'name': 'KSDrift', 'detector_type': 'offline', 'data_type': None}} tfidf_tsvd\n",
      "{'data': {'is_drift': 1, 'distance': array([0.1403, 0.2685], dtype=float32), 'p_val': array([3.6637045e-02, 8.5813508e-07], dtype=float32), 'threshold': 0.025}, 'meta': {'name': 'KSDrift', 'detector_type': 'offline', 'data_type': None}} tfidf_umap\n",
      "{'data': {'is_drift': 1, 'distance': array([0.1441, 0.266 ], dtype=float32), 'p_val': array([2.9460110e-02, 1.1293345e-06], dtype=float32), 'threshold': 0.025}, 'meta': {'name': 'KSDrift', 'detector_type': 'offline', 'data_type': None}} countvec_tsvd\n",
      "{'data': {'is_drift': 1, 'distance': array([0.1121, 0.6289], dtype=float32), 'p_val': array([1.5385664e-01, 2.0175678e-38], dtype=float32), 'threshold': 0.025}, 'meta': {'name': 'KSDrift', 'detector_type': 'offline', 'data_type': None}} countvec_umap\n"
     ]
    }
   ],
   "source": [
    "items = 100\n",
    "for typ in types:\n",
    "    print(ks_models[typ].predict(test_b_data[typ][:items]), typ)"
   ]
  },
  {
   "cell_type": "code",
   "execution_count": 210,
   "metadata": {},
   "outputs": [
    {
     "name": "stdout",
     "output_type": "stream",
     "text": [
      "{'data': {'is_drift': 1, 'distance': array([0.0898, 0.4573], dtype=float32), 'p_val': array([9.9225801e-01, 2.4129814e-04], dtype=float32), 'threshold': 0.025}, 'meta': {'name': 'KSDrift', 'detector_type': 'offline', 'data_type': None}} tfidf_tsvd\n",
      "{'data': {'is_drift': 1, 'distance': array([0.1801, 0.3526], dtype=float32), 'p_val': array([0.48057827, 0.00994284], dtype=float32), 'threshold': 0.025}, 'meta': {'name': 'KSDrift', 'detector_type': 'offline', 'data_type': None}} tfidf_umap\n",
      "{'data': {'is_drift': 0, 'distance': array([0.1809, 0.2584], dtype=float32), 'p_val': array([0.47501478, 0.1149784 ], dtype=float32), 'threshold': 0.025}, 'meta': {'name': 'KSDrift', 'detector_type': 'offline', 'data_type': None}} countvec_tsvd\n",
      "{'data': {'is_drift': 1, 'distance': array([0.1311, 0.6397], dtype=float32), 'p_val': array([8.3855766e-01, 1.7329899e-08], dtype=float32), 'threshold': 0.025}, 'meta': {'name': 'KSDrift', 'detector_type': 'offline', 'data_type': None}} countvec_umap\n"
     ]
    }
   ],
   "source": [
    "items = 20\n",
    "for typ in types:\n",
    "    print(ks_models[typ].predict(test_b_data[typ][:items]), typ)"
   ]
  },
  {
   "cell_type": "markdown",
   "metadata": {},
   "source": [
    "Result: No drift only for 17/10,000 and 20/10,000 with countvec_tsvd"
   ]
  },
  {
   "cell_type": "markdown",
   "metadata": {},
   "source": [
    "## Test 2"
   ]
  },
  {
   "cell_type": "code",
   "execution_count": 221,
   "metadata": {},
   "outputs": [
    {
     "name": "stdout",
     "output_type": "stream",
     "text": [
      "10000 (2168205, 672267, array([1.21821442e-10]))\n",
      "10000 (2120661, 663302, array([0.03133819]))\n",
      "10000 (553970, 253433, array([1.2654533e-10]))\n",
      "10000 (5909519, 1080056, array([0.00392179]))\n",
      "10000 (6305053, 1108731, array([2.46049847e-11]))\n",
      "10000 (20708, 11647, array([0.02450828]))\n",
      "10000 (1124060, 436416, array([1.47770685e-13]))\n",
      "10000 (4299, 2623, array([0.00039369]))\n"
     ]
    }
   ],
   "source": [
    "# Sorted test data\n",
    "# (revnum, index, distance)\n",
    "\n",
    "years = [2012]\n",
    "stars = stars_pos\n",
    "number = 20 * 1000\n",
    "\n",
    "test_c = {}\n",
    "test_d = {}\n",
    "for typ in types:\n",
    "    test_c[typ] = get_sorted(years, stars, typ, number)\n",
    "    \n",
    "    test_d[typ] = test_c[typ][10000:]\n",
    "    test_c[typ] = test_c[typ][:10000]\n",
    "\n",
    "    print(len(test_c[typ]), test_c[typ][0])\n",
    "    print(len(test_d[typ]), test_d[typ][0])"
   ]
  },
  {
   "cell_type": "code",
   "execution_count": 223,
   "metadata": {},
   "outputs": [
    {
     "name": "stdout",
     "output_type": "stream",
     "text": [
      "10000 [ 0.11459675 -0.00568652]\n",
      "10000 [6.41290808 6.39119291]\n",
      "10000 [ 2.90560355 -0.3282138 ]\n",
      "10000 [7.82497025 0.55379325]\n",
      "10000 [ 0.16921694 -0.05245187]\n",
      "10000 [2.23367977 2.65991354]\n",
      "10000 [8.96012968 0.98395396]\n",
      "10000 [8.61043835 0.36697456]\n"
     ]
    }
   ],
   "source": [
    "test_c_data = {}\n",
    "for typ in types:\n",
    "    test_c_data[typ] = np.array(get_vectors(typ, test_c[typ]))\n",
    "    print(len(test_c_data[typ]), test_c_data[typ][0])\n",
    "\n",
    "test_d_data = {}\n",
    "for typ in types:\n",
    "    test_d_data[typ] = np.array(get_vectors(typ, test_d[typ]))\n",
    "    print(len(test_d_data[typ]), test_d_data[typ][0])"
   ]
  },
  {
   "cell_type": "code",
   "execution_count": 224,
   "metadata": {},
   "outputs": [
    {
     "name": "stdout",
     "output_type": "stream",
     "text": [
      "No GPU detected, fall back on CPU.\n",
      "No GPU detected, fall back on CPU.\n",
      "No GPU detected, fall back on CPU.\n",
      "No GPU detected, fall back on CPU.\n"
     ]
    }
   ],
   "source": [
    "lsdd_models2 = {}\n",
    "for typ in types:\n",
    "    lsdd_models2[typ] = LSDDDrift(test_c_data[typ], backend='pytorch', p_val=.05)"
   ]
  },
  {
   "cell_type": "code",
   "execution_count": 225,
   "metadata": {},
   "outputs": [
    {
     "name": "stdout",
     "output_type": "stream",
     "text": [
      "{'data': {'is_drift': 1, 'distance': 0.2775459685075212, 'p_val': 0.0, 'threshold': 0.05, 'distance_threshold': 0.02871767204098396}, 'meta': {'name': 'LSDDDriftTorch', 'detector_type': 'offline', 'data_type': None, 'backend': 'pytorch'}} tfidf_tsvd\n",
      "{'data': {'is_drift': 1, 'distance': 0.05982610741315045, 'p_val': 0.0, 'threshold': 0.05, 'distance_threshold': 0.021381666802750204}, 'meta': {'name': 'LSDDDriftTorch', 'detector_type': 'offline', 'data_type': None, 'backend': 'pytorch'}} tfidf_umap\n",
      "{'data': {'is_drift': 1, 'distance': 0.12407905523392465, 'p_val': 0.0, 'threshold': 0.05, 'distance_threshold': 0.02204285953650531}, 'meta': {'name': 'LSDDDriftTorch', 'detector_type': 'offline', 'data_type': None, 'backend': 'pytorch'}} countvec_tsvd\n",
      "{'data': {'is_drift': 1, 'distance': 0.15252088426797597, 'p_val': 0.0, 'threshold': 0.05, 'distance_threshold': 0.025914991336287704}, 'meta': {'name': 'LSDDDriftTorch', 'detector_type': 'offline', 'data_type': None, 'backend': 'pytorch'}} countvec_umap\n"
     ]
    }
   ],
   "source": [
    "items = 100\n",
    "for typ in types:\n",
    "    print(lsdd_models2[typ].predict(test_d_data[typ][:items]), typ)"
   ]
  },
  {
   "cell_type": "code",
   "execution_count": 226,
   "metadata": {},
   "outputs": [
    {
     "name": "stdout",
     "output_type": "stream",
     "text": [
      "{'data': {'is_drift': 1, 'distance': 0.2915562181494523, 'p_val': 0.0, 'threshold': 0.05, 'distance_threshold': 0.17668543965159264}, 'meta': {'name': 'LSDDDriftTorch', 'detector_type': 'offline', 'data_type': None, 'backend': 'pytorch'}} tfidf_tsvd\n",
      "{'data': {'is_drift': 0, 'distance': 0.10156469026953054, 'p_val': 0.12999999523162842, 'threshold': 0.05, 'distance_threshold': 0.1177074757052693}, 'meta': {'name': 'LSDDDriftTorch', 'detector_type': 'offline', 'data_type': None, 'backend': 'pytorch'}} tfidf_umap\n",
      "{'data': {'is_drift': 1, 'distance': 0.23933894311854342, 'p_val': 0.0, 'threshold': 0.05, 'distance_threshold': 0.17698098505196166}, 'meta': {'name': 'LSDDDriftTorch', 'detector_type': 'offline', 'data_type': None, 'backend': 'pytorch'}} countvec_tsvd\n",
      "{'data': {'is_drift': 1, 'distance': 0.20328837042110426, 'p_val': 0.029999999329447746, 'threshold': 0.05, 'distance_threshold': 0.13616785922588304}, 'meta': {'name': 'LSDDDriftTorch', 'detector_type': 'offline', 'data_type': None, 'backend': 'pytorch'}} countvec_umap\n"
     ]
    }
   ],
   "source": [
    "items = 17\n",
    "for typ in types:\n",
    "    print(lsdd_models2[typ].predict(test_d_data[typ][:items]), typ)"
   ]
  },
  {
   "cell_type": "code",
   "execution_count": 227,
   "metadata": {},
   "outputs": [],
   "source": [
    "ks_models2 = {}\n",
    "for typ in types:\n",
    "    ks_models2[typ] = KSDrift(test_c_data[typ], p_val=.05)"
   ]
  },
  {
   "cell_type": "code",
   "execution_count": 228,
   "metadata": {},
   "outputs": [
    {
     "name": "stdout",
     "output_type": "stream",
     "text": [
      "{'data': {'is_drift': 1, 'distance': array([0.0759, 0.3699], dtype=float32), 'p_val': array([5.9152770e-01, 1.1633506e-12], dtype=float32), 'threshold': 0.025}, 'meta': {'name': 'KSDrift', 'detector_type': 'offline', 'data_type': None}} tfidf_tsvd\n",
      "{'data': {'is_drift': 0, 'distance': array([0.1035, 0.1163], dtype=float32), 'p_val': array([0.22343378, 0.12681895], dtype=float32), 'threshold': 0.025}, 'meta': {'name': 'KSDrift', 'detector_type': 'offline', 'data_type': None}} tfidf_umap\n",
      "{'data': {'is_drift': 1, 'distance': array([0.0461, 0.2959], dtype=float32), 'p_val': array([9.7816527e-01, 3.5323406e-08], dtype=float32), 'threshold': 0.025}, 'meta': {'name': 'KSDrift', 'detector_type': 'offline', 'data_type': None}} countvec_tsvd\n",
      "{'data': {'is_drift': 1, 'distance': array([0.067, 0.254], dtype=float32), 'p_val': array([7.4009562e-01, 4.0630616e-06], dtype=float32), 'threshold': 0.025}, 'meta': {'name': 'KSDrift', 'detector_type': 'offline', 'data_type': None}} countvec_umap\n"
     ]
    }
   ],
   "source": [
    "items = 100\n",
    "for typ in types:\n",
    "    print(ks_models2[typ].predict(test_d_data[typ][:items]), typ)"
   ]
  },
  {
   "cell_type": "markdown",
   "metadata": {},
   "source": [
    "Result: Better results for same year, even if splitted 10,000|10,000 and not pairwise"
   ]
  },
  {
   "cell_type": "code",
   "execution_count": null,
   "metadata": {},
   "outputs": [],
   "source": []
  }
 ],
 "metadata": {
  "kernelspec": {
   "display_name": "Python (EML4U)",
   "language": "python",
   "name": "eml4u"
  },
  "language_info": {
   "codemirror_mode": {
    "name": "ipython",
    "version": 3
   },
   "file_extension": ".py",
   "mimetype": "text/x-python",
   "name": "python",
   "nbconvert_exporter": "python",
   "pygments_lexer": "ipython3",
   "version": "3.8.5"
  }
 },
 "nbformat": 4,
 "nbformat_minor": 4
}
