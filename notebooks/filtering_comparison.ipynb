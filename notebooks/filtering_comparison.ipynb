{
 "cells": [
  {
   "cell_type": "markdown",
   "metadata": {},
   "source": [
    "## Filtering: Model comparison"
   ]
  },
  {
   "cell_type": "code",
   "execution_count": 1,
   "metadata": {},
   "outputs": [],
   "source": [
    "# Reload modules every time before executing the Python code typed\n",
    "%load_ext autoreload\n",
    "%autoreload 2\n",
    "\n",
    "# Import from project root\n",
    "import sys; sys.path.insert(0, '../')\n",
    "\n",
    "import timeit\n",
    "import numpy as np\n",
    "import scipy.spatial.distance\n",
    "from collections import OrderedDict\n",
    "\n",
    "from access.file_storage import FileStorage\n",
    "from access.interim_storage import InterimStorage\n",
    "\n",
    "KEY_NUMBER = 0\n",
    "#KEY_YEAR   = 1\n",
    "#KEY_STAR   = 2"
   ]
  },
  {
   "cell_type": "code",
   "execution_count": 2,
   "metadata": {},
   "outputs": [],
   "source": [
    "key_tfidf_tsvd___ = 'tfidf_tsvd'\n",
    "key_tfidf_umap___ = 'tfidf_umap'\n",
    "key_countvec_tsvd = 'countvec_tsvd'\n",
    "key_countvec_umap = 'countvec_umap'\n",
    "\n",
    "key_vectors         = 'vectors'\n",
    "key_np_array        = 'np_array'\n",
    "key_centroid        = 'centroid'\n",
    "key_distances       = 'distances'"
   ]
  },
  {
   "cell_type": "code",
   "execution_count": 3,
   "metadata": {},
   "outputs": [],
   "source": [
    "types = [key_tfidf_tsvd___,\n",
    "         key_tfidf_umap___,\n",
    "         key_countvec_tsvd,\n",
    "         key_countvec_umap]"
   ]
  },
  {
   "cell_type": "code",
   "execution_count": 4,
   "metadata": {},
   "outputs": [],
   "source": [
    "stars_neg = [1,2]\n",
    "stars_pos = [4,5]\n",
    "stars_posneg = stars_neg + stars_pos\n",
    "years_2006_2012 = list(range(2006,2012+1))"
   ]
  },
  {
   "cell_type": "markdown",
   "metadata": {},
   "source": [
    "## Read data"
   ]
  },
  {
   "cell_type": "code",
   "execution_count": 5,
   "metadata": {},
   "outputs": [],
   "source": [
    "data = {}"
   ]
  },
  {
   "cell_type": "markdown",
   "metadata": {},
   "source": [
    "### Vectors"
   ]
  },
  {
   "cell_type": "code",
   "execution_count": 6,
   "metadata": {},
   "outputs": [
    {
     "name": "stdout",
     "output_type": "stream",
     "text": [
      "Runtime: 20.973824976943433\n"
     ]
    }
   ],
   "source": [
    "data[key_vectors] = {}\n",
    "time_begin = timeit.default_timer()\n",
    "data[key_vectors][key_tfidf_tsvd___] = InterimStorage('tsvd').read()\n",
    "data[key_vectors][key_tfidf_umap___] = InterimStorage('umap').read()\n",
    "data[key_vectors][key_countvec_tsvd] = InterimStorage('countvec-tsvd').read()\n",
    "data[key_vectors][key_countvec_umap] = InterimStorage('countvec-umap').read()\n",
    "print('Runtime:', timeit.default_timer() - time_begin)\n",
    "# Runtime: 20.973824976943433"
   ]
  },
  {
   "cell_type": "code",
   "execution_count": 7,
   "metadata": {},
   "outputs": [
    {
     "name": "stdout",
     "output_type": "stream",
     "text": [
      "1203682 <class 'dict'> tfidf_tsvd [0.2935860120266387, 0.06035900338941396]\n",
      " e.g. (3, [0.2935860120266387, 0.06035900338941396])\n",
      "1203682 <class 'dict'> tfidf_umap [4.668518543243408, 8.601895332336426]\n",
      " e.g. (3, [4.668518543243408, 8.601895332336426])\n",
      "1203682 <class 'dict'> countvec_tsvd [5.905195593819305, -1.8458777033241844]\n",
      " e.g. (3, [5.905195593819305, -1.8458777033241844])\n",
      "1203682 <class 'dict'> countvec_umap [7.554241180419922, -0.3533836901187897]\n",
      " e.g. (3, [7.554241180419922, -0.3533836901187897])\n"
     ]
    }
   ],
   "source": [
    "def print_overview(data, title):\n",
    "    if isinstance(data, dict):\n",
    "        print(len(data), type(data), title, next(iter(data.values())))\n",
    "        print(' e.g.', next(iter(data.items())))\n",
    "    else:\n",
    "        print(len(data), type(data), title, data[0])\n",
    "\n",
    "for typ in types:\n",
    "    print_overview(data[key_vectors][typ], typ)\n",
    "\n",
    "#1203682 <class 'dict'> tfidf_tsvd [0.2935860120266387, 0.06035900338941396]\n",
    "#1203682 <class 'dict'> tfidf_umap [4.668518543243408, 8.601895332336426]\n",
    "#1203682 <class 'dict'> countvec_tsvd [5.905195593819305, -1.8458777033241844]\n",
    "#1203682 <class 'dict'> countvec_umap [7.554241180419922, -0.3533836901187897]"
   ]
  },
  {
   "cell_type": "markdown",
   "metadata": {},
   "source": [
    "### Review-number to indexes"
   ]
  },
  {
   "cell_type": "code",
   "execution_count": 8,
   "metadata": {},
   "outputs": [],
   "source": [
    "revnum_to_index = {}\n",
    "first_type = next(iter(types))\n",
    "for i, tup in enumerate(data[key_vectors][first_type].items()):\n",
    "    revnum_to_index[tup[0]] = i\n",
    "\n",
    "# Check if keys of all types are equal:\n",
    "first_type_keylist = list(data[key_vectors][first_type].keys())\n",
    "for typ in types:\n",
    "    key_list = list(data[key_vectors][typ].keys())\n",
    "    if not np.array_equal(first_type_keylist, key_list):\n",
    "        print('Different keys:', typ)"
   ]
  },
  {
   "cell_type": "markdown",
   "metadata": {},
   "source": [
    "### Year Star"
   ]
  },
  {
   "cell_type": "code",
   "execution_count": 9,
   "metadata": {},
   "outputs": [],
   "source": [
    "def count_ysl(ysl):\n",
    "    c = 0\n",
    "    for year in ysl.keys():\n",
    "        for star in ysl[year].keys():\n",
    "            c += len(ysl[year][star])\n",
    "    return c"
   ]
  },
  {
   "cell_type": "code",
   "execution_count": 10,
   "metadata": {},
   "outputs": [
    {
     "name": "stdout",
     "output_type": "stream",
     "text": [
      "Reviews in ys_lists: 1727821\n",
      "Runtime: 3.353083639405668\n"
     ]
    }
   ],
   "source": [
    "ys_lists = InterimStorage('deduplicated').read()\n",
    "print('Reviews in ys_lists:', count_ysl(ys_lists))\n",
    "# Reviews in ys_lists: 1,727,821"
   ]
  },
  {
   "cell_type": "markdown",
   "metadata": {},
   "source": [
    "## Convert to Numpy ndarrays, clean NAN\n",
    "\n",
    "https://numpy.org/doc/stable/reference/generated/numpy.nan_to_num.html"
   ]
  },
  {
   "cell_type": "code",
   "execution_count": 11,
   "metadata": {},
   "outputs": [
    {
     "name": "stdout",
     "output_type": "stream",
     "text": [
      "1203682 <class 'numpy.ndarray'> tfidf_tsvd [0.29358601 0.060359  ]\n",
      "1203682 <class 'numpy.ndarray'> tfidf_umap [4.66851854 8.60189533]\n",
      "1203682 <class 'numpy.ndarray'> countvec_tsvd [ 5.90519559 -1.8458777 ]\n",
      "1203682 <class 'numpy.ndarray'> countvec_umap [ 7.55424118 -0.35338369]\n"
     ]
    }
   ],
   "source": [
    "data[key_np_array] = {}\n",
    "for typ in types:\n",
    "    data[key_np_array][typ] = np.nan_to_num(np.array(list(data[key_vectors][typ].values())))\n",
    "    print_overview(data[key_np_array][typ], typ)\n",
    "    \n",
    "# 1203682 <class 'numpy.ndarray'> tfidf_tsvd    [ 0.29358601  0.060359  ]\n",
    "# 1203682 <class 'numpy.ndarray'> tfidf_umap    [ 4.66851854  8.60189533]\n",
    "# 1203682 <class 'numpy.ndarray'> countvec_tsvd [ 5.90519559 -1.8458777 ]\n",
    "# 1203682 <class 'numpy.ndarray'> countvec_umap [ 7.55424118 -0.35338369]"
   ]
  },
  {
   "cell_type": "markdown",
   "metadata": {},
   "source": [
    "## Centroids"
   ]
  },
  {
   "cell_type": "code",
   "execution_count": 12,
   "metadata": {},
   "outputs": [],
   "source": [
    "def get_centroid(data):\n",
    "    print(data.min(axis=0), data.max(axis=0), data.mean(axis=0))\n",
    "    return data.mean(axis=0)"
   ]
  },
  {
   "cell_type": "code",
   "execution_count": 13,
   "metadata": {},
   "outputs": [
    {
     "name": "stdout",
     "output_type": "stream",
     "text": [
      "[ 0.         -0.40866756] [0.65589508 0.77644091] [ 0.24590463 -0.01219842]\n",
      "[-5.77501488 -1.45871496] [13.72292328 15.23633862] [6.34190018 6.32022436]\n",
      "[  0.         -34.30849225] [105.43668317  78.95606391] [ 3.50654809 -0.39607092]\n",
      "[-2.58597469 -8.12982941] [14.06348991 10.52065468] [5.02704603 0.35577971]\n",
      "Runtime: 0.4649447062984109\n"
     ]
    }
   ],
   "source": [
    "data[key_centroid] = {}\n",
    "for typ in types:\n",
    "    data[key_centroid][typ] = get_centroid(data[key_np_array][typ])\n",
    "\n",
    "#[ 0.          -0.40866756]   [0.65589508  0.77644091]   [0.24590463 -0.01219842]\n",
    "#[-5.77501488  -1.45871496]  [13.72292328 15.23633862]   [6.34190018  6.32022436]\n",
    "#[ 0.         -34.30849225] [105.43668317 78.95606391]   [3.50654809 -0.39607092]\n",
    "#[-2.58597469  -8.12982941]  [14.06348991 10.52065468]   [5.02704603  0.35577971]"
   ]
  },
  {
   "cell_type": "markdown",
   "metadata": {},
   "source": [
    "## Distances to centroid\n",
    "\n",
    "https://docs.scipy.org/doc/scipy/reference/generated/scipy.spatial.distance.cdist.html"
   ]
  },
  {
   "cell_type": "code",
   "execution_count": 14,
   "metadata": {},
   "outputs": [
    {
     "name": "stdout",
     "output_type": "stream",
     "text": [
      "1203682\n",
      "1203682\n",
      "1203682\n",
      "1203682\n",
      "Runtime: 0.09357141004875302\n"
     ]
    }
   ],
   "source": [
    "data[key_distances] = {}\n",
    "for typ in types:\n",
    "    data[key_distances][typ] = scipy.spatial.distance.cdist(\n",
    "        data[key_np_array][typ],\n",
    "        data[key_centroid][typ].reshape(1,-1),\n",
    "        metric='cosine')\n",
    "    print(len(data[key_distances][typ]))"
   ]
  },
  {
   "cell_type": "markdown",
   "metadata": {},
   "source": [
    "## Sort by distances to centroid"
   ]
  },
  {
   "cell_type": "code",
   "execution_count": 15,
   "metadata": {},
   "outputs": [],
   "source": [
    "def filter_revnums(years, stars, number=-1):\n",
    "    revums = set()\n",
    "    for year in ys_lists.keys():\n",
    "        if(year not in years):\n",
    "            continue\n",
    "        for star in ys_lists[year].keys():\n",
    "            if(star not in stars):\n",
    "                continue\n",
    "            for tup in ys_lists[year][star]:\n",
    "                revums.add(tup[KEY_NUMBER])\n",
    "                if(len(revums) == number):\n",
    "                    return revums\n",
    "    return revums"
   ]
  },
  {
   "cell_type": "code",
   "execution_count": 16,
   "metadata": {},
   "outputs": [],
   "source": [
    "def get_distances(years, stars, typ):\n",
    "    results = []\n",
    "    for revnum in filter_revnums(years, stars):\n",
    "        if(revnum not in revnum_to_index.keys()):\n",
    "            continue\n",
    "        index = revnum_to_index[revnum]\n",
    "        results.append((revnum,\n",
    "                       index,\n",
    "                       data[key_distances][typ][index]))\n",
    "    return results"
   ]
  },
  {
   "cell_type": "code",
   "execution_count": 17,
   "metadata": {},
   "outputs": [
    {
     "name": "stdout",
     "output_type": "stream",
     "text": [
      "1203682\n",
      "1203682\n",
      "1203682\n",
      "1203682\n",
      "Runtime: 52.87649042997509\n"
     ]
    }
   ],
   "source": [
    "# (revnum, index, distance) sorted by distances to centroid\n",
    "time_begin = timeit.default_timer()\n",
    "distance_sorted = {}\n",
    "for typ in types:\n",
    "    distance_sorted[typ] = sorted(get_distances(years_2006_2012, stars_posneg, typ), key=lambda tup: tup[2])\n",
    "    print(len(distance_sorted[typ]))\n",
    "print('Runtime:', timeit.default_timer() - time_begin)\n",
    "# Runtime: 52.87649042997509"
   ]
  },
  {
   "cell_type": "code",
   "execution_count": 18,
   "metadata": {},
   "outputs": [
    {
     "data": {
      "text/plain": [
       "[(30617, 17517, array([8.67417249e-13])),\n",
       " (88042, 48374, array([5.99575944e-12])),\n",
       " (2168205, 672267, array([1.21821442e-10])),\n",
       " (5505968, 1047477, array([1.34721234e-10])),\n",
       " (247442, 128434, array([1.81096582e-10])),\n",
       " (196474, 105286, array([1.8520363e-10])),\n",
       " (2531243, 734996, array([2.74675505e-10])),\n",
       " (84144, 45808, array([3.21328741e-10])),\n",
       " (411619, 198726, array([3.52041063e-10])),\n",
       " (739897, 317424, array([3.95095623e-10]))]"
      ]
     },
     "execution_count": 18,
     "metadata": {},
     "output_type": "execute_result"
    }
   ],
   "source": [
    "distance_sorted[first_type][:10]"
   ]
  },
  {
   "cell_type": "code",
   "execution_count": null,
   "metadata": {},
   "outputs": [],
   "source": []
  }
 ],
 "metadata": {
  "kernelspec": {
   "display_name": "Python (EML4U)",
   "language": "python",
   "name": "eml4u"
  },
  "language_info": {
   "codemirror_mode": {
    "name": "ipython",
    "version": 3
   },
   "file_extension": ".py",
   "mimetype": "text/x-python",
   "name": "python",
   "nbconvert_exporter": "python",
   "pygments_lexer": "ipython3",
   "version": "3.8.5"
  }
 },
 "nbformat": 4,
 "nbformat_minor": 4
}
