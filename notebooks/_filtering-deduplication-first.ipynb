{
 "cells": [
  {
   "cell_type": "markdown",
   "metadata": {},
   "source": [
    "# Filtering (deduplication first - archive version)\n",
    "\n",
    "Note: Checking opinion words first results in more final reviews.\n"
   ]
  },
  {
   "cell_type": "code",
   "execution_count": 1,
   "metadata": {},
   "outputs": [],
   "source": [
    "# Reload modules every time before executing the Python code typed\n",
    "%load_ext autoreload\n",
    "%autoreload 2\n",
    "\n",
    "# Import from project root\n",
    "import sys; sys.path.insert(0, '../')\n",
    "\n",
    "import timeit\n",
    "from collections import OrderedDict\n",
    "\n",
    "from access.file_storage import FileStorage\n",
    "from access.interim_storage import InterimStorage\n",
    "\n",
    "from amore.printer import Printer\n",
    "\n",
    "from readers.numbers_years_stars import NumbersYearsStars\n",
    "from readers.opinion_counts import OpinionCounts\n",
    "from readers.text_duplicates import TextDuplicates"
   ]
  },
  {
   "cell_type": "code",
   "execution_count": 2,
   "metadata": {},
   "outputs": [],
   "source": [
    "file_storage = FileStorage()\n",
    "printer = Printer()"
   ]
  },
  {
   "cell_type": "code",
   "execution_count": 3,
   "metadata": {},
   "outputs": [],
   "source": [
    "def count_ysl(ysl):\n",
    "    c = 0\n",
    "    for year in ysl.keys():\n",
    "        for star in ysl[year].keys():\n",
    "            c += len(ysl[year][star])\n",
    "    return c"
   ]
  },
  {
   "cell_type": "code",
   "execution_count": 4,
   "metadata": {},
   "outputs": [],
   "source": [
    "def add_tuple(dict_, tup):\n",
    "    if tup[NumbersYearsStars.KEY_YEAR] not in dict_.keys():\n",
    "        dict_[tup[NumbersYearsStars.KEY_YEAR]] = {}\n",
    "    if tup[NumbersYearsStars.KEY_STAR] not in dict_[tup[NumbersYearsStars.KEY_YEAR]].keys():\n",
    "        dict_[ tup[NumbersYearsStars.KEY_YEAR] ][ tup[NumbersYearsStars.KEY_STAR] ] = []\n",
    "    dict_[tup[NumbersYearsStars.KEY_YEAR]][tup[NumbersYearsStars.KEY_STAR]].append(tup)"
   ]
  },
  {
   "cell_type": "code",
   "execution_count": 5,
   "metadata": {},
   "outputs": [],
   "source": [
    "nys = NumbersYearsStars(file_storage.get_filepath('AMORE-NumbersYearsStars'))"
   ]
  },
  {
   "cell_type": "markdown",
   "metadata": {},
   "source": [
    "## Numbers overview"
   ]
  },
  {
   "cell_type": "code",
   "execution_count": 6,
   "metadata": {},
   "outputs": [],
   "source": [
    "# Reads and also caches data from file\n",
    "ys_lists = nys.get_by_year_star()"
   ]
  },
  {
   "cell_type": "code",
   "execution_count": 7,
   "metadata": {},
   "outputs": [
    {
     "name": "stdout",
     "output_type": "stream",
     "text": [
      "Reviews in ys_lists: 7911684\n"
     ]
    }
   ],
   "source": [
    "# Print table\n",
    "if False:\n",
    "    printer.ipython_display(printer.get_dataframe_with_sums(ys_lists))\n",
    "if False:\n",
    "    print(printer.get_dataframe_markdown(printer.get_dataframe_with_sums(ys_lists), float_as_integer=True))\n",
    "print('Reviews in ys_lists:', count_ysl(ys_lists))\n",
    "# Reviews in ys_lists: 7,911,684"
   ]
  },
  {
   "cell_type": "markdown",
   "metadata": {},
   "source": [
    "Original\n",
    "\n",
    "|     |   1997 |   1998 |   1999 |   2000 |   2001 |   2002 |   2003 |   2004 |   2005 |   2006 |   2007 |   2008 |   2009 |   2010 |   2011 |   2012 |     Sum |\n",
    "|:----|-------:|-------:|-------:|-------:|-------:|-------:|-------:|-------:|-------:|-------:|-------:|-------:|-------:|-------:|-------:|-------:|--------:|\n",
    "| 1   |      6 |    191 |   4844 |  19944 |  24221 |  25311 |  25734 |  41016 |  54744 |  49049 |  49521 |  56076 |  59099 |  65343 |  72957 |  81276 |  629332 |\n",
    "| 2   |      1 |    262 |   3631 |  17808 |  20320 |  22641 |  24183 |  33117 |  40868 |  37992 |  40205 |  40138 |  39680 |  41430 |  45767 |  47356 |  455399 |\n",
    "| 3   |      8 |    442 |   6458 |  30907 |  35395 |  37798 |  43323 |  60489 |  71012 |  66128 |  75239 |  74057 |  73178 |  70279 |  72055 |  74826 |  791594 |\n",
    "| 4   |     29 |    797 |  14178 |  73314 |  79152 |  84276 |  90527 | 119160 | 138000 | 135581 | 167632 | 161693 | 149771 | 142000 | 148457 | 150248 | 1654815 |\n",
    "| 5   |     64 |   3313 |  49866 | 192002 | 189638 | 198712 | 205916 | 257603 | 308080 | 311252 | 452009 | 412870 | 422403 | 426248 | 465918 | 484650 | 4380544 |\n",
    "| Sum |    108 |   5005 |  78977 | 333975 | 348726 | 368738 | 389683 | 511385 | 612704 | 600002 | 784606 | 744834 | 744131 | 745300 | 805154 | 838356 | 7911684 |"
   ]
  },
  {
   "cell_type": "markdown",
   "metadata": {},
   "source": [
    "## Filter by text duplicates"
   ]
  },
  {
   "cell_type": "code",
   "execution_count": 8,
   "metadata": {},
   "outputs": [
    {
     "name": "stdout",
     "output_type": "stream",
     "text": [
      "Duplicate texts: 1239822 <class 'list'>\n"
     ]
    }
   ],
   "source": [
    "# Get lists of duplicate texts\n",
    "dup = TextDuplicates(file_storage.get_filepath('AMORE-TextDuplicates'))\n",
    "# print(dup.get_data()[0]) # [1, 5615911]\n",
    "print('Duplicate texts:', len(dup.get_data()), type(dup.get_data()))\n",
    "# Duplicate texts: 1,239,822"
   ]
  },
  {
   "cell_type": "code",
   "execution_count": 9,
   "metadata": {},
   "outputs": [
    {
     "name": "stdout",
     "output_type": "stream",
     "text": [
      "Duplicates in reviews: 7241411\n"
     ]
    }
   ],
   "source": [
    "# Collect IDs (numbers) of duplicates (= affected reviews)\n",
    "dup_ids = set()\n",
    "for text_dups in dup.get_data():\n",
    "    for rev_no in text_dups:\n",
    "        dup_ids.add(rev_no)\n",
    "print('Duplicates in reviews:', len(dup_ids))\n",
    "# Duplicates in reviews: 7,241,411"
   ]
  },
  {
   "cell_type": "code",
   "execution_count": 10,
   "metadata": {},
   "outputs": [
    {
     "name": "stdout",
     "output_type": "stream",
     "text": [
      "Added: 670273\n"
     ]
    }
   ],
   "source": [
    "# Collect non-duplicates\n",
    "added = 0\n",
    "ys_no_dups = {}\n",
    "for year in ys_lists.keys():\n",
    "    for star in ys_lists[year].keys():\n",
    "        for tup in ys_lists[year][star]:\n",
    "            if(tup[NumbersYearsStars.KEY_NUMBER] not in dup_ids):\n",
    "                add_tuple(ys_no_dups, tup)\n",
    "                added += 1\n",
    "print('Added:', added)\n",
    "# Added: 670,273"
   ]
  },
  {
   "cell_type": "code",
   "execution_count": 11,
   "metadata": {},
   "outputs": [
    {
     "name": "stdout",
     "output_type": "stream",
     "text": [
      "Reviews in ys_no_dups: 670273\n"
     ]
    }
   ],
   "source": [
    "# Print non-duplicates\n",
    "# Print table\n",
    "if False:\n",
    "    printer.ipython_display(printer.get_dataframe_with_sums(ys_no_dups))\n",
    "if False:\n",
    "    print(printer.get_dataframe_markdown(printer.get_dataframe_with_sums(ys_no_dups), float_as_integer=True))\n",
    "print('Reviews in ys_no_dups:', count_ysl(ys_no_dups))\n",
    "# Reviews in ys_no_dups: 670,273"
   ]
  },
  {
   "cell_type": "markdown",
   "metadata": {},
   "source": [
    "Non-duplicates\n",
    "\n",
    "|     |   1997 |   1998 |   1999 |   2000 |   2001 |   2002 |   2003 |   2004 |   2005 |   2006 |   2007 |   2008 |   2009 |   2010 |   2011 |   2012 |    Sum |\n",
    "|:----|-------:|-------:|-------:|-------:|-------:|-------:|-------:|-------:|-------:|-------:|-------:|-------:|-------:|-------:|-------:|-------:|-------:|\n",
    "| 1   |      1 |      3 |    114 |    393 |    439 |    495 |    614 |   1646 |   3842 |   4133 |   5339 |   6072 |   6875 |   6964 |   7699 |   7636 |  52265 |\n",
    "| 2   |      1 |      8 |     77 |    305 |    384 |    410 |    515 |   1117 |   2239 |   2680 |   3751 |   4256 |   4428 |   4541 |   4908 |   4435 |  34055 |\n",
    "| 3   |    nan |     21 |    183 |    735 |    788 |    812 |    912 |   1881 |   3896 |   4611 |   6835 |   7278 |   7689 |   7920 |   8209 |   7319 |  59089 |\n",
    "| 4   |    nan |     42 |    428 |   1649 |   1853 |   1811 |   2196 |   4073 |   7731 |   9653 |  14739 |  15214 |  15613 |  15352 |  16112 |  14486 | 120952 |\n",
    "| 5   |      2 |    122 |   1270 |   4121 |   4295 |   4805 |   6375 |  13263 |  24742 |  30601 |  47850 |  48959 |  53337 |  51538 |  56580 |  56052 | 403912 |\n",
    "| Sum |      4 |    196 |   2072 |   7203 |   7759 |   8333 |  10612 |  21980 |  42450 |  51678 |  78514 |  81779 |  87942 |  86315 |  93508 |  89928 | 670273 |"
   ]
  },
  {
   "cell_type": "markdown",
   "metadata": {},
   "source": [
    "### Duplicates with same year and star: Re-add one review"
   ]
  },
  {
   "cell_type": "code",
   "execution_count": 12,
   "metadata": {},
   "outputs": [
    {
     "name": "stdout",
     "output_type": "stream",
     "text": [
      "Added: 1238812\n",
      "Affected reviews: 7230115\n",
      "Non-equal: 1010\n"
     ]
    }
   ],
   "source": [
    "# If duplicate tuples have same year and star, add first one to collected non-duplicates (ys_no_dups).\n",
    "# Collect rest in non_equal\n",
    "non_equal = []\n",
    "added = 0\n",
    "affected_reviews = 0\n",
    "for text_dups in dup.get_data():\n",
    "    equal = True\n",
    "    first_tup = None\n",
    "    for rev_no in text_dups:\n",
    "        tup = nys.get_by_number(rev_no)\n",
    "        if first_tup is None:\n",
    "            first_tup = tup\n",
    "        else:\n",
    "            if(tup[NumbersYearsStars.KEY_YEAR] == first_tup[NumbersYearsStars.KEY_YEAR] and\n",
    "               tup[NumbersYearsStars.KEY_STAR] == first_tup[NumbersYearsStars.KEY_STAR]):\n",
    "                continue\n",
    "            else:\n",
    "                equal = False\n",
    "    if equal is False:\n",
    "        non_equal.append(text_dups)\n",
    "    else:\n",
    "        add_tuple(ys_no_dups, first_tup)\n",
    "        added += 1\n",
    "        affected_reviews += len(text_dups)\n",
    "print('Added:', added)\n",
    "print('Affected reviews:', affected_reviews)\n",
    "print('Non-equal:', len(non_equal))\n",
    "# Added:            1,238,812\n",
    "# Affected reviews: 7,230,115\n",
    "# Non-equal:            1,010"
   ]
  },
  {
   "cell_type": "code",
   "execution_count": 13,
   "metadata": {},
   "outputs": [
    {
     "name": "stdout",
     "output_type": "stream",
     "text": [
      "Reviews in ys_no_dups: 1909085\n"
     ]
    }
   ],
   "source": [
    "# Print non-duplicates\n",
    "# Print table\n",
    "if False:\n",
    "    printer.ipython_display(printer.get_dataframe_with_sums(ys_no_dups))\n",
    "if False:\n",
    "    print(printer.get_dataframe_markdown(printer.get_dataframe_with_sums(ys_no_dups), float_as_integer=True))\n",
    "print('Reviews in ys_no_dups:', count_ysl(ys_no_dups))\n",
    "# Reviews in ys_no_dups: 1,909,085"
   ]
  },
  {
   "cell_type": "markdown",
   "metadata": {},
   "source": [
    "Non-duplicates and deduplicated same year-star reviews\n",
    "\n",
    "|     |   1997 |   1998 |   1999 |   2000 |   2001 |   2002 |   2003 |   2004 |   2005 |   2006 |   2007 |   2008 |   2009 |   2010 |   2011 |   2012 |     Sum |\n",
    "|:----|-------:|-------:|-------:|-------:|-------:|-------:|-------:|-------:|-------:|-------:|-------:|-------:|-------:|-------:|-------:|-------:|--------:|\n",
    "| 1   |      2 |     27 |    649 |   2666 |   3239 |   3803 |   3988 |   7403 |  12084 |  11777 |  13566 |  15572 |  17299 |  19009 |  22677 |  25091 |  158852 |\n",
    "| 2   |      1 |     37 |    490 |   2352 |   2800 |   3312 |   3698 |   5610 |   8458 |   8731 |  10469 |  11167 |  11684 |  12452 |  14418 |  14740 |  110419 |\n",
    "| 3   |      1 |     76 |   1018 |   4495 |   5176 |   5711 |   6609 |  10100 |  14487 |  14909 |  19070 |  19463 |  20491 |  20737 |  22797 |  22891 |  188031 |\n",
    "| 4   |      4 |    163 |   2262 |  10246 |  11664 |  12738 |  14065 |  20472 |  28025 |  30436 |  41108 |  40461 |  40707 |  40025 |  44252 |  43955 |  380583 |\n",
    "| 5   |     14 |    578 |   7498 |  25981 |  27126 |  30466 |  33612 |  48732 |  69059 |  76909 | 116305 | 111772 | 120515 | 121349 | 138609 | 142675 | 1071200 |\n",
    "| Sum |     22 |    881 |  11917 |  45740 |  50005 |  56030 |  61972 |  92317 | 132113 | 142762 | 200518 | 198435 | 210696 | 213572 | 242753 | 249352 | 1909085 |"
   ]
  },
  {
   "cell_type": "markdown",
   "metadata": {},
   "source": [
    "### Overview of non-deduplicated reviews"
   ]
  },
  {
   "cell_type": "code",
   "execution_count": 14,
   "metadata": {},
   "outputs": [
    {
     "name": "stdout",
     "output_type": "stream",
     "text": [
      "Reviews with different year-star: 11296\n",
      "Inside list: 1010\n"
     ]
    }
   ],
   "source": [
    "# Non-equal: Print overview\n",
    "different_year_star = 0\n",
    "print_eol = False\n",
    "for ne_list in non_equal:\n",
    "    different_year_star += len(ne_list)\n",
    "    if False: # Print list of review-numbers\n",
    "        print(ne_list)\n",
    "    star_print = []\n",
    "    for rev_no in ne_list:\n",
    "        tup = nys.get_by_number(rev_no)\n",
    "        if False: # Print stars\n",
    "            star_print.append(tup[NumbersYearsStars.KEY_STAR])\n",
    "        if False: # Print years\n",
    "            print(tup[NumbersYearsStars.KEY_YEAR], end=' ')\n",
    "            print_eol = True\n",
    "    if(print_eol):\n",
    "        print()\n",
    "    if(len(star_print) != 0):\n",
    "        print(star_print)\n",
    "print('Reviews with different year-star:', different_year_star)\n",
    "print('Inside list:', len(non_equal))\n",
    "# Reviews with different year-star: 11,296\n",
    "# Inside list: 1,010"
   ]
  },
  {
   "cell_type": "code",
   "execution_count": null,
   "metadata": {},
   "outputs": [],
   "source": [
    "non_equal_dup_to_rev = {}\n",
    "for i, ne_list in enumerate(non_equal):\n",
    "    if i == 0:\n",
    "        print('Example:')\n",
    "        print(i, '- Affected reviews of duplicate:', len(ne_list), '- First review number:', ne_list[0], ne_list)\n",
    "        print()\n",
    "    c = len(ne_list)\n",
    "    if c not in non_equal_dup_to_rev.keys():\n",
    "        non_equal_dup_to_rev[c] = []\n",
    "    non_equal_dup_to_rev[c].append(i)\n",
    "non_equal_dup_to_rev = OrderedDict(sorted(non_equal_dup_to_rev.items()))\n",
    "\n",
    "print('Affected reviews of duplicate, number of duplicates, example enumeration index:')\n",
    "for c in non_equal_dup_to_rev.keys():\n",
    "    print(c, len(non_equal_dup_to_rev[c]), non_equal_dup_to_rev[c][0], end=' | ')\n",
    "print()\n",
    "\n",
    "print()\n",
    "print('Examples:')\n",
    "for i, ne_list in enumerate(non_equal):\n",
    "    if i == 7:\n",
    "        print(i, '- Affected reviews of duplicate:', len(ne_list), '- First review number:', ne_list[0])\n",
    "    if i == 16:\n",
    "        print(i, '- Affected reviews of duplicate:', len(ne_list), '- First review number:', ne_list[0])\n",
    "    if i == 4:\n",
    "        print(i, '- Affected reviews of duplicate:', len(ne_list), '- First review number:', ne_list[0])\n",
    "    if i == 29:\n",
    "        print(i, '- Affected reviews of duplicate:', len(ne_list), '- First review number:', ne_list[0])\n",
    "    if i == 147:\n",
    "        print(i, '- Affected reviews of duplicate:', len(ne_list), '- First review number:', ne_list[0])\n",
    "    if i == 112:\n",
    "        print(i, '- Affected reviews of duplicate:', len(ne_list), '- First review number:', ne_list[0])"
   ]
  },
  {
   "cell_type": "markdown",
   "metadata": {},
   "source": [
    "```\n",
    "Example:\n",
    "0 - Affected reviews of duplicate: 10 - First review number: 410 [410, 412, 2664455, 2664457, 4377432, 4377434, 5372483, 5372485, 6458827, 6458829]\n",
    "\n",
    "Affected reviews of duplicate, number of duplicates, example enumeration index:\n",
    "2 176 7 | 3 95 16 | 4 127 4 | 5 59 91 | 6 88 1 | 7 31 57 | 8 56 22 | 9 29 40 | 10 37 0 | 11 14 28 | 12 37 19 | 13 12 47 | 14 25 8 | 15 7 87 | 16 16 23 | 17 3 215 | 18 24 11 | 19 6 45 | 20 17 3 | 21 9 39 | 22 16 2 | 23 1 117 | 24 12 74 | 25 6 76 | 26 6 41 | 27 3 234 | 28 12 10 | 29 2 31 | 30 12 42 | 31 1 193 | 32 4 175 | 33 4 15 | 34 6 84 | 35 3 9 | 36 5 168 | 38 5 99 | 39 1 876 | 41 2 111 | 42 8 17 | 43 1 32 | 44 5 27 | 45 1 36 | 46 3 56 | 47 1 409 | 50 2 210 | 51 1 179 | 54 3 14 | 55 1 126 | 56 1 355 | 59 1 153 | 60 1 252 | 62 2 30 | 65 1 135 | 66 1 343 | 69 1 73 | 70 1 51 | 72 1 410 | 80 1 88 | 94 1 26 | 155 1 29 | 163 1 147 | 216 1 112 | \n",
    "\n",
    "Examples:\n",
    "4 - Affected reviews of duplicate: 4 - First review number: 4901\n",
    "7 - Affected reviews of duplicate: 2 - First review number: 7035\n",
    "16 - Affected reviews of duplicate: 3 - First review number: 20359\n",
    "29 - Affected reviews of duplicate: 155 - First review number: 34896\n",
    "112 - Affected reviews of duplicate: 216 - First review number: 121943\n",
    "147 - Affected reviews of duplicate: 163 - First review number: 179065\n",
    "```"
   ]
  },
  {
   "cell_type": "code",
   "execution_count": 16,
   "metadata": {},
   "outputs": [
    {
     "name": "stdout",
     "output_type": "stream",
     "text": [
      "Reviews in ys_no_dups: 1909085\n"
     ]
    }
   ],
   "source": [
    "# Write cache\n",
    "InterimStorage('deduplicated').write(ys_no_dups).get_filepath()\n",
    "print('Reviews in ys_no_dups:', count_ysl(ys_no_dups))\n",
    "# Reviews in ys_no_dups: 1,909,085"
   ]
  },
  {
   "cell_type": "markdown",
   "metadata": {},
   "source": [
    "## Filter by opinion words"
   ]
  },
  {
   "cell_type": "code",
   "execution_count": 17,
   "metadata": {},
   "outputs": [
    {
     "name": "stdout",
     "output_type": "stream",
     "text": [
      "Reviews in ys_no_dups: 1909085\n"
     ]
    }
   ],
   "source": [
    "# Read cache\n",
    "ys_no_dups = InterimStorage('deduplicated').read()\n",
    "print('Reviews in ys_no_dups:', count_ysl(ys_no_dups))\n",
    "# Reviews in ys_no_dups: 1,909,085"
   ]
  },
  {
   "cell_type": "code",
   "execution_count": 18,
   "metadata": {},
   "outputs": [],
   "source": [
    "def print_examples(ysl, posstar_max=10, negstar_max=10):\n",
    "    print('Star   existent occurences   review-number')\n",
    "    posstar_count=0\n",
    "    negstar_count=0\n",
    "    for year in ysl.keys():\n",
    "        for star in ysl[year].keys():\n",
    "            for tup in ysl[year][star]:\n",
    "                if(negstar_count<negstar_max and star in [1,2]):\n",
    "                    print(star, ' ',\n",
    "                          opinion_counts.get_existent(tup[NumbersYearsStars.KEY_NUMBER]),\n",
    "                          opinion_counts.get_occurences(tup[NumbersYearsStars.KEY_NUMBER]),\n",
    "                          ' ', tup[NumbersYearsStars.KEY_NUMBER])\n",
    "                    negstar_count += 1\n",
    "                elif(posstar_count<posstar_max and star in [4,5]):\n",
    "                    print(star, ' ',\n",
    "                          opinion_counts.get_existent(tup[NumbersYearsStars.KEY_NUMBER]),\n",
    "                          opinion_counts.get_occurences(tup[NumbersYearsStars.KEY_NUMBER]),\n",
    "                          ' ', tup[NumbersYearsStars.KEY_NUMBER])\n",
    "                    posstar_count += 1\n",
    "                if(posstar_count>=posstar_max and negstar_count>=negstar_max):\n",
    "                    break\n",
    "            if(posstar_count>=posstar_max and negstar_count>=negstar_max):\n",
    "                break\n",
    "        if(posstar_count>=posstar_max and negstar_count>=negstar_max):\n",
    "            break"
   ]
  },
  {
   "cell_type": "code",
   "execution_count": 19,
   "metadata": {},
   "outputs": [],
   "source": [
    "opinion_counts = OpinionCounts(file_storage.get_filepath('AMORE-OpinionCounts'))"
   ]
  },
  {
   "cell_type": "code",
   "execution_count": 20,
   "metadata": {},
   "outputs": [
    {
     "name": "stdout",
     "output_type": "stream",
     "text": [
      "Star   existent occurences   review-number\n",
      "5   8 10   382\n",
      "5   4 2   384\n",
      "5   -11 -8   385\n",
      "5   1 4   395\n",
      "5   1 1   2972\n",
      "5   5 4   2973\n",
      "5   3 3   3357\n",
      "5   2 2   4365\n",
      "5   2 2   6297\n",
      "5   9 9   6310\n",
      "5   -1 0   6313\n",
      "5   -1 -1   6314\n",
      "5   2 2   6321\n",
      "5   16 11   6588\n",
      "5   14 11   6590\n",
      "5   9 8   6593\n",
      "5   4 4   6604\n",
      "5   8 5   6605\n",
      "5   0 0   7153\n",
      "1   -1 -1   4368\n",
      "1   -2 -3   6326\n",
      "1   -6 -5   7371\n",
      "1   -4 -4   9867\n",
      "1   -5 -5   9868\n",
      "1   -3 -3   12570\n",
      "1   1 0   16501\n",
      "1   0 0   16502\n"
     ]
    }
   ],
   "source": [
    "# Examples with 0/neg for 5-star and with 0/pos for 1-star\n",
    "print_examples(ys_no_dups, posstar_max=19, negstar_max=8)"
   ]
  },
  {
   "cell_type": "code",
   "execution_count": 21,
   "metadata": {},
   "outputs": [
    {
     "name": "stdout",
     "output_type": "stream",
     "text": [
      "Runtime: 4.798527679871768\n"
     ]
    }
   ],
   "source": [
    "time_begin = timeit.default_timer()\n",
    "ys_opinion_lists = {}\n",
    "for year in ys_no_dups.keys():\n",
    "    for star in ys_no_dups[year].keys():\n",
    "        for tup in ys_no_dups[year][star]:\n",
    "            if(tup[NumbersYearsStars.KEY_STAR] in [1,2]):\n",
    "                if(opinion_counts.get_existent(tup[NumbersYearsStars.KEY_NUMBER]) < 0 and\n",
    "                   opinion_counts.get_occurences(tup[NumbersYearsStars.KEY_NUMBER]) < 0):\n",
    "                    add_tuple(ys_opinion_lists, tup)\n",
    "            elif(tup[NumbersYearsStars.KEY_STAR] == 3):\n",
    "                continue\n",
    "            elif(tup[NumbersYearsStars.KEY_STAR] in [4,5]):\n",
    "                if(opinion_counts.get_existent(tup[NumbersYearsStars.KEY_NUMBER]) > 0 and\n",
    "                   opinion_counts.get_occurences(tup[NumbersYearsStars.KEY_NUMBER]) > 0):\n",
    "                    add_tuple(ys_opinion_lists, tup)\n",
    "print('Runtime:', timeit.default_timer() - time_begin)"
   ]
  },
  {
   "cell_type": "code",
   "execution_count": 22,
   "metadata": {},
   "outputs": [
    {
     "name": "stdout",
     "output_type": "stream",
     "text": [
      "Star   existent occurences   review-number\n",
      "5   8 10   382\n",
      "5   4 2   384\n",
      "5   1 4   395\n",
      "5   1 1   2972\n",
      "5   5 4   2973\n",
      "5   3 3   3357\n",
      "5   2 2   4365\n",
      "5   2 2   6297\n",
      "5   9 9   6310\n",
      "5   2 2   6321\n",
      "5   16 11   6588\n",
      "5   14 11   6590\n",
      "5   9 8   6593\n",
      "5   4 4   6604\n",
      "5   8 5   6605\n",
      "5   1 1   7157\n",
      "5   5 3   7242\n",
      "5   2 2   7708\n",
      "5   3 3   7743\n",
      "1   -1 -1   4368\n",
      "1   -2 -3   6326\n",
      "1   -6 -5   7371\n",
      "1   -4 -4   9867\n",
      "1   -5 -5   9868\n",
      "1   -3 -3   12570\n",
      "1   -1 -1   25562\n",
      "1   -10 -11   30240\n"
     ]
    }
   ],
   "source": [
    "print_examples(ys_opinion_lists, posstar_max=19, negstar_max=8)"
   ]
  },
  {
   "cell_type": "code",
   "execution_count": 28,
   "metadata": {},
   "outputs": [
    {
     "name": "stdout",
     "output_type": "stream",
     "text": [
      "Reviews in ys_no_dups: 1301417\n"
     ]
    }
   ],
   "source": [
    "# Print table\n",
    "if False:\n",
    "    printer.ipython_display(printer.get_dataframe_with_sums(ys_opinion_lists))\n",
    "if False:\n",
    "    print(printer.get_dataframe_markdown(printer.get_dataframe_with_sums(ys_opinion_lists), float_as_integer=True))\n",
    "print('Reviews in ys_no_dups:', count_ysl(ys_opinion_lists))\n",
    "# Reviews in ys_no_dups: 1,301,417"
   ]
  },
  {
   "cell_type": "markdown",
   "metadata": {},
   "source": [
    "Deduplicated and filtered by opinion words\n",
    "\n",
    "|     |   1997 |   1998 |   1999 |   2000 |   2001 |   2002 |   2003 |   2004 |   2005 |   2006 |   2007 |   2008 |   2009 |   2010 |   2011 |   2012 |     Sum |\n",
    "|:----|-------:|-------:|-------:|-------:|-------:|-------:|-------:|-------:|-------:|-------:|-------:|-------:|-------:|-------:|-------:|-------:|--------:|\n",
    "| 1   |      2 |     15 |    398 |   1693 |   1902 |   2344 |   2453 |   4624 |   7431 |   7095 |   7980 |   9084 |  10031 |  11196 |  13352 |  14953 |   94553 |\n",
    "| 2   |    nan |     12 |    200 |    980 |   1167 |   1425 |   1567 |   2422 |   3758 |   3787 |   4362 |   4507 |   4726 |   5273 |   6041 |   6408 |   46635 |\n",
    "| 4   |      2 |    114 |   1685 |   7381 |   8386 |   9012 |   9823 |  14062 |  19369 |  21545 |  30384 |  29815 |  30389 |  29409 |  32888 |  32913 |  277177 |\n",
    "| 5   |     12 |    478 |   6056 |  20592 |  21447 |  23971 |  26334 |  37813 |  54023 |  61434 |  96439 |  93463 | 101591 | 101680 | 117114 | 120605 |  883052 |\n",
    "| Sum |     16 |    619 |   8339 |  30646 |  32902 |  36752 |  40177 |  58921 |  84581 |  93861 | 139165 | 136869 | 146737 | 147558 | 169395 | 174879 | 1301417 |"
   ]
  },
  {
   "cell_type": "code",
   "execution_count": 30,
   "metadata": {},
   "outputs": [
    {
     "name": "stdout",
     "output_type": "stream",
     "text": [
      "Reviews in ys_no_dups: 1301417\n"
     ]
    }
   ],
   "source": [
    "# Write cache\n",
    "InterimStorage('deduplicated_opinion-filtered').write(ys_opinion_lists).get_filepath()\n",
    "print('Reviews in ys_no_dups:', count_ysl(ys_opinion_lists))\n",
    "# Reviews in ys_no_dups: 1,301,417"
   ]
  },
  {
   "cell_type": "code",
   "execution_count": null,
   "metadata": {},
   "outputs": [],
   "source": []
  }
 ],
 "metadata": {
  "kernelspec": {
   "display_name": "Python (EML4U)",
   "language": "python",
   "name": "eml4u"
  },
  "language_info": {
   "codemirror_mode": {
    "name": "ipython",
    "version": 3
   },
   "file_extension": ".py",
   "mimetype": "text/x-python",
   "name": "python",
   "nbconvert_exporter": "python",
   "pygments_lexer": "ipython3",
   "version": "3.8.5"
  }
 },
 "nbformat": 4,
 "nbformat_minor": 4
}
