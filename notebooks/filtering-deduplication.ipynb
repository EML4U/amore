{
 "cells": [
  {
   "cell_type": "markdown",
   "metadata": {},
   "source": [
    "# Filtering: Deduplication\n",
    "\n",
    "Reads `opinion-filtered.pickle.bz2` and writes `deduplicated.pickle.bz2` and `non-deduplicated.pickle.bz2`.\n",
    "\n",
    "Data format: `{year {star [(number, year, star)] } }`"
   ]
  },
  {
   "cell_type": "code",
   "execution_count": 1,
   "metadata": {},
   "outputs": [],
   "source": [
    "# Reload modules every time before executing the Python code typed\n",
    "%load_ext autoreload\n",
    "%autoreload 2\n",
    "\n",
    "# Import from project root\n",
    "import sys; sys.path.insert(0, '../')\n",
    "\n",
    "from collections import OrderedDict\n",
    "\n",
    "from access.file_storage import FileStorage\n",
    "from access.interim_storage import InterimStorage\n",
    "from amore.printer import Printer\n",
    "from readers.numbers_years_stars import NumbersYearsStars\n",
    "from readers.text_duplicates import TextDuplicates\n",
    "\n",
    "KEY_NUMBER = 0\n",
    "KEY_YEAR   = 1\n",
    "KEY_STAR   = 2"
   ]
  },
  {
   "cell_type": "code",
   "execution_count": 2,
   "metadata": {},
   "outputs": [],
   "source": [
    "file_storage = FileStorage()\n",
    "printer = Printer()"
   ]
  },
  {
   "cell_type": "code",
   "execution_count": 3,
   "metadata": {},
   "outputs": [],
   "source": [
    "def count_ysl(ysl):\n",
    "    c = 0\n",
    "    for year in ysl.keys():\n",
    "        for star in ysl[year].keys():\n",
    "            c += len(ysl[year][star])\n",
    "    return c"
   ]
  },
  {
   "cell_type": "code",
   "execution_count": 4,
   "metadata": {},
   "outputs": [],
   "source": [
    "def add_tuple(dict_, tup):\n",
    "    if tup[KEY_YEAR] not in dict_.keys():\n",
    "        dict_[tup[KEY_YEAR]] = {}\n",
    "    if tup[KEY_STAR] not in dict_[tup[KEY_YEAR]].keys():\n",
    "        dict_[ tup[KEY_YEAR] ][ tup[KEY_STAR] ] = []\n",
    "    dict_[tup[KEY_YEAR]][tup[KEY_STAR]].append(tup)"
   ]
  },
  {
   "cell_type": "markdown",
   "metadata": {},
   "source": [
    "## Read data"
   ]
  },
  {
   "cell_type": "code",
   "execution_count": 5,
   "metadata": {},
   "outputs": [
    {
     "name": "stdout",
     "output_type": "stream",
     "text": [
      "Reviews in ys_opinion_lists: 5483175\n"
     ]
    }
   ],
   "source": [
    "# Read cache\n",
    "ys_opinion_lists = InterimStorage('opinion-filtered').read()\n",
    "print('Reviews in ys_opinion_lists:', count_ysl(ys_opinion_lists))\n",
    "# Reviews in ys_opinion_lists: 5,483,175"
   ]
  },
  {
   "cell_type": "code",
   "execution_count": 6,
   "metadata": {},
   "outputs": [
    {
     "name": "stdout",
     "output_type": "stream",
     "text": [
      "Reviews in ys_opinion_lists: 5483175\n"
     ]
    }
   ],
   "source": [
    "# Print table\n",
    "if False:\n",
    "    printer.ipython_display(printer.get_dataframe_with_sums(ys_opinion_lists))\n",
    "if False:\n",
    "    print(printer.get_dataframe_markdown(printer.get_dataframe_with_sums(ys_opinion_lists), float_as_integer=True))\n",
    "print('Reviews in ys_opinion_lists:', count_ysl(ys_opinion_lists))\n",
    "# Reviews in ys_opinion_lists: 5,483,175"
   ]
  },
  {
   "cell_type": "markdown",
   "metadata": {},
   "source": [
    "Opinion\n",
    "\n",
    "|     |   1997 |   1998 |   1999 |   2000 |   2001 |   2002 |   2003 |   2004 |   2005 |   2006 |   2007 |   2008 |   2009 |   2010 |   2011 |   2012 |     Sum |\n",
    "|:----|-------:|-------:|-------:|-------:|-------:|-------:|-------:|-------:|-------:|-------:|-------:|-------:|-------:|-------:|-------:|-------:|--------:|\n",
    "| 1   |      6 |    104 |   3110 |  12698 |  14751 |  15934 |  16611 |  26835 |  35093 |  29878 |  30496 |  33972 |  35420 |  39177 |  43552 |  48432 |  386069 |\n",
    "| 2   |    nan |    122 |   1589 |   7820 |   8866 |  10127 |  10742 |  15439 |  19141 |  17152 |  17724 |  17271 |  16641 |  18523 |  20105 |  21036 |  202298 |\n",
    "| 3   |    nan |    107 |   1535 |   6152 |   6376 |   6280 |   6917 |  10403 |  12668 |  11947 |  16364 |  16218 |  17691 |  17052 |  18243 |  19266 |  167219 |\n",
    "| 4   |     13 |    599 |  10429 |  52130 |  56607 |  58688 |  62256 |  80602 |  93419 |  93912 | 121336 | 117024 | 110548 | 102739 | 109983 | 112609 | 1182894 |\n",
    "| 5   |     52 |   2694 |  39621 | 150126 | 148077 | 153886 | 157562 | 194587 | 234448 | 242242 | 370047 | 341264 | 352366 | 353522 | 393641 | 410560 | 3544695 |\n",
    "| Sum |     71 |   3626 |  56284 | 228926 | 234677 | 244915 | 254088 | 327866 | 394769 | 395131 | 555967 | 525749 | 532666 | 531013 | 585524 | 611903 | 5483175 |"
   ]
  },
  {
   "cell_type": "markdown",
   "metadata": {},
   "source": [
    "## Collect non-duplicates"
   ]
  },
  {
   "cell_type": "code",
   "execution_count": 7,
   "metadata": {},
   "outputs": [
    {
     "name": "stdout",
     "output_type": "stream",
     "text": [
      "Duplicates of texts: 1239822 <class 'list'>\n"
     ]
    }
   ],
   "source": [
    "# Get lists of duplicate texts\n",
    "dup = TextDuplicates(file_storage.get_filepath('AMORE-TextDuplicates'))\n",
    "# print(dup.get_data()[0]) # [1, 5615911]\n",
    "print('Duplicates of texts:', len(dup.get_data()), type(dup.get_data()))\n",
    "# Duplicates of texts: 1,239,822"
   ]
  },
  {
   "cell_type": "code",
   "execution_count": 8,
   "metadata": {},
   "outputs": [
    {
     "name": "stdout",
     "output_type": "stream",
     "text": [
      "Affected reviews: 7241411\n"
     ]
    }
   ],
   "source": [
    "# Collect IDs (numbers) of duplicates (= affected reviews)\n",
    "dup_ids = set()\n",
    "for text_dups in dup.get_data():\n",
    "    for rev_no in text_dups:\n",
    "        dup_ids.add(rev_no)\n",
    "print('Affected reviews:', len(dup_ids))\n",
    "# Affected reviews: 7,241,411"
   ]
  },
  {
   "cell_type": "code",
   "execution_count": 9,
   "metadata": {},
   "outputs": [
    {
     "name": "stdout",
     "output_type": "stream",
     "text": [
      "Added: 489009\n"
     ]
    }
   ],
   "source": [
    "# Collect non-duplicates\n",
    "added = 0\n",
    "ys_no_dups = {}\n",
    "for year in ys_opinion_lists.keys():\n",
    "    for star in ys_opinion_lists[year].keys():\n",
    "        for tup in ys_opinion_lists[year][star]:\n",
    "            if(tup[KEY_NUMBER] not in dup_ids):\n",
    "                add_tuple(ys_no_dups, tup)\n",
    "                added += 1\n",
    "print('Added:', added)\n",
    "# Added: 489,009"
   ]
  },
  {
   "cell_type": "code",
   "execution_count": 10,
   "metadata": {},
   "outputs": [
    {
     "name": "stdout",
     "output_type": "stream",
     "text": [
      "Reviews in ys_no_dups: 489009\n"
     ]
    }
   ],
   "source": [
    "# Print non-duplicates\n",
    "# Print table\n",
    "if False:\n",
    "    printer.ipython_display(printer.get_dataframe_with_sums(ys_no_dups))\n",
    "if False:\n",
    "    print(printer.get_dataframe_markdown(printer.get_dataframe_with_sums(ys_no_dups), float_as_integer=True))\n",
    "print('Reviews in ys_no_dups:', count_ysl(ys_no_dups))\n",
    "# Reviews in ys_no_dups: 489,009"
   ]
  },
  {
   "cell_type": "markdown",
   "metadata": {},
   "source": [
    "Non-duplicates\n",
    "\n",
    "|     |   1997 |   1998 |   1999 |   2000 |   2001 |   2002 |   2003 |   2004 |   2005 |   2006 |   2007 |   2008 |   2009 |   2010 |   2011 |   2012 |    Sum |\n",
    "|:----|-------:|-------:|-------:|-------:|-------:|-------:|-------:|-------:|-------:|-------:|-------:|-------:|-------:|-------:|-------:|-------:|-------:|\n",
    "| 1   |      1 |      2 |     62 |    239 |    215 |    289 |    315 |    886 |   2171 |   2299 |   2898 |   3161 |   3726 |   3777 |   4154 |   4115 |  28310 |\n",
    "| 2   |    nan |      1 |     24 |    115 |    125 |    146 |    181 |    387 |    834 |    999 |   1349 |   1506 |   1590 |   1625 |   1853 |   1736 |  12471 |\n",
    "| 3   |    nan |     10 |     45 |    172 |    174 |    165 |    163 |    373 |    829 |   1024 |   1697 |   1759 |   2033 |   2108 |   2208 |   2021 |  14781 |\n",
    "| 4   |    nan |     25 |    332 |   1235 |   1405 |   1330 |   1597 |   2965 |   5664 |   7134 |  11295 |  11591 |  11995 |  11735 |  12252 |  11059 |  91614 |\n",
    "| 5   |      2 |    105 |   1038 |   3344 |   3463 |   3915 |   5179 |  10753 |  20128 |  25311 |  40497 |  41642 |  45820 |  44146 |  48542 |  47948 | 341833 |\n",
    "| Sum |      3 |    143 |   1501 |   5105 |   5382 |   5845 |   7435 |  15364 |  29626 |  36767 |  57736 |  59659 |  65164 |  63391 |  69009 |  66879 | 489009 |"
   ]
  },
  {
   "cell_type": "markdown",
   "metadata": {},
   "source": [
    "## Duplicates with same year and star: Re-add one review"
   ]
  },
  {
   "cell_type": "code",
   "execution_count": 11,
   "metadata": {},
   "outputs": [
    {
     "name": "stdout",
     "output_type": "stream",
     "text": [
      "Added: 1238812\n",
      "Affected reviews: 7230115\n",
      "Non-equal: 1010\n"
     ]
    }
   ],
   "source": [
    "# If duplicate tuples have same year and star, add first one to collected non-duplicates (ys_no_dups).\n",
    "# Collect rest in non_equal\n",
    "nys = NumbersYearsStars(file_storage.get_filepath('AMORE-NumbersYearsStars'))\n",
    "non_equal = []\n",
    "added = 0\n",
    "affected_reviews = 0\n",
    "for text_dups in dup.get_data():\n",
    "    equal = True\n",
    "    first_tup = None\n",
    "    for rev_no in text_dups:\n",
    "        tup = nys.get_by_number(rev_no)\n",
    "        if first_tup is None:\n",
    "            first_tup = tup\n",
    "        else:\n",
    "            if(tup[KEY_YEAR] == first_tup[KEY_YEAR] and\n",
    "               tup[KEY_STAR] == first_tup[KEY_STAR]):\n",
    "                continue\n",
    "            else:\n",
    "                equal = False\n",
    "    if equal is False:\n",
    "        non_equal.append(text_dups)\n",
    "    else:\n",
    "        add_tuple(ys_no_dups, first_tup)\n",
    "        added += 1\n",
    "        affected_reviews += len(text_dups)\n",
    "print('Added:', added)\n",
    "print('Affected reviews:', affected_reviews)\n",
    "print('Non-equal:', len(non_equal))\n",
    "# Added:            1,238,812\n",
    "# Affected reviews: 7,230,115\n",
    "# Non-equal:            1,010"
   ]
  },
  {
   "cell_type": "code",
   "execution_count": 12,
   "metadata": {},
   "outputs": [
    {
     "name": "stdout",
     "output_type": "stream",
     "text": [
      "Reviews in ys_no_dups: 1727821\n"
     ]
    }
   ],
   "source": [
    "# Print non-duplicates\n",
    "# Print table\n",
    "if False:\n",
    "    printer.ipython_display(printer.get_dataframe_with_sums(ys_no_dups))\n",
    "if False:\n",
    "    print(printer.get_dataframe_markdown(printer.get_dataframe_with_sums(ys_no_dups), float_as_integer=True))\n",
    "print('Reviews in ys_no_dups:', count_ysl(ys_no_dups))\n",
    "# Reviews in ys_no_dups: 1,727,821"
   ]
  },
  {
   "cell_type": "markdown",
   "metadata": {},
   "source": [
    "Non-duplicates and deduplicated same year-star reviews\n",
    "\n",
    "|     |   1997 |   1998 |   1999 |   2000 |   2001 |   2002 |   2003 |   2004 |   2005 |   2006 |   2007 |   2008 |   2009 |   2010 |   2011 |   2012 |     Sum |\n",
    "|:----|-------:|-------:|-------:|-------:|-------:|-------:|-------:|-------:|-------:|-------:|-------:|-------:|-------:|-------:|-------:|-------:|--------:|\n",
    "| 1   |      2 |     26 |    597 |   2512 |   3015 |   3597 |   3689 |   6643 |  10413 |   9943 |  11125 |  12661 |  14150 |  15822 |  19132 |  21570 |  134897 |\n",
    "| 2   |    nan |     30 |    437 |   2162 |   2541 |   3048 |   3364 |   4880 |   7053 |   7050 |   8067 |   8417 |   8846 |   9536 |  11363 |  12041 |   88835 |\n",
    "| 3   |      1 |     65 |    880 |   3932 |   4562 |   5064 |   5860 |   8592 |  11420 |  11322 |  13932 |  13944 |  14835 |  14925 |  16796 |  17593 |  143723 |\n",
    "| 4   |      4 |    146 |   2166 |   9832 |  11216 |  12257 |  13466 |  19364 |  25958 |  27917 |  37664 |  36838 |  37089 |  36408 |  40392 |  40528 |  351245 |\n",
    "| 5   |     14 |    561 |   7266 |  25204 |  26294 |  29576 |  32416 |  46222 |  64445 |  71619 | 108952 | 104455 | 112998 | 113957 | 130571 | 134571 | 1009121 |\n",
    "| Sum |     21 |    828 |  11346 |  43642 |  47628 |  53542 |  58795 |  85701 | 119289 | 127851 | 179740 | 176315 | 187918 | 190648 | 218254 | 226303 | 1727821 |"
   ]
  },
  {
   "cell_type": "code",
   "execution_count": 13,
   "metadata": {},
   "outputs": [
    {
     "name": "stdout",
     "output_type": "stream",
     "text": [
      "/tmp/InterimStorage/deduplicated.pickle.bz2\n",
      "Reviews in ys_no_dups: 1727821\n"
     ]
    }
   ],
   "source": [
    "# Write cache\n",
    "print(InterimStorage('deduplicated').write(ys_no_dups).get_filepath())\n",
    "print('Reviews in ys_no_dups:', count_ysl(ys_no_dups))\n",
    "# Reviews in ys_no_dups: 1,727,821"
   ]
  },
  {
   "cell_type": "markdown",
   "metadata": {},
   "source": [
    "## Overview of non-deduplicated reviews"
   ]
  },
  {
   "cell_type": "code",
   "execution_count": 14,
   "metadata": {},
   "outputs": [
    {
     "name": "stdout",
     "output_type": "stream",
     "text": [
      "Reviews with different year-star: 11296\n",
      "Inside list: 1010\n"
     ]
    }
   ],
   "source": [
    "# Non-equal: Print overview\n",
    "different_year_star = 0\n",
    "print_eol = False\n",
    "for ne_list in non_equal:\n",
    "    different_year_star += len(ne_list)\n",
    "    if False: # Print list of review-numbers\n",
    "        print(ne_list)\n",
    "    star_print = []\n",
    "    for rev_no in ne_list:\n",
    "        tup = nys.get_by_number(rev_no)\n",
    "        if False: # Print stars\n",
    "            star_print.append(tup[KEY_STAR])\n",
    "        if False: # Print years\n",
    "            print(tup[KEY_YEAR], end=' ')\n",
    "            print_eol = True\n",
    "    if(print_eol):\n",
    "        print()\n",
    "    if(len(star_print) != 0):\n",
    "        print(star_print)\n",
    "print('Reviews with different year-star:', different_year_star)\n",
    "print('Inside list:', len(non_equal))\n",
    "# Reviews with different year-star: 11,296\n",
    "# Inside list: 1,010"
   ]
  },
  {
   "cell_type": "code",
   "execution_count": 15,
   "metadata": {},
   "outputs": [
    {
     "name": "stdout",
     "output_type": "stream",
     "text": [
      "Example:\n",
      "0 - Affected reviews of duplicate: 10 - First review number: 410 [410, 412, 2664455, 2664457, 4377432, 4377434, 5372483, 5372485, 6458827, 6458829]\n",
      "\n",
      "Affected reviews of duplicate, number of duplicates, example enumeration index:\n",
      "2 176 7 | 3 95 16 | 4 127 4 | 5 59 91 | 6 88 1 | 7 31 57 | 8 56 22 | 9 29 40 | 10 37 0 | 11 14 28 | 12 37 19 | 13 12 47 | 14 25 8 | 15 7 87 | 16 16 23 | 17 3 215 | 18 24 11 | 19 6 45 | 20 17 3 | 21 9 39 | 22 16 2 | 23 1 117 | 24 12 74 | 25 6 76 | 26 6 41 | 27 3 234 | 28 12 10 | 29 2 31 | 30 12 42 | 31 1 193 | 32 4 175 | 33 4 15 | 34 6 84 | 35 3 9 | 36 5 168 | 38 5 99 | 39 1 876 | 41 2 111 | 42 8 17 | 43 1 32 | 44 5 27 | 45 1 36 | 46 3 56 | 47 1 409 | 50 2 210 | 51 1 179 | 54 3 14 | 55 1 126 | 56 1 355 | 59 1 153 | 60 1 252 | 62 2 30 | 65 1 135 | 66 1 343 | 69 1 73 | 70 1 51 | 72 1 410 | 80 1 88 | 94 1 26 | 155 1 29 | 163 1 147 | 216 1 112 | \n",
      "\n",
      "Examples:\n",
      "4 - Affected reviews of duplicate: 4 - First review number: 4901\n",
      "7 - Affected reviews of duplicate: 2 - First review number: 7035\n",
      "16 - Affected reviews of duplicate: 3 - First review number: 20359\n",
      "29 - Affected reviews of duplicate: 155 - First review number: 34896\n",
      "112 - Affected reviews of duplicate: 216 - First review number: 121943\n",
      "147 - Affected reviews of duplicate: 163 - First review number: 179065\n"
     ]
    }
   ],
   "source": [
    "non_equal_dup_to_rev = {}\n",
    "for i, ne_list in enumerate(non_equal):\n",
    "    if i == 0:\n",
    "        print('Example:')\n",
    "        print(i, '- Affected reviews of duplicate:', len(ne_list), '- First review number:', ne_list[0], ne_list)\n",
    "        print()\n",
    "    c = len(ne_list)\n",
    "    if c not in non_equal_dup_to_rev.keys():\n",
    "        non_equal_dup_to_rev[c] = []\n",
    "    non_equal_dup_to_rev[c].append(i)\n",
    "non_equal_dup_to_rev = OrderedDict(sorted(non_equal_dup_to_rev.items()))\n",
    "\n",
    "print('Affected reviews of duplicate, number of duplicates, example enumeration index:')\n",
    "for c in non_equal_dup_to_rev.keys():\n",
    "    print(c, len(non_equal_dup_to_rev[c]), non_equal_dup_to_rev[c][0], end=' | ')\n",
    "print()\n",
    "\n",
    "print()\n",
    "print('Examples:')\n",
    "for i, ne_list in enumerate(non_equal):\n",
    "    if i == 7:\n",
    "        print(i, '- Affected reviews of duplicate:', len(ne_list), '- First review number:', ne_list[0])\n",
    "    if i == 16:\n",
    "        print(i, '- Affected reviews of duplicate:', len(ne_list), '- First review number:', ne_list[0])\n",
    "    if i == 4:\n",
    "        print(i, '- Affected reviews of duplicate:', len(ne_list), '- First review number:', ne_list[0])\n",
    "    if i == 29:\n",
    "        print(i, '- Affected reviews of duplicate:', len(ne_list), '- First review number:', ne_list[0])\n",
    "    if i == 147:\n",
    "        print(i, '- Affected reviews of duplicate:', len(ne_list), '- First review number:', ne_list[0])\n",
    "    if i == 112:\n",
    "        print(i, '- Affected reviews of duplicate:', len(ne_list), '- First review number:', ne_list[0])"
   ]
  },
  {
   "cell_type": "markdown",
   "metadata": {},
   "source": [
    "```\n",
    "Example:\n",
    "0 - Affected reviews of duplicate: 10 - First review number: 410 [410, 412, 2664455, 2664457, 4377432, 4377434, 5372483, 5372485, 6458827, 6458829]\n",
    "\n",
    "Affected reviews of duplicate, number of duplicates, example enumeration index:\n",
    "2 176 7 | 3 95 16 | 4 127 4 | 5 59 91 | 6 88 1 | 7 31 57 | 8 56 22 | 9 29 40 | 10 37 0 | 11 14 28 | 12 37 19 | 13 12 47 | 14 25 8 | 15 7 87 | 16 16 23 | 17 3 215 | 18 24 11 | 19 6 45 | 20 17 3 | 21 9 39 | 22 16 2 | 23 1 117 | 24 12 74 | 25 6 76 | 26 6 41 | 27 3 234 | 28 12 10 | 29 2 31 | 30 12 42 | 31 1 193 | 32 4 175 | 33 4 15 | 34 6 84 | 35 3 9 | 36 5 168 | 38 5 99 | 39 1 876 | 41 2 111 | 42 8 17 | 43 1 32 | 44 5 27 | 45 1 36 | 46 3 56 | 47 1 409 | 50 2 210 | 51 1 179 | 54 3 14 | 55 1 126 | 56 1 355 | 59 1 153 | 60 1 252 | 62 2 30 | 65 1 135 | 66 1 343 | 69 1 73 | 70 1 51 | 72 1 410 | 80 1 88 | 94 1 26 | 155 1 29 | 163 1 147 | 216 1 112 | \n",
    "\n",
    "Examples:\n",
    "4 - Affected reviews of duplicate: 4 - First review number: 4901\n",
    "7 - Affected reviews of duplicate: 2 - First review number: 7035\n",
    "16 - Affected reviews of duplicate: 3 - First review number: 20359\n",
    "29 - Affected reviews of duplicate: 155 - First review number: 34896\n",
    "112 - Affected reviews of duplicate: 216 - First review number: 121943\n",
    "147 - Affected reviews of duplicate: 163 - First review number: 179065\n",
    "```"
   ]
  },
  {
   "cell_type": "code",
   "execution_count": 16,
   "metadata": {},
   "outputs": [
    {
     "name": "stdout",
     "output_type": "stream",
     "text": [
      "/tmp/InterimStorage/non-deduplicated.pickle.bz2\n",
      "Duplicate texts in non_equal: 1010\n"
     ]
    }
   ],
   "source": [
    "# Write cache\n",
    "print(InterimStorage('non-deduplicated').write(non_equal).get_filepath())\n",
    "print('Duplicate texts in non_equal:', len(non_equal))\n",
    "# Duplicate texts in non_equal: 1,010"
   ]
  },
  {
   "cell_type": "code",
   "execution_count": null,
   "metadata": {},
   "outputs": [],
   "source": []
  }
 ],
 "metadata": {
  "kernelspec": {
   "display_name": "Python (EML4U)",
   "language": "python",
   "name": "eml4u"
  },
  "language_info": {
   "codemirror_mode": {
    "name": "ipython",
    "version": 3
   },
   "file_extension": ".py",
   "mimetype": "text/x-python",
   "name": "python",
   "nbconvert_exporter": "python",
   "pygments_lexer": "ipython3",
   "version": "3.8.5"
  }
 },
 "nbformat": 4,
 "nbformat_minor": 4
}
