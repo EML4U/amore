{
 "cells": [
  {
   "cell_type": "markdown",
   "metadata": {},
   "source": [
    "# AMORE"
   ]
  },
  {
   "cell_type": "code",
   "execution_count": 18,
   "metadata": {},
   "outputs": [
    {
     "name": "stdout",
     "output_type": "stream",
     "text": [
      "The autoreload extension is already loaded. To reload it, use:\n",
      "  %reload_ext autoreload\n"
     ]
    }
   ],
   "source": [
    "# Reload modules every time before executing the Python code typed\n",
    "%load_ext autoreload\n",
    "%autoreload 2\n",
    "\n",
    "# Import from project root\n",
    "import sys; sys.path.insert(0, '../')\n",
    "\n",
    "from amore.amore import Amore\n",
    "import pprint"
   ]
  },
  {
   "cell_type": "code",
   "execution_count": 31,
   "metadata": {},
   "outputs": [],
   "source": [
    "# Configuration\n",
    "amore = Amore(max_lines=1000, min_year=1999, max_year=1999)"
   ]
  },
  {
   "cell_type": "code",
   "execution_count": 32,
   "metadata": {},
   "outputs": [
    {
     "data": {
      "text/plain": [
       "<amore.amore.Amore at 0x7f751f755dc0>"
      ]
     },
     "execution_count": 32,
     "metadata": {},
     "output_type": "execute_result"
    }
   ],
   "source": [
    "amore.check_files()"
   ]
  },
  {
   "cell_type": "code",
   "execution_count": 33,
   "metadata": {},
   "outputs": [
    {
     "name": "stdout",
     "output_type": "stream",
     "text": [
      "Reading data\n",
      "max_docs: 1000\n",
      "min_year: 1999\n",
      "max_year: 1999\n",
      "1999 1  1999 1  1999 1  1999 1  1999 1  1999 1  1999 1  1999 1  1999 1  1999 1  1999 1  1999 1  1999 1  1999 1  1999 1  1999 1  1999 1  1999 1  1999 1  1999 1  1999 1  1999 1  1999 1  1999 1  1999 1  1999 1  1999 1  1999 1  1999 1  1999 1  1999 1  1999 1  1999 1  1999 1  1999 1  1999 1  1999 1  1999 1  1999 1  1999 1  1999 1  "
     ]
    },
    {
     "data": {
      "text/plain": [
       "<amore.amore.Amore at 0x7f751f755dc0>"
      ]
     },
     "execution_count": 33,
     "metadata": {},
     "output_type": "execute_result"
    }
   ],
   "source": [
    "amore.select_data()"
   ]
  },
  {
   "cell_type": "code",
   "execution_count": 34,
   "metadata": {},
   "outputs": [
    {
     "data": {
      "text/plain": [
       "[Review(\"3427\",\"0\",2),\n",
       " Review(\"90919\",\"0\",1),\n",
       " Review(\"90911\",\"1\",6),\n",
       " Review(\"32900\",\"1\",4),\n",
       " Review(\"37215\",\"1\",3),\n",
       " Review(\"33022\",\"2\",5),\n",
       " Review(\"54904\",\"2\",5),\n",
       " Review(\"104901\",\"4\",10),\n",
       " Review(\"3550\",\"1\",2),\n",
       " Review(\"15475\",\"5\",10),\n",
       " Review(\"22290\",\"1\",2),\n",
       " Review(\"38475\",\"1\",2),\n",
       " Review(\"75434\",\"1\",2),\n",
       " Review(\"89067\",\"1\",2),\n",
       " Review(\"106743\",\"3\",6),\n",
       " Review(\"66312\",\"3\",5),\n",
       " Review(\"21530\",\"4\",6),\n",
       " Review(\"42460\",\"6\",9),\n",
       " Review(\"40561\",\"6\",8),\n",
       " Review(\"50501\",\"3\",4),\n",
       " Review(\"34698\",\"2\",2),\n",
       " Review(\"84346\",\"3\",3),\n",
       " Review(\"86442\",\"2\",2),\n",
       " Review(\"91532\",\"19\",18),\n",
       " Review(\"70058\",\"8\",7),\n",
       " Review(\"31460\",\"13\",11),\n",
       " Review(\"91628\",\"6\",5),\n",
       " Review(\"35148\",\"5\",4),\n",
       " Review(\"44284\",\"4\",3),\n",
       " Review(\"54386\",\"4\",3),\n",
       " Review(\"10012\",\"6\",4),\n",
       " Review(\"9917\",\"5\",3),\n",
       " Review(\"35959\",\"6\",3),\n",
       " Review(\"49414\",\"4\",2),\n",
       " Review(\"75947\",\"6\",3),\n",
       " Review(\"90913\",\"4\",2),\n",
       " Review(\"94654\",\"12\",6),\n",
       " Review(\"105701\",\"8\",3),\n",
       " Review(\"76390\",\"3\",1),\n",
       " Review(\"2288\",\"10\",3),\n",
       " Review(\"98400\",\"4\",0)]"
      ]
     },
     "execution_count": 34,
     "metadata": {},
     "output_type": "execute_result"
    }
   ],
   "source": [
    "amore.get_negative_sorted(amore.min_year, 1)"
   ]
  },
  {
   "cell_type": "code",
   "execution_count": 35,
   "metadata": {},
   "outputs": [
    {
     "data": {
      "text/plain": [
       "[]"
      ]
     },
     "execution_count": 35,
     "metadata": {},
     "output_type": "execute_result"
    }
   ],
   "source": [
    "amore.get_negative_sorted(amore.min_year, 5)"
   ]
  },
  {
   "cell_type": "code",
   "execution_count": 36,
   "metadata": {},
   "outputs": [
    {
     "name": "stdout",
     "output_type": "stream",
     "text": [
      "{1999: {1: 41, 5: 0}}\n"
     ]
    }
   ],
   "source": [
    "pprint.pprint(amore.get_counter_overview())"
   ]
  },
  {
   "cell_type": "code",
   "execution_count": null,
   "metadata": {},
   "outputs": [],
   "source": []
  }
 ],
 "metadata": {
  "kernelspec": {
   "display_name": "Python (EML4U)",
   "language": "python",
   "name": "eml4u"
  },
  "language_info": {
   "codemirror_mode": {
    "name": "ipython",
    "version": 3
   },
   "file_extension": ".py",
   "mimetype": "text/x-python",
   "name": "python",
   "nbconvert_exporter": "python",
   "pygments_lexer": "ipython3",
   "version": "3.8.5"
  }
 },
 "nbformat": 4,
 "nbformat_minor": 4
}
