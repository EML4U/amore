{
 "cells": [
  {
   "cell_type": "markdown",
   "metadata": {},
   "source": [
    "# AMORE"
   ]
  },
  {
   "cell_type": "code",
   "execution_count": 1,
   "metadata": {},
   "outputs": [],
   "source": [
    "# Reload modules every time before executing the Python code typed\n",
    "%load_ext autoreload\n",
    "%autoreload 2\n",
    "\n",
    "# Import from project root\n",
    "import sys; sys.path.insert(0, '../')\n",
    "\n",
    "from amore.amore import Amore\n",
    "import pprint"
   ]
  },
  {
   "cell_type": "code",
   "execution_count": 2,
   "metadata": {},
   "outputs": [],
   "source": [
    "# Configuration\n",
    "amore = Amore(max_lines=2000, min_year=1999, max_year=1999)"
   ]
  },
  {
   "cell_type": "code",
   "execution_count": 3,
   "metadata": {},
   "outputs": [
    {
     "name": "stdout",
     "output_type": "stream",
     "text": [
      "[]\n"
     ]
    }
   ],
   "source": [
    "print(amore.get_missing_files(raise_error=False))"
   ]
  },
  {
   "cell_type": "code",
   "execution_count": 4,
   "metadata": {},
   "outputs": [
    {
     "name": "stdout",
     "output_type": "stream",
     "text": [
      "Reading data\n",
      "max_lines: 2000\n",
      "min_year: 1999\n",
      "max_year: 1999\n",
      "\n",
      "Writing: /tmp/InterimStorage/test1.pickle.bz2\n"
     ]
    },
    {
     "data": {
      "text/plain": [
       "<amore.amore.Amore at 0x7f5b6f24f7c0>"
      ]
     },
     "execution_count": 4,
     "metadata": {},
     "output_type": "execute_result"
    }
   ],
   "source": [
    "amore.select_data(write_file_id='test1')"
   ]
  },
  {
   "cell_type": "code",
   "execution_count": 5,
   "metadata": {},
   "outputs": [
    {
     "data": {
      "text/plain": [
       "[Review(\"155336\",\"5\",21),\n",
       " Review(\"212776\",\"5\",21),\n",
       " Review(\"137348\",\"6\",16),\n",
       " Review(\"137349\",\"15\",24),\n",
       " Review(\"104901\",\"4\",10),\n",
       " Review(\"15475\",\"5\",10),\n",
       " Review(\"90911\",\"1\",6),\n",
       " Review(\"132859\",\"3\",7),\n",
       " Review(\"147045\",\"1\",5),\n",
       " Review(\"180840\",\"2\",6),\n",
       " Review(\"32900\",\"1\",4),\n",
       " Review(\"33022\",\"2\",5),\n",
       " Review(\"42460\",\"6\",9),\n",
       " Review(\"54904\",\"2\",5),\n",
       " Review(\"106743\",\"3\",6),\n",
       " Review(\"144216\",\"3\",6),\n",
       " Review(\"176373\",\"3\",6),\n",
       " Review(\"188415\",\"6\",9),\n",
       " Review(\"192450\",\"6\",9),\n",
       " Review(\"3427\",\"0\",2),\n",
       " Review(\"21530\",\"4\",6),\n",
       " Review(\"37215\",\"1\",3),\n",
       " Review(\"40561\",\"6\",8),\n",
       " Review(\"66312\",\"3\",5),\n",
       " Review(\"137344\",\"5\",7),\n",
       " Review(\"148953\",\"4\",6),\n",
       " Review(\"153882\",\"3\",5),\n",
       " Review(\"154269\",\"3\",5),\n",
       " Review(\"176231\",\"7\",9),\n",
       " Review(\"219373\",\"3\",5),\n",
       " Review(\"3550\",\"1\",2),\n",
       " Review(\"22290\",\"1\",2),\n",
       " Review(\"38475\",\"1\",2),\n",
       " Review(\"50501\",\"3\",4),\n",
       " Review(\"75434\",\"1\",2),\n",
       " Review(\"89067\",\"1\",2),\n",
       " Review(\"90919\",\"0\",1),\n",
       " Review(\"157664\",\"2\",3),\n",
       " Review(\"193353\",\"4\",5),\n",
       " Review(\"195488\",\"10\",11),\n",
       " Review(\"203258\",\"4\",5),\n",
       " Review(\"34698\",\"2\",2),\n",
       " Review(\"84346\",\"3\",3),\n",
       " Review(\"86442\",\"2\",2),\n",
       " Review(\"170303\",\"4\",4),\n",
       " Review(\"173115\",\"2\",2),\n",
       " Review(\"183110\",\"3\",3),\n",
       " Review(\"184149\",\"3\",3),\n",
       " Review(\"35148\",\"5\",4),\n",
       " Review(\"44284\",\"4\",3),\n",
       " Review(\"54386\",\"4\",3),\n",
       " Review(\"70058\",\"8\",7),\n",
       " Review(\"91532\",\"19\",18),\n",
       " Review(\"91628\",\"6\",5),\n",
       " Review(\"184150\",\"3\",2),\n",
       " Review(\"9917\",\"5\",3),\n",
       " Review(\"10012\",\"6\",4),\n",
       " Review(\"31460\",\"13\",11),\n",
       " Review(\"49414\",\"4\",2),\n",
       " Review(\"76390\",\"3\",1),\n",
       " Review(\"90913\",\"4\",2),\n",
       " Review(\"130666\",\"3\",1),\n",
       " Review(\"161191\",\"3\",1),\n",
       " Review(\"217778\",\"2\",0),\n",
       " Review(\"35959\",\"6\",3),\n",
       " Review(\"75947\",\"6\",3),\n",
       " Review(\"122101\",\"5\",2),\n",
       " Review(\"184147\",\"7\",4),\n",
       " Review(\"184214\",\"12\",9),\n",
       " Review(\"98400\",\"4\",0),\n",
       " Review(\"137367\",\"6\",2),\n",
       " Review(\"184196\",\"6\",2),\n",
       " Review(\"105701\",\"8\",3),\n",
       " Review(\"94654\",\"12\",6),\n",
       " Review(\"169365\",\"26\",20),\n",
       " Review(\"176894\",\"26\",20),\n",
       " Review(\"197026\",\"10\",4),\n",
       " Review(\"2288\",\"10\",3),\n",
       " Review(\"196988\",\"9\",2),\n",
       " Review(\"169951\",\"16\",8)]"
      ]
     },
     "execution_count": 5,
     "metadata": {},
     "output_type": "execute_result"
    }
   ],
   "source": [
    "amore.get_negative_sorted(amore.min_year, 1)"
   ]
  },
  {
   "cell_type": "code",
   "execution_count": 6,
   "metadata": {},
   "outputs": [
    {
     "data": {
      "text/plain": [
       "[]"
      ]
     },
     "execution_count": 6,
     "metadata": {},
     "output_type": "execute_result"
    }
   ],
   "source": [
    "amore.get_negative_sorted(amore.min_year, 5)"
   ]
  },
  {
   "cell_type": "code",
   "execution_count": null,
   "metadata": {},
   "outputs": [],
   "source": []
  }
 ],
 "metadata": {
  "kernelspec": {
   "display_name": "Python (EML4U)",
   "language": "python",
   "name": "eml4u"
  },
  "language_info": {
   "codemirror_mode": {
    "name": "ipython",
    "version": 3
   },
   "file_extension": ".py",
   "mimetype": "text/x-python",
   "name": "python",
   "nbconvert_exporter": "python",
   "pygments_lexer": "ipython3",
   "version": "3.8.5"
  }
 },
 "nbformat": 4,
 "nbformat_minor": 4
}
