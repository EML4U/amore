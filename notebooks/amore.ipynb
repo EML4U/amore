{
 "cells": [
  {
   "cell_type": "markdown",
   "metadata": {},
   "source": [
    "# AMORE\n",
    "\n",
    "Execution of single AMORE creation methods."
   ]
  },
  {
   "cell_type": "code",
   "execution_count": 1,
   "metadata": {},
   "outputs": [],
   "source": [
    "# Reload modules every time before executing the Python code typed\n",
    "%load_ext autoreload\n",
    "%autoreload 2\n",
    "\n",
    "# Import from project root\n",
    "import sys; sys.path.insert(0, '../')\n",
    "\n",
    "from amore.amore import Amore\n",
    "from amore.split import Split\n",
    "import pprint"
   ]
  },
  {
   "cell_type": "code",
   "execution_count": 2,
   "metadata": {},
   "outputs": [],
   "source": [
    "# Configuration\n",
    "\n",
    "write_file_id='test1'\n",
    "write_file_id_counter='test1counter'\n",
    "amore = Amore(max_lines=100, min_year=1999, max_year=1999)\n",
    "# /tmp/InterimStorage/test1.pickle.bz2\n",
    "# Duration: 7.229268645867705\n",
    "\n",
    "#amore = Amore(max_lines=-1, min_year=2001, max_year=2001)\n",
    "# Duration: 250.6437518519815 # /tmp/InterimStorage/test1.pickle.bz2"
   ]
  },
  {
   "cell_type": "code",
   "execution_count": 3,
   "metadata": {},
   "outputs": [
    {
     "name": "stdout",
     "output_type": "stream",
     "text": [
      "[]\n"
     ]
    }
   ],
   "source": [
    "print(amore.get_missing_files(raise_error=False))"
   ]
  },
  {
   "cell_type": "code",
   "execution_count": 4,
   "metadata": {},
   "outputs": [
    {
     "name": "stdout",
     "output_type": "stream",
     "text": [
      "Reading data and extracting opinion words\n",
      "This reads the 3 GB files and takes around 6 minutes.\n",
      "max_lines: 100\n",
      "min_year: 1999\n",
      "max_year: 1999\n",
      "Size: 70\n",
      "Runtime: 0.7213365358766168\n"
     ]
    }
   ],
   "source": [
    "#amore.select_data(write_file_id=write_file_id)\n",
    "amore.select_data()"
   ]
  },
  {
   "cell_type": "code",
   "execution_count": 5,
   "metadata": {},
   "outputs": [
    {
     "name": "stdout",
     "output_type": "stream",
     "text": [
      "Sorting year-star sets\n",
      "1999 5 60\n",
      "1999 1 10\n",
      "Runtime: 0.0011518960818648338\n"
     ]
    }
   ],
   "source": [
    "#amore.sort(load_file_id=write_file_id, write_file_id=write_file_id_counter)\n",
    "amore.sort()"
   ]
  },
  {
   "cell_type": "code",
   "execution_count": 6,
   "metadata": {},
   "outputs": [
    {
     "name": "stdout",
     "output_type": "stream",
     "text": [
      "Splitting into benchmark datasets\n",
      "Read: /tmp/InterimStorage/test1counter.pickle.bz2\n",
      "Runtime: 0.0010919601190835238\n",
      "[Review(a1,positive,8), Review(a2,positive,7), Review(a2,negative,0), Review(b1,positive,8), Review(b2,positive,6), Review(b2,negative,0)]\n",
      "[2999, 1703, 3847, 6942, 13671] ...\n",
      "[9825, 12598, 14961, 2346, 3551] ...\n",
      "[] ...\n",
      "[6947, 7927, 8376, 15348, 2343] ...\n",
      "[8025, 8026, 9568, 9989, 13674] ...\n",
      "[] ...\n"
     ]
    }
   ],
   "source": [
    "splits = []\n",
    "splits.append(Split('a1', 'positive', 1999, 5, 8))\n",
    "splits.append(Split('a2', 'positive', 1999, 5, 7))\n",
    "splits.append(Split('a2', 'negative', 2000, 1, 1))\n",
    "splits.append(Split('b1', 'positive', 1999, 5, 8))\n",
    "splits.append(Split('b2', 'positive', 1999, 5, 6))\n",
    "splits.append(Split('b2', 'negative', 2000, 1, 2))\n",
    "result = amore.split(splits, load_file_id=write_file_id_counter)\n",
    "print(result)\n",
    "print(result[0].get_review_ids()[:5], '...')\n",
    "print(result[1].get_review_ids()[:5], '...')\n",
    "print(result[2].get_review_ids()[:5], '...')\n",
    "print(result[3].get_review_ids()[:5], '...')\n",
    "print(result[4].get_review_ids()[:5], '...')\n",
    "print(result[5].get_review_ids()[:5], '...')"
   ]
  },
  {
   "cell_type": "code",
   "execution_count": 7,
   "metadata": {},
   "outputs": [
    {
     "name": "stdout",
     "output_type": "stream",
     "text": [
      "Checking IDs\n",
      "Number of IDs: 29\n"
     ]
    },
    {
     "data": {
      "text/plain": [
       "True"
      ]
     },
     "execution_count": 7,
     "metadata": {},
     "output_type": "execute_result"
    }
   ],
   "source": [
    "amore.check_splits(result)"
   ]
  },
  {
   "cell_type": "code",
   "execution_count": null,
   "metadata": {},
   "outputs": [],
   "source": []
  }
 ],
 "metadata": {
  "kernelspec": {
   "display_name": "Python (EML4U)",
   "language": "python",
   "name": "eml4u"
  },
  "language_info": {
   "codemirror_mode": {
    "name": "ipython",
    "version": 3
   },
   "file_extension": ".py",
   "mimetype": "text/x-python",
   "name": "python",
   "nbconvert_exporter": "python",
   "pygments_lexer": "ipython3",
   "version": "3.8.5"
  }
 },
 "nbformat": 4,
 "nbformat_minor": 4
}
