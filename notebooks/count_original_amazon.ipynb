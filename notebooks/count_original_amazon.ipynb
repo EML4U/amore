{
 "cells": [
  {
   "cell_type": "markdown",
   "metadata": {},
   "source": [
    "# Count original Amazon movie reviews data\n",
    "\n",
    "Counts years and stars in original data and prints it."
   ]
  },
  {
   "cell_type": "code",
   "execution_count": 1,
   "metadata": {},
   "outputs": [],
   "source": [
    "# Reload modules every time before executing the Python code typed\n",
    "%load_ext autoreload\n",
    "%autoreload 2\n",
    "\n",
    "# Import from project root\n",
    "import sys; sys.path.insert(0, '../')\n",
    "\n",
    "from access.file_storage import FileStorage\n",
    "from amore.amazon_reviews_reader import AmazonReviewsReader\n",
    "\n",
    "import os\n",
    "from datetime import datetime"
   ]
  },
  {
   "cell_type": "code",
   "execution_count": 2,
   "metadata": {},
   "outputs": [],
   "source": [
    "file_storage = FileStorage()"
   ]
  },
  {
   "cell_type": "code",
   "execution_count": 3,
   "metadata": {},
   "outputs": [
    {
     "name": "stdout",
     "output_type": "stream",
     "text": [
      "    1997   1998   1999   2000   2001   2002   2003   2004   2005   2006   2007   2008   2009   2010   2011   2012 \n",
      "1      6    191   4844  19944  24221  25311  25734  41016  54744  49049  49521  56076  59099  65343  72957  81276 \n",
      "2      1    262   3631  17808  20320  22641  24183  33117  40868  37992  40205  40138  39680  41430  45767  47356 \n",
      "3      8    442   6458  30907  35395  37798  43323  60489  71012  66128  75239  74057  73178  70279  72055  74826 \n",
      "4     29    797  14178  73314  79152  84276  90527 119160 138000 135581 167632 161693 149771 142000 148457 150248 \n",
      "5     64   3313  49866 192002 189638 198712 205916 257603 308080 311252 452009 412870 422403 426248 465918 484650 \n"
     ]
    }
   ],
   "source": [
    "counter = {}\n",
    "for score in range(1,5+1):\n",
    "    counter[score] = {}\n",
    "    for year in range(1997,2012+1):\n",
    "        counter[score][year] = 0\n",
    "\n",
    "reader = AmazonReviewsReader(file_storage.get_filepath('amazon_gz_file'), AmazonReviewsReader.MODE_TYPED, max_docs=-1)\n",
    "for item in reader:\n",
    "    counter[item[reader.KEY_SCORE]][item[reader.KEY_TIME].year] += 1\n",
    "\n",
    "print(' ', end=' ')\n",
    "for year in counter[1].keys():\n",
    "    print(str(year).rjust(6), end=' ')\n",
    "print()\n",
    "for score in counter.items():\n",
    "    print(score[0], end=' ')\n",
    "    for year in score[1].items():\n",
    "        print(str(year[1]).rjust(6), end=' ')\n",
    "    print()"
   ]
  },
  {
   "cell_type": "code",
   "execution_count": 4,
   "metadata": {},
   "outputs": [],
   "source": [
    "#    1997   1998   1999   2000   2001   2002   2003   2004   2005   2006   2007   2008   2009   2010   2011   2012 \n",
    "# 1      6    191   4844  19944  24221  25311  25734  41016  54744  49049  49521  56076  59099  65343  72957  81276 \n",
    "# 2      1    262   3631  17808  20320  22641  24183  33117  40868  37992  40205  40138  39680  41430  45767  47356 \n",
    "# 3      8    442   6458  30907  35395  37798  43323  60489  71012  66128  75239  74057  73178  70279  72055  74826 \n",
    "# 4     29    797  14178  73314  79152  84276  90527 119160 138000 135581 167632 161693 149771 142000 148457 150248 \n",
    "# 5     64   3313  49866 192002 189638 198712 205916 257603 308080 311252 452009 412870 422403 426248 465918 484650 "
   ]
  },
  {
   "cell_type": "code",
   "execution_count": null,
   "metadata": {},
   "outputs": [],
   "source": []
  }
 ],
 "metadata": {
  "kernelspec": {
   "display_name": "Python (EML4U)",
   "language": "python",
   "name": "eml4u"
  },
  "language_info": {
   "codemirror_mode": {
    "name": "ipython",
    "version": 3
   },
   "file_extension": ".py",
   "mimetype": "text/x-python",
   "name": "python",
   "nbconvert_exporter": "python",
   "pygments_lexer": "ipython3",
   "version": "3.8.5"
  }
 },
 "nbformat": 4,
 "nbformat_minor": 4
}
