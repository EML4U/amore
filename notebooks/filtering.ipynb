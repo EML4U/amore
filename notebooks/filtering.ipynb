{
 "cells": [
  {
   "cell_type": "markdown",
   "metadata": {},
   "source": [
    "# Filtering"
   ]
  },
  {
   "cell_type": "code",
   "execution_count": 2,
   "metadata": {},
   "outputs": [],
   "source": [
    "# Reload modules every time before executing the Python code typed\n",
    "%load_ext autoreload\n",
    "%autoreload 2\n",
    "\n",
    "# Import from project root\n",
    "import sys; sys.path.insert(0, '../')\n",
    "\n",
    "import timeit\n",
    "\n",
    "from access.file_storage import FileStorage\n",
    "from access.interim_storage import InterimStorage\n",
    "\n",
    "from amore.printer import Printer\n",
    "\n",
    "from readers.numbers_years_stars import NumbersYearsStars\n",
    "from readers.opinion_counts import OpinionCounts\n",
    "from readers.text_duplicates import TextDuplicates"
   ]
  },
  {
   "cell_type": "code",
   "execution_count": 3,
   "metadata": {},
   "outputs": [],
   "source": [
    "file_storage = FileStorage()\n",
    "printer = Printer()"
   ]
  },
  {
   "cell_type": "code",
   "execution_count": 5,
   "metadata": {},
   "outputs": [],
   "source": [
    "def add_tuple(dict_, tup):\n",
    "    if tup[NumbersYearsStars.KEY_YEAR] not in dict_.keys():\n",
    "        dict_[tup[NumbersYearsStars.KEY_YEAR]] = {}\n",
    "    if tup[NumbersYearsStars.KEY_STAR] not in dict_[tup[NumbersYearsStars.KEY_YEAR]].keys():\n",
    "        dict_[ tup[NumbersYearsStars.KEY_YEAR] ][ tup[NumbersYearsStars.KEY_STAR] ] = []\n",
    "    dict_[tup[NumbersYearsStars.KEY_YEAR]][tup[NumbersYearsStars.KEY_STAR]].append(tup)"
   ]
  },
  {
   "cell_type": "code",
   "execution_count": 12,
   "metadata": {},
   "outputs": [],
   "source": [
    "nys = NumbersYearsStars(file_storage.get_filepath('AMORE-NumbersYearsStars'))"
   ]
  },
  {
   "cell_type": "markdown",
   "metadata": {},
   "source": [
    "## Numbers overview"
   ]
  },
  {
   "cell_type": "code",
   "execution_count": null,
   "metadata": {},
   "outputs": [],
   "source": [
    "# Reads and also caches data from file\n",
    "ys_lists = nys.get_by_year_star()"
   ]
  },
  {
   "cell_type": "code",
   "execution_count": null,
   "metadata": {},
   "outputs": [],
   "source": [
    "# Print table\n",
    "if False:\n",
    "    printer.ipython_display(printer.get_dataframe_with_sums(ys_lists))\n",
    "if False:\n",
    "    print(printer.get_dataframe_markdown(printer.get_dataframe_with_sums(ys_lists), float_as_integer=True))"
   ]
  },
  {
   "cell_type": "markdown",
   "metadata": {},
   "source": [
    "|     |   1997 |   1998 |   1999 |   2000 |   2001 |   2002 |   2003 |   2004 |   2005 |   2006 |   2007 |   2008 |   2009 |   2010 |   2011 |   2012 |     Sum |\n",
    "|:----|-------:|-------:|-------:|-------:|-------:|-------:|-------:|-------:|-------:|-------:|-------:|-------:|-------:|-------:|-------:|-------:|--------:|\n",
    "| 1   |      6 |    191 |   4844 |  19944 |  24221 |  25311 |  25734 |  41016 |  54744 |  49049 |  49521 |  56076 |  59099 |  65343 |  72957 |  81276 |  629332 |\n",
    "| 2   |      1 |    262 |   3631 |  17808 |  20320 |  22641 |  24183 |  33117 |  40868 |  37992 |  40205 |  40138 |  39680 |  41430 |  45767 |  47356 |  455399 |\n",
    "| 3   |      8 |    442 |   6458 |  30907 |  35395 |  37798 |  43323 |  60489 |  71012 |  66128 |  75239 |  74057 |  73178 |  70279 |  72055 |  74826 |  791594 |\n",
    "| 4   |     29 |    797 |  14178 |  73314 |  79152 |  84276 |  90527 | 119160 | 138000 | 135581 | 167632 | 161693 | 149771 | 142000 | 148457 | 150248 | 1654815 |\n",
    "| 5   |     64 |   3313 |  49866 | 192002 | 189638 | 198712 | 205916 | 257603 | 308080 | 311252 | 452009 | 412870 | 422403 | 426248 | 465918 | 484650 | 4380544 |\n",
    "| Sum |    108 |   5005 |  78977 | 333975 | 348726 | 368738 | 389683 | 511385 | 612704 | 600002 | 784606 | 744834 | 744131 | 745300 | 805154 | 838356 | 7911684 |"
   ]
  },
  {
   "cell_type": "markdown",
   "metadata": {},
   "source": [
    "## Filter by opinion words"
   ]
  },
  {
   "cell_type": "code",
   "execution_count": 4,
   "metadata": {},
   "outputs": [],
   "source": [
    "def print_examples(ysl, posstar_max=10, negstar_max=10):\n",
    "    posstar_count=0\n",
    "    negstar_count=0\n",
    "    for year in ysl.keys():\n",
    "        for star in ysl[year].keys():\n",
    "            for tup in ysl[year][star]:\n",
    "                if(negstar_count<negstar_max and star in [1,2]):\n",
    "                    print(star, ' ',\n",
    "                          opinion_counts.get_existent(tup[NumbersYearsStars.KEY_NUMBER]),\n",
    "                          opinion_counts.get_occurences(tup[NumbersYearsStars.KEY_NUMBER]),\n",
    "                          ' ', tup[NumbersYearsStars.KEY_NUMBER])\n",
    "                    negstar_count += 1\n",
    "                elif(posstar_count<posstar_max and star in [4,5]):\n",
    "                    print(star, ' ',\n",
    "                          opinion_counts.get_existent(tup[NumbersYearsStars.KEY_NUMBER]),\n",
    "                          opinion_counts.get_occurences(tup[NumbersYearsStars.KEY_NUMBER]),\n",
    "                          ' ', tup[NumbersYearsStars.KEY_NUMBER])\n",
    "                    posstar_count += 1\n",
    "                if(posstar_count>=posstar_max and negstar_count>=negstar_max):\n",
    "                    break\n",
    "            if(posstar_count>=posstar_max and negstar_count>=negstar_max):\n",
    "                break\n",
    "        if(posstar_count>=posstar_max and negstar_count>=negstar_max):\n",
    "            break"
   ]
  },
  {
   "cell_type": "code",
   "execution_count": null,
   "metadata": {},
   "outputs": [],
   "source": [
    "opinion_counts = OpinionCounts(file_storage.get_filepath('AMORE-OpinionCounts'))"
   ]
  },
  {
   "cell_type": "code",
   "execution_count": null,
   "metadata": {},
   "outputs": [],
   "source": [
    "# Examples with 0/neg for 5-star and with 0/pos for 1-star\n",
    "print_examples(ys_lists, posstar_max=23, negstar_max=4)"
   ]
  },
  {
   "cell_type": "code",
   "execution_count": null,
   "metadata": {},
   "outputs": [],
   "source": [
    "time_begin = timeit.default_timer()\n",
    "\n",
    "ys_opinion_lists = {}\n",
    "for year in ys_lists.keys():\n",
    "    for star in ys_lists[year].keys():\n",
    "        for tup in ys_lists[year][star]:\n",
    "            if(tup[NumbersYearsStars.KEY_STAR] in [1,2]):\n",
    "                if(opinion_counts.get_existent(tup[NumbersYearsStars.KEY_NUMBER]) < 0 and\n",
    "                   opinion_counts.get_occurences(tup[NumbersYearsStars.KEY_NUMBER]) < 0):\n",
    "                    add_tuple(ys_opinion_lists, tup)\n",
    "            elif(tup[NumbersYearsStars.KEY_STAR] == 3):\n",
    "                continue\n",
    "            elif(tup[NumbersYearsStars.KEY_STAR] in [4,5]):\n",
    "                if(opinion_counts.get_existent(tup[NumbersYearsStars.KEY_NUMBER]) > 0 and\n",
    "                   opinion_counts.get_occurences(tup[NumbersYearsStars.KEY_NUMBER]) > 0):\n",
    "                    add_tuple(ys_opinion_lists, tup)\n",
    "print('Runtime:', timeit.default_timer() - time_begin)"
   ]
  },
  {
   "cell_type": "code",
   "execution_count": null,
   "metadata": {},
   "outputs": [],
   "source": [
    "print_examples(ys_opinion_lists, posstar_max=23, negstar_max=4)"
   ]
  },
  {
   "cell_type": "code",
   "execution_count": null,
   "metadata": {},
   "outputs": [],
   "source": [
    "# Print table\n",
    "if False:\n",
    "    printer.ipython_display(printer.get_dataframe_with_sums(ys_opinion_lists))\n",
    "if False:\n",
    "    print(printer.get_dataframe_markdown(printer.get_dataframe_with_sums(ys_opinion_lists), float_as_integer=True))"
   ]
  },
  {
   "cell_type": "markdown",
   "metadata": {},
   "source": [
    "|     |   1997 |   1998 |   1999 |   2000 |   2001 |   2002 |   2003 |   2004 |   2005 |   2006 |   2007 |   2008 |   2009 |   2010 |   2011 |   2012 |     Sum |\n",
    "|:----|-------:|-------:|-------:|-------:|-------:|-------:|-------:|-------:|-------:|-------:|-------:|-------:|-------:|-------:|-------:|-------:|--------:|\n",
    "| 1   |      6 |    104 |   3110 |  12698 |  14751 |  15934 |  16611 |  26835 |  35093 |  29878 |  30496 |  33972 |  35420 |  39177 |  43552 |  48432 |  386069 |\n",
    "| 2   |      0 |    122 |   1589 |   7820 |   8866 |  10127 |  10742 |  15439 |  19141 |  17152 |  17724 |  17271 |  16641 |  18523 |  20105 |  21036 |  202298 |\n",
    "| 4   |     13 |    599 |  10429 |  52130 |  56607 |  58688 |  62256 |  80602 |  93419 |  93912 | 121336 | 117024 | 110548 | 102739 | 109983 | 112609 | 1182894 |\n",
    "| 5   |     52 |   2694 |  39621 | 150126 | 148077 | 153886 | 157562 | 194587 | 234448 | 242242 | 370047 | 341264 | 352366 | 353522 | 393641 | 410560 | 3544695 |\n",
    "| Sum |     71 |   3519 |  54749 | 222774 | 228301 | 238635 | 247171 | 317463 | 382101 | 383184 | 539603 | 509531 | 514975 | 513961 | 567281 | 592637 | 5315956 |"
   ]
  },
  {
   "cell_type": "code",
   "execution_count": null,
   "metadata": {},
   "outputs": [],
   "source": [
    "# Write cache\n",
    "InterimStorage('filtered-opinion-words').write(ys_opinion_lists).get_filepath()"
   ]
  },
  {
   "cell_type": "markdown",
   "metadata": {},
   "source": [
    "## Filter by duplicates"
   ]
  },
  {
   "cell_type": "code",
   "execution_count": 52,
   "metadata": {},
   "outputs": [
    {
     "data": {
      "text/html": [
       "<div>\n",
       "<style scoped>\n",
       "    .dataframe tbody tr th:only-of-type {\n",
       "        vertical-align: middle;\n",
       "    }\n",
       "\n",
       "    .dataframe tbody tr th {\n",
       "        vertical-align: top;\n",
       "    }\n",
       "\n",
       "    .dataframe thead th {\n",
       "        text-align: right;\n",
       "    }\n",
       "</style>\n",
       "<table border=\"1\" class=\"dataframe\">\n",
       "  <thead>\n",
       "    <tr style=\"text-align: right;\">\n",
       "      <th></th>\n",
       "      <th>1997</th>\n",
       "      <th>1998</th>\n",
       "      <th>1999</th>\n",
       "      <th>2000</th>\n",
       "      <th>2001</th>\n",
       "      <th>2002</th>\n",
       "      <th>2003</th>\n",
       "      <th>2004</th>\n",
       "      <th>2005</th>\n",
       "      <th>2006</th>\n",
       "      <th>2007</th>\n",
       "      <th>2008</th>\n",
       "      <th>2009</th>\n",
       "      <th>2010</th>\n",
       "      <th>2011</th>\n",
       "      <th>2012</th>\n",
       "      <th>Sum</th>\n",
       "    </tr>\n",
       "  </thead>\n",
       "  <tbody>\n",
       "    <tr>\n",
       "      <th>1</th>\n",
       "      <td>6</td>\n",
       "      <td>104</td>\n",
       "      <td>3110</td>\n",
       "      <td>12698</td>\n",
       "      <td>14751</td>\n",
       "      <td>15934</td>\n",
       "      <td>16611</td>\n",
       "      <td>26835</td>\n",
       "      <td>35093</td>\n",
       "      <td>29878</td>\n",
       "      <td>30496</td>\n",
       "      <td>33972</td>\n",
       "      <td>35420</td>\n",
       "      <td>39177</td>\n",
       "      <td>43552</td>\n",
       "      <td>48432</td>\n",
       "      <td>386069.0</td>\n",
       "    </tr>\n",
       "    <tr>\n",
       "      <th>2</th>\n",
       "      <td>NaN</td>\n",
       "      <td>122</td>\n",
       "      <td>1589</td>\n",
       "      <td>7820</td>\n",
       "      <td>8866</td>\n",
       "      <td>10127</td>\n",
       "      <td>10742</td>\n",
       "      <td>15439</td>\n",
       "      <td>19141</td>\n",
       "      <td>17152</td>\n",
       "      <td>17724</td>\n",
       "      <td>17271</td>\n",
       "      <td>16641</td>\n",
       "      <td>18523</td>\n",
       "      <td>20105</td>\n",
       "      <td>21036</td>\n",
       "      <td>202298.0</td>\n",
       "    </tr>\n",
       "    <tr>\n",
       "      <th>4</th>\n",
       "      <td>13</td>\n",
       "      <td>599</td>\n",
       "      <td>10429</td>\n",
       "      <td>52130</td>\n",
       "      <td>56607</td>\n",
       "      <td>58688</td>\n",
       "      <td>62256</td>\n",
       "      <td>80602</td>\n",
       "      <td>93419</td>\n",
       "      <td>93912</td>\n",
       "      <td>121336</td>\n",
       "      <td>117024</td>\n",
       "      <td>110548</td>\n",
       "      <td>102739</td>\n",
       "      <td>109983</td>\n",
       "      <td>112609</td>\n",
       "      <td>1182894.0</td>\n",
       "    </tr>\n",
       "    <tr>\n",
       "      <th>5</th>\n",
       "      <td>52</td>\n",
       "      <td>2694</td>\n",
       "      <td>39621</td>\n",
       "      <td>150126</td>\n",
       "      <td>148077</td>\n",
       "      <td>153886</td>\n",
       "      <td>157562</td>\n",
       "      <td>194587</td>\n",
       "      <td>234448</td>\n",
       "      <td>242242</td>\n",
       "      <td>370047</td>\n",
       "      <td>341264</td>\n",
       "      <td>352366</td>\n",
       "      <td>353522</td>\n",
       "      <td>393641</td>\n",
       "      <td>410560</td>\n",
       "      <td>3544695.0</td>\n",
       "    </tr>\n",
       "    <tr>\n",
       "      <th>Sum</th>\n",
       "      <td>71</td>\n",
       "      <td>3519</td>\n",
       "      <td>54749</td>\n",
       "      <td>222774</td>\n",
       "      <td>228301</td>\n",
       "      <td>238635</td>\n",
       "      <td>247171</td>\n",
       "      <td>317463</td>\n",
       "      <td>382101</td>\n",
       "      <td>383184</td>\n",
       "      <td>539603</td>\n",
       "      <td>509531</td>\n",
       "      <td>514975</td>\n",
       "      <td>513961</td>\n",
       "      <td>567281</td>\n",
       "      <td>592637</td>\n",
       "      <td>5315956.0</td>\n",
       "    </tr>\n",
       "  </tbody>\n",
       "</table>\n",
       "</div>"
      ],
      "text/plain": [
       "    1997  1998   1999    2000    2001    2002    2003    2004    2005    2006  \\\n",
       "1      6   104   3110   12698   14751   15934   16611   26835   35093   29878   \n",
       "2    NaN   122   1589    7820    8866   10127   10742   15439   19141   17152   \n",
       "4     13   599  10429   52130   56607   58688   62256   80602   93419   93912   \n",
       "5     52  2694  39621  150126  148077  153886  157562  194587  234448  242242   \n",
       "Sum   71  3519  54749  222774  228301  238635  247171  317463  382101  383184   \n",
       "\n",
       "       2007    2008    2009    2010    2011    2012        Sum  \n",
       "1     30496   33972   35420   39177   43552   48432   386069.0  \n",
       "2     17724   17271   16641   18523   20105   21036   202298.0  \n",
       "4    121336  117024  110548  102739  109983  112609  1182894.0  \n",
       "5    370047  341264  352366  353522  393641  410560  3544695.0  \n",
       "Sum  539603  509531  514975  513961  567281  592637  5315956.0  "
      ]
     },
     "metadata": {},
     "output_type": "display_data"
    }
   ],
   "source": [
    "# Read cache\n",
    "ys_opinion_lists = InterimStorage('filtered-opinion-words').read()\n",
    "printer.ipython_display(printer.get_dataframe_with_sums(ys_opinion_lists))"
   ]
  },
  {
   "cell_type": "code",
   "execution_count": 53,
   "metadata": {},
   "outputs": [
    {
     "name": "stdout",
     "output_type": "stream",
     "text": [
      "Duplicate texts: 1239822 <class 'list'>\n",
      "[1, 5615911]\n"
     ]
    }
   ],
   "source": [
    "# Get lists of duplicate texts\n",
    "dup = TextDuplicates(file_storage.get_filepath('AMORE-TextDuplicates'))\n",
    "print('Duplicate texts:', len(dup.get_data()), type(dup.get_data()))\n",
    "print(dup.get_data()[0])\n",
    "# Duplicate texts: 1239822"
   ]
  },
  {
   "cell_type": "code",
   "execution_count": 54,
   "metadata": {},
   "outputs": [
    {
     "name": "stdout",
     "output_type": "stream",
     "text": [
      "Duplicates in reviews: 7241411\n"
     ]
    }
   ],
   "source": [
    "# Collect IDs (numbers) of duplicates\n",
    "dup_ids = set()\n",
    "for text_dups in dup.get_data():\n",
    "    for rev_no in text_dups:\n",
    "        dup_ids.add(rev_no)\n",
    "print('Duplicates in reviews:', len(dup_ids))\n",
    "# Duplicates in reviews: 7241411"
   ]
  },
  {
   "cell_type": "code",
   "execution_count": 55,
   "metadata": {},
   "outputs": [
    {
     "name": "stdout",
     "output_type": "stream",
     "text": [
      "Added: 474228\n"
     ]
    }
   ],
   "source": [
    "# Collect non-duplicates\n",
    "added = 0\n",
    "ys_no_dups = {}\n",
    "for year in ys_opinion_lists.keys():\n",
    "    for star in ys_opinion_lists[year].keys():\n",
    "        for tup in ys_opinion_lists[year][star]:\n",
    "            if(tup[NumbersYearsStars.KEY_NUMBER] not in dup_ids):\n",
    "                add_tuple(ys_no_dups, tup)\n",
    "                added += 1\n",
    "print('Added:', added)\n",
    "# Added: 474228"
   ]
  },
  {
   "cell_type": "code",
   "execution_count": 38,
   "metadata": {},
   "outputs": [],
   "source": [
    "# Print non-duplicates\n",
    "# Print table\n",
    "if False:\n",
    "    printer.ipython_display(printer.get_dataframe_with_sums(ys_no_dups))\n",
    "if False:\n",
    "    print(printer.get_dataframe_markdown(printer.get_dataframe_with_sums(ys_no_dups), float_as_integer=True))"
   ]
  },
  {
   "cell_type": "markdown",
   "metadata": {},
   "source": [
    "|     |   1997 |   1998 |   1999 |   2000 |   2001 |   2002 |   2003 |   2004 |   2005 |   2006 |   2007 |   2008 |   2009 |   2010 |   2011 |   2012 |    Sum |\n",
    "|:----|-------:|-------:|-------:|-------:|-------:|-------:|-------:|-------:|-------:|-------:|-------:|-------:|-------:|-------:|-------:|-------:|-------:|\n",
    "| 1   |      1 |      2 |     62 |    239 |    215 |    289 |    315 |    886 |   2171 |   2299 |   2898 |   3161 |   3726 |   3777 |   4154 |   4115 |  28310 |\n",
    "| 2   |    nan |      1 |     24 |    115 |    125 |    146 |    181 |    387 |    834 |    999 |   1349 |   1506 |   1590 |   1625 |   1853 |   1736 |  12471 |\n",
    "| 4   |    nan |     25 |    332 |   1235 |   1405 |   1330 |   1597 |   2965 |   5664 |   7134 |  11295 |  11591 |  11995 |  11735 |  12252 |  11059 |  91614 |\n",
    "| 5   |      2 |    105 |   1038 |   3344 |   3463 |   3915 |   5179 |  10753 |  20128 |  25311 |  40497 |  41642 |  45820 |  44146 |  48542 |  47948 | 341833 |\n",
    "| Sum |      3 |    133 |   1456 |   4933 |   5208 |   5680 |   7272 |  14991 |  28797 |  35743 |  56039 |  57900 |  63131 |  61283 |  66801 |  64858 | 474228 |"
   ]
  },
  {
   "cell_type": "code",
   "execution_count": 56,
   "metadata": {},
   "outputs": [
    {
     "name": "stdout",
     "output_type": "stream",
     "text": [
      "Added: 1109870\n",
      "Non-equal: 1010\n"
     ]
    }
   ],
   "source": [
    "# If duplicate tuples have same year and star, add first one to collected non-duplicates (ys_no_dups).\n",
    "# Collect rest in non_equal\n",
    "non_equal = []\n",
    "added = 0\n",
    "for text_dups in dup.get_data():\n",
    "    equal = True\n",
    "    first_tup = None\n",
    "    for rev_no in text_dups:\n",
    "        tup = nys.get_by_number(rev_no)\n",
    "        if first_tup is None:\n",
    "            first_tup = tup\n",
    "        else:\n",
    "            if(tup[NumbersYearsStars.KEY_YEAR] == first_tup[NumbersYearsStars.KEY_YEAR] and\n",
    "               tup[NumbersYearsStars.KEY_STAR] == first_tup[NumbersYearsStars.KEY_STAR]):\n",
    "                continue\n",
    "            else:\n",
    "                equal = False\n",
    "    if equal is False:\n",
    "        non_equal.append(text_dups)\n",
    "    elif not tup[NumbersYearsStars.KEY_STAR] == 3:\n",
    "        add_tuple(ys_no_dups, first_tup)\n",
    "        added += 1\n",
    "print('Added:', added)\n",
    "print('Non-equal:', len(non_equal))\n",
    "# Added: 1109870\n",
    "# Non-equal: 1010"
   ]
  },
  {
   "cell_type": "code",
   "execution_count": 58,
   "metadata": {},
   "outputs": [],
   "source": [
    "# Print non-duplicates\n",
    "# Print table\n",
    "if False:\n",
    "    printer.ipython_display(printer.get_dataframe_with_sums(ys_no_dups))\n",
    "if False:\n",
    "    print(printer.get_dataframe_markdown(printer.get_dataframe_with_sums(ys_no_dups), float_as_integer=True))"
   ]
  },
  {
   "cell_type": "markdown",
   "metadata": {},
   "source": [
    "|     |   1997 |   1998 |   1999 |   2000 |   2001 |   2002 |   2003 |   2004 |   2005 |   2006 |   2007 |   2008 |   2009 |   2010 |   2011 |   2012 |     Sum |\n",
    "|:----|-------:|-------:|-------:|-------:|-------:|-------:|-------:|-------:|-------:|-------:|-------:|-------:|-------:|-------:|-------:|-------:|--------:|\n",
    "| 1   |      2 |     26 |    597 |   2512 |   3015 |   3597 |   3689 |   6643 |  10413 |   9943 |  11125 |  12661 |  14150 |  15822 |  19132 |  21570 |  134897 |\n",
    "| 2   |    nan |     30 |    437 |   2162 |   2541 |   3048 |   3364 |   4880 |   7053 |   7050 |   8067 |   8417 |   8846 |   9536 |  11363 |  12041 |   88835 |\n",
    "| 4   |      4 |    146 |   2166 |   9832 |  11216 |  12257 |  13466 |  19364 |  25958 |  27917 |  37664 |  36838 |  37089 |  36408 |  40392 |  40528 |  351245 |\n",
    "| 5   |     14 |    561 |   7266 |  25204 |  26294 |  29576 |  32416 |  46222 |  64445 |  71619 | 108952 | 104455 | 112998 | 113957 | 130571 | 134571 | 1009121 |\n",
    "| Sum |     20 |    763 |  10466 |  39710 |  43066 |  48478 |  52935 |  77109 | 107869 | 116529 | 165808 | 162371 | 173083 | 175723 | 201458 | 208710 | 1584098 |"
   ]
  },
  {
   "cell_type": "code",
   "execution_count": 59,
   "metadata": {},
   "outputs": [
    {
     "name": "stdout",
     "output_type": "stream",
     "text": [
      "Added: 947\n",
      "Rest: 63\n"
     ]
    }
   ],
   "source": [
    "# If year is not 3, add first tuple to collected non-duplicates (ys_no_dups).\n",
    "rest = []\n",
    "added = 0\n",
    "print_eol = False\n",
    "for ne_list in non_equal:\n",
    "    if False: # Print list of review-numbers\n",
    "        print(ne_list)\n",
    "    add_tup = None\n",
    "    for rev_no in ne_list:\n",
    "        tup = nys.get_by_number(rev_no)\n",
    "        if False: # Print stars\n",
    "            print(tup[NumbersYearsStars.KEY_STAR], end=' ')\n",
    "            print_eol = True\n",
    "        if False: # Print years\n",
    "            print(tup[NumbersYearsStars.KEY_YEAR], end=' ')\n",
    "            print_eol = True\n",
    "        if(tup[NumbersYearsStars.KEY_STAR] != 3):\n",
    "            add_tup = tup\n",
    "            break\n",
    "    if add_tup is not None:\n",
    "        add_tuple(ys_no_dups, tup)\n",
    "        added += 1\n",
    "    else:\n",
    "        rest.append(ne_list)\n",
    "    if(print_eol):\n",
    "        print()\n",
    "print('Added:', added)\n",
    "print('Rest:', len(rest))"
   ]
  },
  {
   "cell_type": "code",
   "execution_count": 72,
   "metadata": {},
   "outputs": [
    {
     "name": "stdout",
     "output_type": "stream",
     "text": [
      "Only 3-star items left: True\n"
     ]
    }
   ],
   "source": [
    "# Rest only contains 3-star items\n",
    "only_3 = True\n",
    "for ne_list in rest:\n",
    "    for rev_no in ne_list:\n",
    "        if False:\n",
    "            print(nys.get_by_number(rev_no)[NumbersYearsStars.KEY_STAR], end=' ')\n",
    "        if(nys.get_by_number(rev_no)[NumbersYearsStars.KEY_STAR] != 3):\n",
    "            only_3 = False\n",
    "    if False:\n",
    "        print()\n",
    "print('Only 3-star items left:', only_3)"
   ]
  },
  {
   "cell_type": "code",
   "execution_count": 63,
   "metadata": {},
   "outputs": [],
   "source": [
    "if False:\n",
    "    printer.ipython_display(printer.get_dataframe_with_sums(ys_no_dups))\n",
    "if False:\n",
    "    print(printer.get_dataframe_markdown(printer.get_dataframe_with_sums(ys_no_dups), float_as_integer=True))"
   ]
  },
  {
   "cell_type": "markdown",
   "metadata": {},
   "source": [
    "|     |   1997 |   1998 |   1999 |   2000 |   2001 |   2002 |   2003 |   2004 |   2005 |   2006 |   2007 |   2008 |   2009 |   2010 |   2011 |   2012 |     Sum |\n",
    "|:----|-------:|-------:|-------:|-------:|-------:|-------:|-------:|-------:|-------:|-------:|-------:|-------:|-------:|-------:|-------:|-------:|--------:|\n",
    "| 1   |      2 |     26 |    597 |   2513 |   3017 |   3597 |   3692 |   6645 |  10415 |   9947 |  11130 |  12666 |  14156 |  15827 |  19142 |  21580 |  134952 |\n",
    "| 2   |    nan |     30 |    437 |   2163 |   2542 |   3051 |   3367 |   4882 |   7059 |   7055 |   8072 |   8424 |   8860 |   9548 |  11378 |  12053 |   88921 |\n",
    "| 4   |      4 |    146 |   2167 |   9834 |  11225 |  12262 |  13470 |  19372 |  25975 |  27939 |  37686 |  36864 |  37140 |  36444 |  40433 |  40571 |  351532 |\n",
    "| 5   |     14 |    561 |   7269 |  25212 |  26305 |  29588 |  32426 |  46244 |  64479 |  71667 | 109005 | 104520 | 113073 | 114020 | 130632 | 134625 | 1009640 |\n",
    "| Sum |     20 |    763 |  10470 |  39722 |  43089 |  48498 |  52955 |  77143 | 107928 | 116608 | 165893 | 162474 | 173229 | 175839 | 201585 | 208829 | 1585045 |\n",
    "\n",
    "Original:\n",
    "\n",
    "|     |   1997 |   1998 |   1999 |   2000 |   2001 |   2002 |   2003 |   2004 |   2005 |   2006 |   2007 |   2008 |   2009 |   2010 |   2011 |   2012 |     Sum |\n",
    "|:----|-------:|-------:|-------:|-------:|-------:|-------:|-------:|-------:|-------:|-------:|-------:|-------:|-------:|-------:|-------:|-------:|--------:|\n",
    "| 1   |      6 |    191 |   4844 |  19944 |  24221 |  25311 |  25734 |  41016 |  54744 |  49049 |  49521 |  56076 |  59099 |  65343 |  72957 |  81276 |  629332 |\n",
    "| 2   |      1 |    262 |   3631 |  17808 |  20320 |  22641 |  24183 |  33117 |  40868 |  37992 |  40205 |  40138 |  39680 |  41430 |  45767 |  47356 |  455399 |\n",
    "| 3   |      8 |    442 |   6458 |  30907 |  35395 |  37798 |  43323 |  60489 |  71012 |  66128 |  75239 |  74057 |  73178 |  70279 |  72055 |  74826 |  791594 |\n",
    "| 4   |     29 |    797 |  14178 |  73314 |  79152 |  84276 |  90527 | 119160 | 138000 | 135581 | 167632 | 161693 | 149771 | 142000 | 148457 | 150248 | 1654815 |\n",
    "| 5   |     64 |   3313 |  49866 | 192002 | 189638 | 198712 | 205916 | 257603 | 308080 | 311252 | 452009 | 412870 | 422403 | 426248 | 465918 | 484650 | 4380544 |\n",
    "| Sum |    108 |   5005 |  78977 | 333975 | 348726 | 368738 | 389683 | 511385 | 612704 | 600002 | 784606 | 744834 | 744131 | 745300 | 805154 | 838356 | 7911684 |"
   ]
  },
  {
   "cell_type": "code",
   "execution_count": null,
   "metadata": {},
   "outputs": [],
   "source": []
  }
 ],
 "metadata": {
  "kernelspec": {
   "display_name": "Python (EML4U)",
   "language": "python",
   "name": "eml4u"
  },
  "language_info": {
   "codemirror_mode": {
    "name": "ipython",
    "version": 3
   },
   "file_extension": ".py",
   "mimetype": "text/x-python",
   "name": "python",
   "nbconvert_exporter": "python",
   "pygments_lexer": "ipython3",
   "version": "3.8.5"
  }
 },
 "nbformat": 4,
 "nbformat_minor": 4
}
