{
 "cells": [
  {
   "cell_type": "markdown",
   "metadata": {},
   "source": [
    "# Opinion Collection\n",
    "\n",
    "Counts negarive and positive words of fields 'summary' and 'text'.\n",
    "\n",
    "- Results format: `[(line-number,  \n",
    "[(summary-negative-word, count)],  \n",
    "[(summary-positive-word, count)],  \n",
    "[(text-negative-word, count)],  \n",
    "[(text-positive-word, count)])]  `\n",
    "- e.g. `(6, [('pointless', 1)], [('pretty', 1)], [('badly', 1), ('revenge', 1)], [('holy', 1), ('good', 1)])` \n",
    "- e.g. `(64, [('loss', 1)], [], [('lost', 1), ('loss', 1), ('pain', 1)], [('helpful', 1), ('loved', 2), ('faith', 2), ('stronger', 1), ('love', 1), ('loving', 1)])`"
   ]
  },
  {
   "cell_type": "code",
   "execution_count": 15,
   "metadata": {},
   "outputs": [
    {
     "name": "stdout",
     "output_type": "stream",
     "text": [
      "The autoreload extension is already loaded. To reload it, use:\n",
      "  %reload_ext autoreload\n"
     ]
    }
   ],
   "source": [
    "# Reload modules every time before executing the Python code typed\n",
    "%load_ext autoreload\n",
    "%autoreload 2\n",
    "\n",
    "# Import from project root\n",
    "import sys; sys.path.insert(0, '../')\n",
    "\n",
    "import timeit\n",
    "from amore.opinion_collection import OpinionCollection"
   ]
  },
  {
   "cell_type": "markdown",
   "metadata": {},
   "source": [
    "## Test: Read/write"
   ]
  },
  {
   "cell_type": "code",
   "execution_count": 16,
   "metadata": {},
   "outputs": [],
   "source": [
    "max_docs       = 3\n",
    "file_id        = 'tmp_AMORE-OpinionCollection'\n",
    "file_id_counts = 'tmp_AMORE-OpinionCounts'\n",
    "print_index    = 0"
   ]
  },
  {
   "cell_type": "code",
   "execution_count": 17,
   "metadata": {},
   "outputs": [],
   "source": [
    "def print_result(result):\n",
    "    print(result[OpinionCollection.KEY_NUMBER])\n",
    "    print(result[OpinionCollection.KEY_NEGATIVE_SUMMARY])\n",
    "    print(result[OpinionCollection.KEY_POSITIVE_SUMMARY])\n",
    "    print(result[OpinionCollection.KEY_NEGATIVE_TEXT])\n",
    "    print(result[OpinionCollection.KEY_POSITIVE_TEXT])"
   ]
  },
  {
   "cell_type": "code",
   "execution_count": 18,
   "metadata": {},
   "outputs": [],
   "source": [
    "opinion_collection = OpinionCollection()"
   ]
  },
  {
   "cell_type": "code",
   "execution_count": 19,
   "metadata": {},
   "outputs": [
    {
     "name": "stdout",
     "output_type": "stream",
     "text": [
      "1\n",
      "[('darkness', 1)]\n",
      "[('miracle', 1)]\n",
      "[('raped', 1), ('desert', 2), ('undocumented', 1), ('relentless', 1), ('vicious', 1), ('attack', 1), ('wounds', 1), ('fanatical', 1), ('evil', 1), ('mysterious', 1), ('concerns', 1), ('unexpected', 1), ('plot', 1), ('fragile', 1)]\n",
      "[('enhanced', 1), ('fascination', 1), ('miracles', 1), ('heavenly', 1), ('interesting', 1), ('enough', 1), ('merit', 1), ('solid', 1), ('perfect', 1), ('visionary', 1)]\n"
     ]
    }
   ],
   "source": [
    "print_result(opinion_collection.collect(max_docs=max_docs).get_results()[print_index])"
   ]
  },
  {
   "cell_type": "code",
   "execution_count": 20,
   "metadata": {},
   "outputs": [
    {
     "name": "stdout",
     "output_type": "stream",
     "text": [
      "/tmp/InterimStorage/tmp_AMORE-OpinionCollection.pickle.bz2\n"
     ]
    }
   ],
   "source": [
    "print(opinion_collection.write(file_id=file_id))"
   ]
  },
  {
   "cell_type": "code",
   "execution_count": 21,
   "metadata": {},
   "outputs": [
    {
     "name": "stdout",
     "output_type": "stream",
     "text": [
      "1\n",
      "[('darkness', 1)]\n",
      "[('miracle', 1)]\n",
      "[('raped', 1), ('desert', 2), ('undocumented', 1), ('relentless', 1), ('vicious', 1), ('attack', 1), ('wounds', 1), ('fanatical', 1), ('evil', 1), ('mysterious', 1), ('concerns', 1), ('unexpected', 1), ('plot', 1), ('fragile', 1)]\n",
      "[('enhanced', 1), ('fascination', 1), ('miracles', 1), ('heavenly', 1), ('interesting', 1), ('enough', 1), ('merit', 1), ('solid', 1), ('perfect', 1), ('visionary', 1)]\n"
     ]
    }
   ],
   "source": [
    "print_result(OpinionCollection().read(file_id).get_results()[print_index])"
   ]
  },
  {
   "cell_type": "markdown",
   "metadata": {},
   "source": [
    "## Test: List to dictionary\n",
    "\n",
    "Create data structure to access tuples by get(line-number)"
   ]
  },
  {
   "cell_type": "code",
   "execution_count": 22,
   "metadata": {},
   "outputs": [],
   "source": [
    "print_no = print_index + 1"
   ]
  },
  {
   "cell_type": "code",
   "execution_count": 23,
   "metadata": {},
   "outputs": [
    {
     "name": "stdout",
     "output_type": "stream",
     "text": [
      "Runtime: 9.92179848253727e-05\n"
     ]
    }
   ],
   "source": [
    "time_begin = timeit.default_timer()\n",
    "opinion_collection.create_dictionary(clear_results=True)\n",
    "print('Runtime:', timeit.default_timer() - time_begin)\n",
    "# Runtime: 1.34 / 1.54"
   ]
  },
  {
   "cell_type": "code",
   "execution_count": 25,
   "metadata": {},
   "outputs": [
    {
     "name": "stdout",
     "output_type": "stream",
     "text": [
      "(1, [('darkness', 1)], [('miracle', 1)], [('raped', 1), ('desert', 2), ('undocumented', 1), ('relentless', 1), ('vicious', 1), ('attack', 1), ('wounds', 1), ('fanatical', 1), ('evil', 1), ('mysterious', 1), ('concerns', 1), ('unexpected', 1), ('plot', 1), ('fragile', 1)], [('enhanced', 1), ('fascination', 1), ('miracles', 1), ('heavenly', 1), ('interesting', 1), ('enough', 1), ('merit', 1), ('solid', 1), ('perfect', 1), ('visionary', 1)])\n",
      "\n",
      "1\n",
      "[('darkness', 1)]\n",
      "[('miracle', 1)]\n",
      "[('raped', 1), ('desert', 2), ('undocumented', 1), ('relentless', 1), ('vicious', 1), ('attack', 1), ('wounds', 1), ('fanatical', 1), ('evil', 1), ('mysterious', 1), ('concerns', 1), ('unexpected', 1), ('plot', 1), ('fragile', 1)]\n",
      "[('enhanced', 1), ('fascination', 1), ('miracles', 1), ('heavenly', 1), ('interesting', 1), ('enough', 1), ('merit', 1), ('solid', 1), ('perfect', 1), ('visionary', 1)]\n"
     ]
    }
   ],
   "source": [
    "print(opinion_collection.get(print_no))\n",
    "print()\n",
    "print(opinion_collection.get(print_no)[OpinionCollection.KEY_NUMBER])\n",
    "print(opinion_collection.get(print_no)[OpinionCollection.KEY_NEGATIVE_SUMMARY])\n",
    "print(opinion_collection.get(print_no)[OpinionCollection.KEY_POSITIVE_SUMMARY])\n",
    "print(opinion_collection.get(print_no)[OpinionCollection.KEY_NEGATIVE_TEXT])\n",
    "print(opinion_collection.get(print_no)[OpinionCollection.KEY_POSITIVE_TEXT])"
   ]
  },
  {
   "cell_type": "markdown",
   "metadata": {},
   "source": [
    "## Test: Comparison numbers"
   ]
  },
  {
   "cell_type": "code",
   "execution_count": 26,
   "metadata": {},
   "outputs": [
    {
     "name": "stdout",
     "output_type": "stream",
     "text": [
      "3\n",
      "Runtime: 0.0006238301284611225\n"
     ]
    }
   ],
   "source": [
    "time_begin = timeit.default_timer()\n",
    "opinion_collection.create_positive_minus_negative()\n",
    "print(len(opinion_collection.pos_neg))\n",
    "print('Runtime:', timeit.default_timer() - time_begin)\n",
    "# 7911684\n",
    "# Runtime: 46 / 48"
   ]
  },
  {
   "cell_type": "code",
   "execution_count": 27,
   "metadata": {},
   "outputs": [
    {
     "name": "stdout",
     "output_type": "stream",
     "text": [
      "(-5, -4)\n",
      "(1, -5, -4)\n"
     ]
    }
   ],
   "source": [
    "print(opinion_collection.get_positive_minus_negative()[print_no])\n",
    "print(opinion_collection.create_positive_minus_negative_tuple(opinion_collection.get(print_no)))"
   ]
  },
  {
   "cell_type": "markdown",
   "metadata": {},
   "source": [
    "## Read/write test"
   ]
  },
  {
   "cell_type": "code",
   "execution_count": 27,
   "metadata": {},
   "outputs": [
    {
     "data": {
      "text/plain": [
       "'/tmp/InterimStorage/tmp_AMORE-OpinionCounts.pickle.bz2'"
      ]
     },
     "execution_count": 27,
     "metadata": {},
     "output_type": "execute_result"
    }
   ],
   "source": [
    "opinion_collection.write_counts(file_id=file_id_counts)"
   ]
  },
  {
   "cell_type": "code",
   "execution_count": 29,
   "metadata": {},
   "outputs": [
    {
     "name": "stdout",
     "output_type": "stream",
     "text": [
      "(-5, -4)\n"
     ]
    }
   ],
   "source": [
    "print(OpinionCollection().read_counts(file_id=file_id_counts).get_positive_minus_negative()[print_no])"
   ]
  },
  {
   "cell_type": "code",
   "execution_count": null,
   "metadata": {},
   "outputs": [],
   "source": []
  }
 ],
 "metadata": {
  "kernelspec": {
   "display_name": "Python (EML4U)",
   "language": "python",
   "name": "eml4u"
  },
  "language_info": {
   "codemirror_mode": {
    "name": "ipython",
    "version": 3
   },
   "file_extension": ".py",
   "mimetype": "text/x-python",
   "name": "python",
   "nbconvert_exporter": "python",
   "pygments_lexer": "ipython3",
   "version": "3.8.5"
  }
 },
 "nbformat": 4,
 "nbformat_minor": 4
}
