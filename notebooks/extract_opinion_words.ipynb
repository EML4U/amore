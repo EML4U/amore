{
 "cells": [
  {
   "cell_type": "markdown",
   "metadata": {},
   "source": [
    "# Opinion word extraction"
   ]
  },
  {
   "cell_type": "code",
   "execution_count": 2,
   "metadata": {},
   "outputs": [],
   "source": [
    "# Reload modules every time before executing the Python code typed\n",
    "%load_ext autoreload\n",
    "%autoreload 2\n",
    "\n",
    "# Import from project root\n",
    "import sys; sys.path.insert(0, '../')\n",
    "\n",
    "import timeit\n",
    "from access.interim_storage import InterimStorage\n",
    "from amore.opinion_collection import OpinionCollection"
   ]
  },
  {
   "cell_type": "code",
   "execution_count": null,
   "metadata": {},
   "outputs": [],
   "source": [
    "max_docs = 10"
   ]
  },
  {
   "cell_type": "markdown",
   "metadata": {},
   "source": [
    "## Collect positive and negative words of summaries and texts"
   ]
  },
  {
   "cell_type": "code",
   "execution_count": null,
   "metadata": {},
   "outputs": [],
   "source": [
    "# Collect positive and negative words of summaries and texts\n",
    "time_begin = timeit.default_timer()\n",
    "opinion_collection = OpinionCollection().collect(max_docs=max_docs)\n",
    "print('Runtime:', timeit.default_timer() - time_begin)"
   ]
  },
  {
   "cell_type": "code",
   "execution_count": null,
   "metadata": {},
   "outputs": [],
   "source": [
    "# Prints examples\n",
    "if True:\n",
    "    print(len(opinion_collection.get_results()))\n",
    "if True:\n",
    "    print(opinion_collection.get_results()[0])"
   ]
  },
  {
   "cell_type": "code",
   "execution_count": null,
   "metadata": {},
   "outputs": [],
   "source": [
    "# Write results\n",
    "filepath = opinion_collection.write(file_id=None, directory=None, type_=InterimStorage.JSON_GZ)\n",
    "print(filepath)"
   ]
  },
  {
   "cell_type": "code",
   "execution_count": null,
   "metadata": {},
   "outputs": [],
   "source": [
    "# Test: Read results\n",
    "if False:\n",
    "    print(len(OpinionCollection().read(file_id=None, directory=None, type_=InterimStorage.JSON_GZ).get_results()))"
   ]
  },
  {
   "cell_type": "markdown",
   "metadata": {},
   "source": [
    "## Create counts\n",
    "\n",
    "E.g. `(1, (-5, -4))`"
   ]
  },
  {
   "cell_type": "code",
   "execution_count": null,
   "metadata": {},
   "outputs": [],
   "source": [
    "time_begin = timeit.default_timer()\n",
    "opinion_collection.create_positive_minus_negative()\n",
    "print('Runtime:', timeit.default_timer() - time_begin)"
   ]
  },
  {
   "cell_type": "code",
   "execution_count": null,
   "metadata": {},
   "outputs": [],
   "source": [
    "# Prints examples\n",
    "if True:\n",
    "    print(len(opinion_collection.get_positive_minus_negative()))\n",
    "if True:\n",
    "    print(next(iter(opinion_collection.get_positive_minus_negative().items())))"
   ]
  },
  {
   "cell_type": "code",
   "execution_count": null,
   "metadata": {},
   "outputs": [],
   "source": [
    "# Write results\n",
    "filepath = opinion_collection.write_counts(file_id=None, directory=None, type_=InterimStorage.JSON_GZ)\n",
    "print(filepath)"
   ]
  },
  {
   "cell_type": "code",
   "execution_count": null,
   "metadata": {},
   "outputs": [],
   "source": [
    "# Test: Read results\n",
    "if False:\n",
    "    print(len(OpinionCollection().read_counts(file_id=None, directory=None, type_=InterimStorage.JSON_GZ).get_positive_minus_negative().items()))"
   ]
  },
  {
   "cell_type": "markdown",
   "metadata": {},
   "source": [
    "## Convert old PICKLE_BZ2 to JSON_GZ"
   ]
  },
  {
   "cell_type": "code",
   "execution_count": 4,
   "metadata": {},
   "outputs": [],
   "source": [
    "if False:\n",
    "    opinion_collection = OpinionCollection()\n",
    "    opinion_collection.read(file_id=None, directory=None, type_=InterimStorage.PICKLE_BZ2)\n",
    "    print(len(opinion_collection.get_results()))\n",
    "    opinion_collection.write(file_id=None, directory=None, type_=InterimStorage.JSON_GZ)"
   ]
  },
  {
   "cell_type": "code",
   "execution_count": 5,
   "metadata": {},
   "outputs": [
    {
     "name": "stdout",
     "output_type": "stream",
     "text": [
      "7911684\n"
     ]
    }
   ],
   "source": [
    "if False:\n",
    "    opinion_collection = OpinionCollection()\n",
    "    opinion_collection.read_counts(file_id=None, directory=None, type_=InterimStorage.PICKLE_BZ2)\n",
    "    print(len(opinion_collection.get_positive_minus_negative()))\n",
    "    opinion_collection.write_counts(file_id=None, directory=None, type_=InterimStorage.JSON_GZ)"
   ]
  },
  {
   "cell_type": "code",
   "execution_count": null,
   "metadata": {},
   "outputs": [],
   "source": []
  }
 ],
 "metadata": {
  "kernelspec": {
   "display_name": "Python (EML4U)",
   "language": "python",
   "name": "eml4u"
  },
  "language_info": {
   "codemirror_mode": {
    "name": "ipython",
    "version": 3
   },
   "file_extension": ".py",
   "mimetype": "text/x-python",
   "name": "python",
   "nbconvert_exporter": "python",
   "pygments_lexer": "ipython3",
   "version": "3.8.5"
  }
 },
 "nbformat": 4,
 "nbformat_minor": 4
}
