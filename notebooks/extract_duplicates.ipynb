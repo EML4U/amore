{
 "cells": [
  {
   "cell_type": "markdown",
   "metadata": {},
   "source": [
    "# Duplicates\n",
    "\n",
    "- Hashids (not used, created from numbers)\n",
    "    - https://github.com/davidaurelio/hashids-python\n",
    "    - https://hashids.org/\n",
    "    - https://hashids.org/python/\n",
    "- Nano ID (not used, can be used to generate IDs)\n",
    "    - https://github.com/puyuan/py-nanoid\n",
    "    - https://zelark.github.io/nano-id-cc/\n",
    "    - https://github.com/ai/nanoid"
   ]
  },
  {
   "cell_type": "code",
   "execution_count": 34,
   "metadata": {},
   "outputs": [
    {
     "name": "stdout",
     "output_type": "stream",
     "text": [
      "The autoreload extension is already loaded. To reload it, use:\n",
      "  %reload_ext autoreload\n"
     ]
    }
   ],
   "source": [
    "# Reload modules every time before executing the Python code typed\n",
    "%load_ext autoreload\n",
    "%autoreload 2\n",
    "\n",
    "# Import from project root\n",
    "import sys; sys.path.insert(0, '../')\n",
    "\n",
    "from access.file_storage import FileStorage\n",
    "from amore.amazon_reviews_reader import AmazonReviewsReader\n",
    "from access.interim_storage import InterimStorage"
   ]
  },
  {
   "cell_type": "code",
   "execution_count": 18,
   "metadata": {},
   "outputs": [],
   "source": [
    "file_storage = FileStorage()"
   ]
  },
  {
   "cell_type": "markdown",
   "metadata": {},
   "source": [
    "## Duplicates Summary"
   ]
  },
  {
   "cell_type": "code",
   "execution_count": 3,
   "metadata": {},
   "outputs": [],
   "source": [
    "hashes = {}\n",
    "def add(value, id_):\n",
    "    hash_ = hash(value)\n",
    "    if hash_ not in hashes.keys():\n",
    "        hashes[hash_] = []\n",
    "    hashes.get(hash_).append(id_)"
   ]
  },
  {
   "cell_type": "code",
   "execution_count": 4,
   "metadata": {},
   "outputs": [],
   "source": [
    "reader = AmazonReviewsReader(file_storage.get_filepath('amazon_gz_file'), AmazonReviewsReader.MODE_TYPED, max_docs=-1)\n",
    "for item in reader:\n",
    "    add(item[reader.KEY_SUMMARY], item[reader.KEY_NUMBER])"
   ]
  },
  {
   "cell_type": "code",
   "execution_count": 6,
   "metadata": {},
   "outputs": [
    {
     "name": "stdout",
     "output_type": "stream",
     "text": [
      "(8742141089905401223, [1, 5615911])\n",
      "(-6856521471110051988, [2, 5615912])\n",
      "(1006106190162785088, [3, 5615913])\n",
      "(6075284711070429300, [4, 5615914])\n",
      "(8679958313454447796, [5, 5615915])\n",
      "(-1160456810492988991, [6, 5615916])\n",
      "(5049112451982364348, [7, 5615917])\n",
      "(-8857767095753472729, [8, 7507923])\n",
      "(-2371164931359160086, [9, 7507924])\n",
      "(6908055739787997352, [10, 7507925])\n",
      "(661915936023896424, [11, 91590, 416584, 755769, 1659378, 2424549, 2969893, 3215806, 3276020, 3693869, 4150598, 4801443, 5197236, 5955677, 6682709, 6927060, 6934007, 7507926, 7607661])\n"
     ]
    }
   ],
   "source": [
    "# Print some examples\n",
    "i = 0\n",
    "for item in hashes.items():\n",
    "    i += 1\n",
    "    if(len(item[1]) > 1):\n",
    "        print(item)\n",
    "    if(i>10):\n",
    "        break"
   ]
  },
  {
   "cell_type": "markdown",
   "metadata": {},
   "source": [
    "```\n",
    "(8742141089905401223, [1, 5615911])\n",
    "(-6856521471110051988, [2, 5615912])\n",
    "(1006106190162785088, [3, 5615913])\n",
    "(6075284711070429300, [4, 5615914])\n",
    "(8679958313454447796, [5, 5615915])\n",
    "(-1160456810492988991, [6, 5615916])\n",
    "(5049112451982364348, [7, 5615917])\n",
    "(-8857767095753472729, [8, 7507923])\n",
    "(-2371164931359160086, [9, 7507924])\n",
    "(6908055739787997352, [10, 7507925])\n",
    "(661915936023896424, [11, 91590, 416584, 755769, 1659378, 2424549, 2969893, 3215806, 3276020, 3693869, 4150598, 4801443, 5197236, 5955677, 6682709, 6927060, 6934007, 7507926, 7607661])\n",
    "```"
   ]
  },
  {
   "cell_type": "code",
   "execution_count": 7,
   "metadata": {},
   "outputs": [],
   "source": [
    "# Collect duplicates\n",
    "duplicates = {}\n",
    "for item in hashes.items():\n",
    "    if(len(item[1]) > 1):\n",
    "        duplicates[item[0]] = item[1]"
   ]
  },
  {
   "cell_type": "code",
   "execution_count": 8,
   "metadata": {},
   "outputs": [
    {
     "name": "stdout",
     "output_type": "stream",
     "text": [
      "994312\n"
     ]
    }
   ],
   "source": [
    "# How many duplicate summaries are there?\n",
    "print(len(duplicates))\n",
    "# 994,312"
   ]
  },
  {
   "cell_type": "code",
   "execution_count": 9,
   "metadata": {},
   "outputs": [
    {
     "name": "stdout",
     "output_type": "stream",
     "text": [
      "7412716\n"
     ]
    }
   ],
   "source": [
    "# How many reviews are affected?\n",
    "dup_summaries = 0\n",
    "for item in duplicates.items():\n",
    "    dup_summaries += len(item[1])\n",
    "print(dup_summaries)\n",
    "# 7,412,716"
   ]
  },
  {
   "cell_type": "code",
   "execution_count": 11,
   "metadata": {},
   "outputs": [
    {
     "name": "stdout",
     "output_type": "stream",
     "text": [
      "93.6932769306762\n"
     ]
    }
   ],
   "source": [
    "# How much percent of reviews are affected?\n",
    "print(7412716*100/7911684)\n",
    "# 93.6932769306762"
   ]
  },
  {
   "cell_type": "code",
   "execution_count": 14,
   "metadata": {},
   "outputs": [
    {
     "name": "stdout",
     "output_type": "stream",
     "text": [
      "21560\n"
     ]
    }
   ],
   "source": [
    "# How often is a summary used most?\n",
    "max_ = 0\n",
    "max_dup = None\n",
    "for item in duplicates.items():\n",
    "    if(len(item[1]) > max_):\n",
    "        max_ = len(item[1])\n",
    "        max_dup = item\n",
    "print(len(max_dup[1]))\n",
    "# 21,560"
   ]
  },
  {
   "cell_type": "code",
   "execution_count": 15,
   "metadata": {},
   "outputs": [
    {
     "name": "stdout",
     "output_type": "stream",
     "text": [
      "158 177\n"
     ]
    }
   ],
   "source": [
    "print(max_dup[1][0], max_dup[1][1])\n",
    "# 158 177"
   ]
  },
  {
   "cell_type": "code",
   "execution_count": 16,
   "metadata": {},
   "outputs": [
    {
     "name": "stdout",
     "output_type": "stream",
     "text": [
      "158 Great Movie\n",
      "177 Great Movie\n"
     ]
    }
   ],
   "source": [
    "reader = AmazonReviewsReader(file_storage.get_filepath('amazon_gz_file'), AmazonReviewsReader.MODE_TYPED, max_docs=max_dup[1][1])\n",
    "for item in reader:\n",
    "    if max_dup[1][0] == item[reader.KEY_NUMBER]:\n",
    "        print(item[reader.KEY_NUMBER], item[reader.KEY_SUMMARY])\n",
    "    if max_dup[1][1] == item[reader.KEY_NUMBER]:\n",
    "        print(item[reader.KEY_NUMBER], item[reader.KEY_SUMMARY])\n",
    "# 158 Great Movie\n",
    "# 177 Great Movie"
   ]
  },
  {
   "cell_type": "markdown",
   "metadata": {},
   "source": [
    "## Duplicates Text"
   ]
  },
  {
   "cell_type": "code",
   "execution_count": 19,
   "metadata": {},
   "outputs": [],
   "source": [
    "hashes = {}\n",
    "def add(value, id_):\n",
    "    hash_ = hash(value)\n",
    "    if hash_ not in hashes.keys():\n",
    "        hashes[hash_] = []\n",
    "    hashes.get(hash_).append(id_)"
   ]
  },
  {
   "cell_type": "code",
   "execution_count": 20,
   "metadata": {},
   "outputs": [],
   "source": [
    "reader = AmazonReviewsReader(file_storage.get_filepath('amazon_gz_file'), AmazonReviewsReader.MODE_TYPED, max_docs=-1)\n",
    "for item in reader:\n",
    "    add(item[reader.KEY_TEXT], item[reader.KEY_NUMBER])"
   ]
  },
  {
   "cell_type": "code",
   "execution_count": 21,
   "metadata": {},
   "outputs": [
    {
     "name": "stdout",
     "output_type": "stream",
     "text": [
      "(4854435447205200643, [1, 5615911])\n",
      "(-7494022413628589972, [2, 5615912])\n",
      "(-1023813417184413116, [3, 5615913])\n",
      "(2574244970336295647, [4, 5615914])\n",
      "(-7391229488407564434, [5, 5615915])\n",
      "(-2810315234101830939, [6, 5615916])\n",
      "(-3990013437796144330, [7, 5615917])\n",
      "(-1068587347593198195, [8, 7507923])\n",
      "(4863081930228707244, [9, 7507924])\n",
      "(-8023556520406721051, [10, 7507925])\n",
      "(-8374879346952075810, [11, 7507926])\n"
     ]
    }
   ],
   "source": [
    "# Print some examples\n",
    "i = 0\n",
    "for item in hashes.items():\n",
    "    i += 1\n",
    "    if(len(item[1]) > 1):\n",
    "        print(item)\n",
    "    if(i>10):\n",
    "        break"
   ]
  },
  {
   "cell_type": "code",
   "execution_count": 22,
   "metadata": {},
   "outputs": [],
   "source": [
    "# Collect duplicates\n",
    "duplicates = {}\n",
    "for item in hashes.items():\n",
    "    if(len(item[1]) > 1):\n",
    "        duplicates[item[0]] = item[1]"
   ]
  },
  {
   "cell_type": "code",
   "execution_count": 23,
   "metadata": {},
   "outputs": [
    {
     "name": "stdout",
     "output_type": "stream",
     "text": [
      "1239822\n"
     ]
    }
   ],
   "source": [
    "# How many duplicate texts are there?\n",
    "print(len(duplicates))\n",
    "# 1,239,822"
   ]
  },
  {
   "cell_type": "code",
   "execution_count": 24,
   "metadata": {},
   "outputs": [
    {
     "name": "stdout",
     "output_type": "stream",
     "text": [
      "7241411\n"
     ]
    }
   ],
   "source": [
    "# How many reviews are affected?\n",
    "dup_texts = 0\n",
    "for item in duplicates.items():\n",
    "    dup_texts += len(item[1])\n",
    "print(dup_texts)\n",
    "# 7,241,411"
   ]
  },
  {
   "cell_type": "code",
   "execution_count": 25,
   "metadata": {},
   "outputs": [
    {
     "name": "stdout",
     "output_type": "stream",
     "text": [
      "91.52806153531915\n"
     ]
    }
   ],
   "source": [
    "# How much percent of reviews are affected?\n",
    "print(7241411*100/7911684)\n",
    "# 91.52806153531915"
   ]
  },
  {
   "cell_type": "code",
   "execution_count": 26,
   "metadata": {},
   "outputs": [
    {
     "name": "stdout",
     "output_type": "stream",
     "text": [
      "341\n"
     ]
    }
   ],
   "source": [
    "# How often is a text used most?\n",
    "max_ = 0\n",
    "max_dup = None\n",
    "for item in duplicates.items():\n",
    "    if(len(item[1]) > max_):\n",
    "        max_ = len(item[1])\n",
    "        max_dup = item\n",
    "print(len(max_dup[1]))\n",
    "# 341"
   ]
  },
  {
   "cell_type": "code",
   "execution_count": 30,
   "metadata": {},
   "outputs": [
    {
     "name": "stdout",
     "output_type": "stream",
     "text": [
      "17302 18426 -8665086582985261258\n"
     ]
    }
   ],
   "source": [
    "print(max_dup[1][0], max_dup[1][1], max_dup[0])\n",
    "# 17302 18426"
   ]
  },
  {
   "cell_type": "code",
   "execution_count": 29,
   "metadata": {},
   "outputs": [
    {
     "name": "stdout",
     "output_type": "stream",
     "text": [
      "17302 BLU-RAY VERSION IS WORTH BUYING. I DON'T NEED TO TELL YOU ABOUT THE MOVIE, OTHERS ALREADY HAVE. BUT, NOT TOO MANY PEOPLE TELL YOU IF IT IS WORTH UPGRADING FROM YOUR REGULAR DVD TO BLU-RAY. THIS ONE IS WORTH IT. COLORS ARE STUNNING AND SOUNDS GREAT.\n",
      "18426 BLU-RAY VERSION IS WORTH BUYING. I DON'T NEED TO TELL YOU ABOUT THE MOVIE, OTHERS ALREADY HAVE. BUT, NOT TOO MANY PEOPLE TELL YOU IF IT IS WORTH UPGRADING FROM YOUR REGULAR DVD TO BLU-RAY. THIS ONE IS WORTH IT. COLORS ARE STUNNING AND SOUNDS GREAT.\n"
     ]
    }
   ],
   "source": [
    "reader = AmazonReviewsReader(file_storage.get_filepath('amazon_gz_file'), AmazonReviewsReader.MODE_TYPED, max_docs=max_dup[1][1])\n",
    "for item in reader:\n",
    "    if max_dup[1][0] == item[reader.KEY_NUMBER]:\n",
    "        print(item[reader.KEY_NUMBER], item[reader.KEY_TEXT])\n",
    "    if max_dup[1][1] == item[reader.KEY_NUMBER]:\n",
    "        print(item[reader.KEY_NUMBER], item[reader.KEY_TEXT])\n",
    "# 17302 BLU-RAY VERSION IS WORTH BUYING. I DON'T NEED TO TELL YOU ABOUT THE MOVIE, OTHERS ALREADY HAVE. BUT, NOT TOO MANY PEOPLE TELL YOU IF IT IS WORTH UPGRADING FROM YOUR REGULAR DVD TO BLU-RAY. THIS ONE IS WORTH IT. COLORS ARE STUNNING AND SOUNDS GREAT.\n",
    "# 18426 BLU-RAY VERSION IS WORTH BUYING. I DON'T NEED TO TELL YOU ABOUT THE MOVIE, OTHERS ALREADY HAVE. BUT, NOT TOO MANY PEOPLE TELL YOU IF IT IS WORTH UPGRADING FROM YOUR REGULAR DVD TO BLU-RAY. THIS ONE IS WORTH IT. COLORS ARE STUNNING AND SOUNDS GREAT."
   ]
  },
  {
   "cell_type": "code",
   "execution_count": 31,
   "metadata": {},
   "outputs": [
    {
     "name": "stdout",
     "output_type": "stream",
     "text": [
      "325\n"
     ]
    }
   ],
   "source": [
    "# How often is a text used second most?\n",
    "max_ = 0\n",
    "max_dup = None\n",
    "for item in duplicates.items():\n",
    "    if(item[0] == -8665086582985261258):\n",
    "        continue\n",
    "    if(len(item[1]) > max_):\n",
    "        max_ = len(item[1])\n",
    "        max_dup = item\n",
    "print(len(max_dup[1]))\n",
    "# 325"
   ]
  },
  {
   "cell_type": "code",
   "execution_count": 32,
   "metadata": {},
   "outputs": [
    {
     "name": "stdout",
     "output_type": "stream",
     "text": [
      "7626 Purchased this for my grown daughter - VHS just doesn't cut it - by the time a new format comes out - she'll have to buy her own\n",
      "12233 Purchased this for my grown daughter - VHS just doesn't cut it - by the time a new format comes out - she'll have to buy her own\n"
     ]
    }
   ],
   "source": [
    "reader = AmazonReviewsReader(file_storage.get_filepath('amazon_gz_file'), AmazonReviewsReader.MODE_TYPED, max_docs=max_dup[1][1])\n",
    "for item in reader:\n",
    "    if max_dup[1][0] == item[reader.KEY_NUMBER]:\n",
    "        print(item[reader.KEY_NUMBER], item[reader.KEY_TEXT])\n",
    "    if max_dup[1][1] == item[reader.KEY_NUMBER]:\n",
    "        print(item[reader.KEY_NUMBER], item[reader.KEY_TEXT])\n",
    "# 7626 Purchased this for my grown daughter - VHS just doesn't cut it - by the time a new format comes out - she'll have to buy her own\n",
    "# 12233 Purchased this for my grown daughter - VHS just doesn't cut it - by the time a new format comes out - she'll have to buy her own"
   ]
  },
  {
   "cell_type": "markdown",
   "metadata": {},
   "source": [
    "## Write"
   ]
  },
  {
   "cell_type": "code",
   "execution_count": 42,
   "metadata": {},
   "outputs": [
    {
     "data": {
      "text/plain": [
       "'/tmp/InterimStorage/AMORE-TextDuplicates.json.gz'"
      ]
     },
     "execution_count": 42,
     "metadata": {},
     "output_type": "execute_result"
    }
   ],
   "source": [
    "file_id = 'AMORE-TextDuplicates'\n",
    "interim_storage = InterimStorage(file_id, type_=InterimStorage.JSON_GZ).write(list(duplicates.values()))\n",
    "interim_storage.get_filepath()"
   ]
  },
  {
   "cell_type": "code",
   "execution_count": null,
   "metadata": {},
   "outputs": [],
   "source": []
  }
 ],
 "metadata": {
  "kernelspec": {
   "display_name": "Python (EML4U)",
   "language": "python",
   "name": "eml4u"
  },
  "language_info": {
   "codemirror_mode": {
    "name": "ipython",
    "version": 3
   },
   "file_extension": ".py",
   "mimetype": "text/x-python",
   "name": "python",
   "nbconvert_exporter": "python",
   "pygments_lexer": "ipython3",
   "version": "3.8.5"
  }
 },
 "nbformat": 4,
 "nbformat_minor": 4
}
